{
 "cells": [
  {
   "attachments": {},
   "cell_type": "markdown",
   "metadata": {},
   "source": [
    "# Analyzing the Solow model with human capital accumulation."
   ]
  },
  {
   "attachments": {},
   "cell_type": "markdown",
   "metadata": {},
   "source": [
    "Imports and set magics:"
   ]
  },
  {
   "cell_type": "code",
   "execution_count": 85,
   "metadata": {},
   "outputs": [
    {
     "name": "stdout",
     "output_type": "stream",
     "text": [
      "The autoreload extension is already loaded. To reload it, use:\n",
      "  %reload_ext autoreload\n"
     ]
    }
   ],
   "source": [
    "import numpy as np\n",
    "from scipy import linalg\n",
    "from scipy import optimize\n",
    "import sympy as sm\n",
    "import matplotlib.pyplot as plt\n",
    "\n",
    "# autoreload modules when code is run\n",
    "%load_ext autoreload\n",
    "%autoreload 2\n",
    "\n",
    "# local modules \n",
    "from modelproject import HumanCapitalSolowModelClass"
   ]
  },
  {
   "attachments": {},
   "cell_type": "markdown",
   "metadata": {},
   "source": [
    "# Model description"
   ]
  },
  {
   "attachments": {},
   "cell_type": "markdown",
   "metadata": {},
   "source": [
    "**Description of the model:** \n",
    "\n",
    "The Solow model with human capital is an extension of the basic Solow model, which is an economic model developed to explain long-term economic growth. The basic Solow model focuses on the role of physical capital accumulation as the primary driver of economic growth. In contrast, the Solow model with human capital includes the role of education and knowledge as factors that contribute to economic growth.\n",
    "\n",
    "The purpose of the Solow model with human capital is to provide a framework for understanding how investments in human capital, such as education and training, can lead to economic growth over the long term. This model assumes that human capital is a form of productive capital, which means that it can be used to produce goods and services just like physical capital. \n",
    "\n",
    "In the Solow model with human capital, the level of human capital in an economy is represented by the stock of knowledge and skills that workers possess. This stock of human capital can be increased through investments in education and training, which increases the productivity of workers. But as with physical capital, there is deminishing returns on human captal. \n",
    "\n",
    "**The model:** \n",
    "The Solow model with human capital as presented in Macroeconomics I, tought at the University of Copenhagen follwing the textbook: “Introducing Advanced Macroeconomics: Growth and Business Cycles”. 3. edition (2022) by Peter Birch Sørensen and Hans Jørgen Whitta-Jacobsen:\n",
    "\n",
    "**Variables:**\n",
    "1. $Y_t$: Production/Income at time t.\n",
    "2. $K_t$ is the physical capital stock at time t.\n",
    "4. $K_t$ is the human capital stock at time t.\n",
    "4. $L_t$ is the labor supply at time t.\n",
    "5. $A_t$ is technology level at time t.\n",
    "\n",
    "**Parameters:**\n",
    "1. $\\alpha$: is the elasticity of $Y_t$ wrt. $K_t$.\n",
    "2. $\\varphi$: is the elasticity of $Y_t$ wrt. $H_t$.\n",
    "4. $s_K$: is the savings/investment rate in physical capital.\n",
    "4. $s_H$: is the savings/investment rate in human capital.\n",
    "5. n: is the growth rate of the labor supply.\n",
    "6. g: is the growth rate of the technology level.\n",
    "7. $\\delta$: is the depreciation rate af human and physical capital.\n",
    "\n",
    "**Model equations:**\n",
    "\n",
    "The Cobb-Douglas production function:\n",
    "\n",
    "$$\n",
    "Y_t = K_t^\\alpha H_t^\\varphi (A_t L_t)^{1-\\alpha-\\varphi}\n",
    "$$\n",
    "\n",
    "Population growth:\n",
    "$$\n",
    "L_{t+1} = (1+n)L_t\n",
    "$$\n",
    "\n",
    "Technology growth:\n",
    "$$\n",
    "A_{t+1} = (1+g)A_t\n",
    "$$\n",
    "\n",
    "Physical capital accumulation:\n",
    "$$\n",
    "K_{t+1} = s_K Y_t + (1-\\delta)K_t\n",
    "$$\n",
    "\n",
    "Human capital accumulation:\n",
    "$$\n",
    "H_{t+1} = s_H Y_t + (1-\\delta)H_t\n",
    "$$\n",
    "\n",
    "**Defining tilde variables:**\n",
    "\n",
    "The tilde variables are the variables per effective worker:\n",
    "$$\n",
    "\\tilde y_t \\equiv \\frac{Y_t}{A_t L_t}\n",
    "$$\n",
    "$$\n",
    "\\tilde k_t \\equiv \\frac{K_t}{A_t L_t}\n",
    "$$\n",
    "$$\n",
    "\\tilde h_t \\equiv \\frac{H_t}{A_t L_t}\n",
    "$$\n",
    "\n",
    "**Transition equations and the new production function:**\n",
    "\n",
    "The transition equations and the new production function can be found by inserting the tilde variables into the model equations:\n",
    "\n",
    "The new production function:\n",
    "$$\n",
    "\\tilde y_t = \\tilde k_t^\\alpha \\tilde h_t^\\varphi\n",
    "$$\n",
    "\n",
    "The transition equations:\n",
    "$$\n",
    "\\tilde k_{t+1} = \\frac{1}{(1+n)(1+g)} (s_K \\tilde k_t^\\alpha \\tilde h_t^\\varphi + (1-\\delta)\\tilde k_t)\n",
    "$$\n",
    "$$\n",
    "\\tilde h_{t+1} = \\frac{1}{(1+n)(1+g)} (s_H \\tilde k_t^\\alpha \\tilde h_t^\\varphi + (1-\\delta)\\tilde h_t)\n",
    "$$"
   ]
  },
  {
   "attachments": {},
   "cell_type": "markdown",
   "metadata": {},
   "source": [
    "## Analytical solution"
   ]
  },
  {
   "attachments": {},
   "cell_type": "markdown",
   "metadata": {},
   "source": [
    "The analytical solution will be found using Sympy.\n",
    "1. We will define the variables and parameters of the model in Sympy: "
   ]
  },
  {
   "cell_type": "code",
   "execution_count": 23,
   "metadata": {},
   "outputs": [],
   "source": [
    "# Variables\n",
    "y = sm.symbols('y')\n",
    "k = sm.symbols('k')\n",
    "h = sm.symbols('h')\n",
    "L = sm.symbols('L')\n",
    "A = sm.symbols('A')\n",
    "\n",
    "# Parameters\n",
    "alpha = sm.symbols('alpha')\n",
    "phi = sm.symbols('phi')\n",
    "s_K = sm.symbols('s_K')\n",
    "s_H = sm.symbols('s_H')\n",
    "n = sm.symbols('n')\n",
    "g = sm.symbols('g')\n",
    "delta = sm.symbols('delta')"
   ]
  },
  {
   "attachments": {},
   "cell_type": "markdown",
   "metadata": {},
   "source": [
    "2. Now we find the analytical solution by calculating the nulclines:\n",
    "\n",
    "First we subtract $\\tilde k_{t}$ and $\\tilde h_{t}$ in their respective transition equations. \n",
    "\n",
    "Secondly we use that in steady state we have that $\\tilde k_{t+1} = \\tilde k_{t} = \\tilde k$ and $\\tilde h_{t+1} = \\tilde h_{t} = \\tilde h$, and insert this into the transition equations. This gives us the nullclines.\n",
    "\n",
    "Finally we isolate the two equation systems wrt. $\\tilde k_{t}$ and $\\tilde h_{t}$ to get the steady state values for $\\tilde k$ and $\\tilde h$."
   ]
  },
  {
   "cell_type": "code",
   "execution_count": 77,
   "metadata": {},
   "outputs": [],
   "source": [
    "# Define the transition equations\n",
    "transition_k = sm.Eq(k, (1 / ((1 + n) * (1 + g))) * (s_K * k**alpha * h**phi + (1 - delta) * k))\n",
    "transition_h = sm.Eq(h, (1 / ((1 + n) * (1 + g))) * (s_H * k**alpha * h**phi + (1 - delta) * h))\n",
    "\n",
    "# Calculate the change in capital stocks and define the nullclines:\n",
    "delta_k = sm.Eq(0, transition_k.rhs - k)\n",
    "delta_h = sm.Eq(0, transition_h.rhs - h)\n",
    "\n",
    "# Isoleate k and h in the nullclines:\n",
    "k_isolated = sm.solve(delta_k, k)[0]\n",
    "h_isolated = sm.solve(delta_h, h)[0]\n",
    "\n",
    "# Insert the isolated k and h in the other nullcline to get the steady state equations that need to be solved:\n",
    "steady_state_k = sm.Eq(0, transition_k.rhs.subs(h, h_isolated) - k)\n",
    "steady_state_h = sm.Eq(0, transition_h.rhs.subs(k, k_isolated) - h)"
   ]
  },
  {
   "cell_type": "code",
   "execution_count": 74,
   "metadata": {},
   "outputs": [
    {
     "name": "stdout",
     "output_type": "stream",
     "text": [
      "The steady state value of k is:\n"
     ]
    },
    {
     "data": {
      "text/latex": [
       "$\\displaystyle 0 = - k + \\frac{k \\left(1 - \\delta\\right) + k^{\\alpha} s_{K} \\left(\\left(\\frac{k^{- \\alpha} \\left(\\delta + g n + g + n\\right)}{s_{H}}\\right)^{\\frac{1}{\\phi - 1}}\\right)^{\\phi}}{\\left(g + 1\\right) \\left(n + 1\\right)}$"
      ],
      "text/plain": [
       "Eq(0, -k + (k*(1 - delta) + k**alpha*s_K*(((delta + g*n + g + n)/(k**alpha*s_H))**(1/(phi - 1)))**phi)/((g + 1)*(n + 1)))"
      ]
     },
     "execution_count": 74,
     "metadata": {},
     "output_type": "execute_result"
    }
   ],
   "source": [
    "# Print the steady state value of k:\n",
    "print('The steady state value of k is:')\n",
    "steady_state_k"
   ]
  },
  {
   "cell_type": "code",
   "execution_count": 75,
   "metadata": {},
   "outputs": [
    {
     "name": "stdout",
     "output_type": "stream",
     "text": [
      "The steady state value of h is:\n"
     ]
    },
    {
     "data": {
      "text/latex": [
       "$\\displaystyle 0 = - h + \\frac{h \\left(1 - \\delta\\right) + h^{\\phi} s_{H} \\left(\\left(\\frac{h^{- \\phi} \\left(\\delta + g n + g + n\\right)}{s_{K}}\\right)^{\\frac{1}{\\alpha - 1}}\\right)^{\\alpha}}{\\left(g + 1\\right) \\left(n + 1\\right)}$"
      ],
      "text/plain": [
       "Eq(0, -h + (h*(1 - delta) + h**phi*s_H*(((delta + g*n + g + n)/(h**phi*s_K))**(1/(alpha - 1)))**alpha)/((g + 1)*(n + 1)))"
      ]
     },
     "execution_count": 75,
     "metadata": {},
     "output_type": "execute_result"
    }
   ],
   "source": [
    "# Print the steady state value of h:\n",
    "print('The steady state value of h is:')\n",
    "steady_state_h"
   ]
  },
  {
   "attachments": {},
   "cell_type": "markdown",
   "metadata": {},
   "source": [
    "SymPy is not able to find a solution to \"steady_state_k = sm.solve(steady_state_k.rhs, k)\" and \"steady_state_h = sm.solve(steady_state_h.rhs, h)\" because the equations are too complex and the analytical solution to the steady state can therefore not be found using this method. \n",
    "\n",
    "However the solutions stated above are the steady state values of $\\tilde k$ and $\\tilde h$, all they need is the isolation of $\\tilde k$ and $\\tilde h$ that SymPy is not able to perform. \n",
    "\n",
    "After isolating $\\tilde k$ and $\\tilde h$ the steady states are given by: \n",
    "\n",
    "**Steady states:**\n",
    "\n",
    "$$\n",
    "\\tilde k^* = \\left( \\frac { s_K ^{1-\\varphi}  s_H^\\varphi} { n + g + \\delta + ng } \\right) ^\\frac{1}{1 - \\alpha - \\varphi} \n",
    "$$\n",
    "\n",
    "$$\n",
    "\\tilde h^* = \\left( \\frac { s_K ^\\alpha  s_H^{1-\\alpha}} { n + g + \\delta + ng } \\right) ^\\frac{1}{1 - \\alpha - \\varphi}\n",
    "$$\n",
    "\n",
    "From these the steady state production $\\tilde y^*$ can be found: \n",
    "\n",
    "$$\n",
    "\\tilde y^* = \\left( \\frac {s_K} { n + g + \\delta + ng } \\right) ^\\frac{\\alpha}{1 - \\alpha - \\varphi} \\left( \\frac {s_H} { n + g + \\delta + ng } \\right) ^\\frac{\\varphi}{1 - \\alpha - \\varphi}\n",
    "$$\n"
   ]
  },
  {
   "attachments": {},
   "cell_type": "markdown",
   "metadata": {},
   "source": [
    "**Using Sympy.lambdify to make a python function:**\n",
    "\n",
    "Eventhough sm.solve couldn't solve the steady states, we can use sm.lambdify to make the steady states into python functions.\n",
    "\n",
    "We do this by defining the 3 steady states from above in Sympy syntax and then using lambdify to turn it into python functions:"
   ]
  },
  {
   "cell_type": "code",
   "execution_count": 80,
   "metadata": {},
   "outputs": [],
   "source": [
    "# Defining the 3 steady state equations: \n",
    "ss_k = (((s_K**(1-phi))*(s_H**phi))/ (n + g + delta + n*g))**(1/(1-alpha-phi))\n",
    "ss_h = (((s_K**alpha)*(s_H**(1-alpha)))/ (n + g + delta + n*g))**(1/(1-alpha-phi))\n",
    "ss_y = ((s_K) / (n + g + delta + n*g))**(alpha/(1-alpha-phi))*((s_H) / (n + g + delta + n*g))**(phi/(1-alpha-phi))\n",
    "\n",
    "# Using lambdify we transform the above SumPy functions into python functions:\n",
    "k_ss = sm.lambdify((alpha,phi,s_K,s_H,n,g,delta),ss_k)\n",
    "h_ss = sm.lambdify((alpha,phi,s_K,s_H,n,g,delta),ss_h) \n",
    "y_ss = sm.lambdify((alpha,phi,s_K,s_H,n,g,delta),ss_y) "
   ]
  },
  {
   "attachments": {},
   "cell_type": "markdown",
   "metadata": {},
   "source": [
    "Using These functions we calculate the steady state of the three variables with realistic parameter values from the textbook, page 171:"
   ]
  },
  {
   "cell_type": "code",
   "execution_count": 81,
   "metadata": {},
   "outputs": [],
   "source": [
    "#Parameter values:\n",
    "val_alpha = 1/3\n",
    "val_phi = 1/3\n",
    "val_s_K = 0.2\n",
    "val_s_H = 0.15\n",
    "val_n = 0.0\n",
    "val_g = 0.015\n",
    "val_delta = 0.06"
   ]
  },
  {
   "attachments": {},
   "cell_type": "markdown",
   "metadata": {},
   "source": [
    "Using the values we can calculate the steady state values:"
   ]
  },
  {
   "cell_type": "code",
   "execution_count": 82,
   "metadata": {},
   "outputs": [
    {
     "name": "stdout",
     "output_type": "stream",
     "text": [
      "The steady state value of k* is: 14.222222222222214\n",
      "The steady state value of h* is: 10.666666666666664\n",
      "The steady state value of y* is: 5.333333333333332\n"
     ]
    }
   ],
   "source": [
    "print('The steady state value of k* is:',k_ss(val_alpha,val_phi,val_s_K,val_s_H,val_n,val_g,val_delta))\n",
    "print('The steady state value of h* is:',h_ss(val_alpha,val_phi,val_s_K,val_s_H,val_n,val_g,val_delta))\n",
    "print('The steady state value of y* is:',y_ss(val_alpha,val_phi,val_s_K,val_s_H,val_n,val_g,val_delta))"
   ]
  },
  {
   "attachments": {},
   "cell_type": "markdown",
   "metadata": {},
   "source": [
    "This shows that the lambdify function worked correctly, as these are the steady state values expressed in the textbook given the realistic parameters."
   ]
  },
  {
   "attachments": {},
   "cell_type": "markdown",
   "metadata": {},
   "source": [
    "## Numerical solution"
   ]
  },
  {
   "cell_type": "code",
   "execution_count": 86,
   "metadata": {},
   "outputs": [
    {
     "name": "stdout",
     "output_type": "stream",
     "text": [
      "initializing the model:\n",
      "calling .setup()\n",
      "calling .allocate()\n"
     ]
    }
   ],
   "source": [
    "model = HumanCapitalSolowModelClass()\n",
    "par = model.par\n",
    "path = model.path"
   ]
  },
  {
   "attachments": {},
   "cell_type": "markdown",
   "metadata": {},
   "source": [
    "Given that we had problems solving the model analytically using SymPy, it is great that we can solve it numerically. Which will  be done now.\n",
    "\n",
    "We start by creating a function for the transition equations and use scipy to solve the steady state:"
   ]
  },
  {
   "cell_type": "code",
   "execution_count": 94,
   "metadata": {},
   "outputs": [],
   "source": [
    "def trans_eqs(k,h,alpha,phi,s_K,s_H,n,g,delta):\n",
    "    \"\"\"Input is the values of the parameters as described in the analytical section. \n",
    "    Output is the two transition equations for k and h respectivly \"\"\"\n",
    "\n",
    "    # Transition equation for k:\n",
    "    trans_eq_k = (1 / ((1 + n) * (1 + g))) * (s_K * k**alpha * h**phi + (1 - delta) * k)-k\n",
    "\n",
    "    # Transition equation for h:\n",
    "    trans_eq_h = (1 / ((1 + n) * (1 + g))) * (s_H * k**alpha * h**phi + (1 - delta) * h)-h\n",
    "    \n",
    "    return trans_eq_k, trans_eq_h"
   ]
  },
  {
   "cell_type": "code",
   "execution_count": 97,
   "metadata": {},
   "outputs": [],
   "source": [
    "#Parameter values from earlier:\n",
    "new_alpha = 1/3\n",
    "new_phi = 1/3\n",
    "new_s_K = 0.2\n",
    "new_s_H = 0.15\n",
    "new_n = 0\n",
    "new_g = 0.015\n",
    "new_delta = 0.06"
   ]
  },
  {
   "cell_type": "code",
   "execution_count": 98,
   "metadata": {},
   "outputs": [
    {
     "name": "stdout",
     "output_type": "stream",
     "text": [
      "The steady state value of k is: 14.222222202039132\n",
      "The steady state value of h is: 10.666666432374244\n",
      "The steady state value of y is: 5.33333329176171\n"
     ]
    },
    {
     "name": "stderr",
     "output_type": "stream",
     "text": [
      "C:\\Users\\Bruger\\AppData\\Local\\Temp\\ipykernel_1476\\3821288623.py:6: RuntimeWarning: invalid value encountered in double_scalars\n",
      "  trans_eq_k = (1 / ((1 + n) * (1 + g))) * (s_K * k**alpha * h**phi + (1 - delta) * k)-k\n",
      "C:\\Users\\Bruger\\AppData\\Local\\Temp\\ipykernel_1476\\3821288623.py:9: RuntimeWarning: invalid value encountered in double_scalars\n",
      "  trans_eq_h = (1 / ((1 + n) * (1 + g))) * (s_H * k**alpha * h**phi + (1 - delta) * h)-h\n"
     ]
    }
   ],
   "source": [
    "# Solving the model using optimize.root:\n",
    "objective = lambda x: [trans_eqs(x[0],x[1], new_alpha, new_phi, new_s_K, new_s_H, new_n, new_g, new_delta)]\n",
    "solution = optimize.root(objective,[1,1], method='broyden1')\n",
    "num_solution = solution.x\n",
    "\n",
    "# Calculating steady state value of y\n",
    "ss_y = num_solution[0]**new_alpha * num_solution[1]**new_phi\n",
    "\n",
    "print(f\"The steady state value of k is: {num_solution[0]}\")\n",
    "print(f\"The steady state value of h is: {num_solution[1]}\")\n",
    "print(f\"The steady state value of y is: {ss_y}\")\n"
   ]
  },
  {
   "attachments": {},
   "cell_type": "markdown",
   "metadata": {},
   "source": [
    "For some reason we get 3 diffrent RuntimeWarning messages which is quite concerning. We can't seem to find a solution to fixing this.\n",
    "\n",
    "The numerical steady state values are however the same as in the analytical solution.\n",
    "\n",
    "We will therefore proceed with the rest of the analysis as if they are correct. "
   ]
  },
  {
   "attachments": {},
   "cell_type": "markdown",
   "metadata": {},
   "source": [
    "# Further analysis"
   ]
  },
  {
   "attachments": {},
   "cell_type": "markdown",
   "metadata": {},
   "source": [
    "As one of the purposes of this model is to see how the savingsrate in human and physical capital affects the longterm output of the economy. We will se how changes to the parameters $s_K$ and $s_H$ affects the steady state value of y.\n",
    "\n",
    "First we show the effect on steady state of y when only changing one of the two savingsrates, while holding the other constant."
   ]
  },
  {
   "cell_type": "code",
   "execution_count": null,
   "metadata": {},
   "outputs": [],
   "source": [
    "# Setting a range of values for s_K and s_H respectively\n",
    "s_K_values = np.linspace(0.01, 0.5, 100)\n",
    "s_H_values = np.linspace(0.01, 0.5, 100)\n",
    "\n",
    "# Initializing arrays to store steady state y values\n",
    "ss_y_s_K = np.zeros_like(s_K_values)\n",
    "ss_y_s_H = np.zeros_like(s_H_values)\n",
    "\n",
    "# Solving the model for each value of s_K\n",
    "for i, s_K in enumerate(s_K_values):\n",
    "    objective = lambda x: [trans_eqs(x[0], x[1], new_alpha, new_phi, s_K, new_s_H, new_n, new_g, new_delta)]\n",
    "    solution = optimize.root(objective, [1, 1], method='broyden1', options={'maxiter': 1000})\n",
    "    ss_y_s_K[i] = solution.x[0]**new_alpha * solution.x[1]**new_phi\n",
    "\n",
    "# Solving the model for each value of s_H\n",
    "for i, s_H in enumerate(s_H_values):\n",
    "    objective = lambda x: [trans_eqs(x[0], x[1], new_alpha, new_phi, new_s_K, s_H, new_n, new_g, new_delta)]\n",
    "    solution = optimize.root(objective, [1, 1], method='broyden1', options={'maxiter': 1000})\n",
    "    ss_y_s_H[i] = solution.x[0]**new_alpha * solution.x[1]**new_phi\n",
    "\n",
    "# Plotting the results\n",
    "fig, ax = plt.subplots(1, 2, figsize=(12, 4))\n",
    "\n",
    "ax[0].plot(s_K_values, ss_y_s_K, label='Steady state y')\n",
    "ax[0].set_xlabel('s_K')\n",
    "ax[0].set_ylabel('y')\n",
    "ax[0].legend()\n",
    "\n",
    "ax[1].plot(s_H_values, ss_y_s_H, label='Steady state y')\n",
    "ax[1].set_xlabel('s_H')\n",
    "ax[1].set_ylabel('y')\n",
    "ax[1].legend()\n",
    "\n",
    "plt.show()"
   ]
  },
  {
   "attachments": {},
   "cell_type": "markdown",
   "metadata": {},
   "source": [
    "It can be seen that the steady state level is increasing in both of the savingsrates when holding the other constant.\n",
    "\n",
    "Now we check how it changes when varying both at the same time:"
   ]
  },
  {
   "cell_type": "code",
   "execution_count": null,
   "metadata": {},
   "outputs": [],
   "source": [
    "# Define range of s_K and s_H values\n",
    "s_K_range = np.linspace(0.01, 0.5, 50)\n",
    "s_H_range = np.linspace(0.01, 0.5, 50)\n",
    "\n",
    "# Create empty arrays to store results\n",
    "ss_k_values = np.zeros((len(s_K_range), len(s_H_range)))\n",
    "ss_h_values = np.zeros((len(s_K_range), len(s_H_range)))\n",
    "ss_y_values = np.zeros((len(s_K_range), len(s_H_range)))\n",
    "\n",
    "# Loop through s_K and s_H values and calculate steady state values\n",
    "for i, s_K in enumerate(s_K_range):\n",
    "    for j, s_H in enumerate(s_H_range):\n",
    "        # Define function to be optimized\n",
    "        objective = lambda x: [trans_eqs(x[0], x[1], new_alpha, new_phi, s_K, s_H, new_n, new_g, new_delta)]\n",
    "        # Solve for steady state values of k and h\n",
    "        solution = optimize.root(objective, [1, 1], method='broyden1', options={'maxiter': 1000})\n",
    "        ss_k = solution.x[0]\n",
    "        ss_h = solution.x[1]\n",
    "        # Calculate steady state value of y\n",
    "        ss_y = ss_k**new_alpha * ss_h**new_phi\n",
    "        # Store results in arrays\n",
    "        ss_k_values[i, j] = ss_k\n",
    "        ss_h_values[i, j] = ss_h\n",
    "        ss_y_values[i, j] = ss_y\n",
    "\n",
    "# Create contour plot of steady state values\n",
    "fig, ax = plt.subplots(figsize=(10, 8))\n",
    "cs = ax.contourf(s_K_range, s_H_range, ss_y_values, levels=20, cmap='Blues')\n",
    "ax.contour(s_K_range, s_H_range, ss_k_values, levels=10, colors='black', alpha=0.5)\n",
    "ax.contour(s_K_range, s_H_range, ss_h_values, levels=10, colors='black', alpha=0.5)\n",
    "cbar = plt.colorbar(cs)\n",
    "cbar.set_label('Steady State Value of Y')\n",
    "ax.set_xlabel('s_K')\n",
    "ax.set_ylabel('s_H')\n",
    "ax.set_title('Steady State Values of K, H, and Y')\n",
    "plt.show()\n"
   ]
  },
  {
   "attachments": {},
   "cell_type": "markdown",
   "metadata": {},
   "source": [
    "From this it can be seen that there is good reason to set the two savingsrates equal to eachother, as there is no benifit from investing more in one capital than the other. It is optimal to invest equally in both. \n",
    "\n",
    "This is pretty obviously given by the parameters alpha and phi which are both set to 1/3. These are the marginal marginal products of human capital and phisical capital. As these are equal so should the savingsrates."
   ]
  },
  {
   "attachments": {},
   "cell_type": "markdown",
   "metadata": {},
   "source": [
    "# Conclusion"
   ]
  },
  {
   "attachments": {},
   "cell_type": "markdown",
   "metadata": {},
   "source": [
    "Using numerical optimization we were able to confirm the results of the analytical solution to the Solow-model with human capital.\n",
    "\n",
    "Furthermore it was whoen using optimize.root that it is optimal given to set the savingsrates on human and physical capital equal to eachother when $\\alpha = \\varphi$.\n",
    "    "
   ]
  }
 ],
 "metadata": {
  "kernelspec": {
   "display_name": "base",
   "language": "python",
   "name": "python3"
  },
  "language_info": {
   "codemirror_mode": {
    "name": "ipython",
    "version": 3
   },
   "file_extension": ".py",
   "mimetype": "text/x-python",
   "name": "python",
   "nbconvert_exporter": "python",
   "pygments_lexer": "ipython3",
   "version": "3.9.16"
  },
  "orig_nbformat": 4
 },
 "nbformat": 4,
 "nbformat_minor": 2
}
