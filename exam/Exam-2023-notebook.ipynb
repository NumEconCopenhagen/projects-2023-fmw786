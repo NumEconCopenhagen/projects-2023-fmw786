{
 "cells": [
  {
   "attachments": {},
   "cell_type": "markdown",
   "metadata": {},
   "source": [
    "**Table of contents**<a id='toc0_'></a>    \n",
    "- 1. [Problem 1: Optimal taxation with government consumption](#toc1_)    \n",
    "- 2. [Problem 2: Labor adjustment costs](#toc2_)    \n",
    "- 3. [Problem 3: Global optimizer with refined multi-start](#toc3_)    \n",
    "\n",
    "<!-- vscode-jupyter-toc-config\n",
    "\tnumbering=true\n",
    "\tanchor=true\n",
    "\tflat=false\n",
    "\tminLevel=2\n",
    "\tmaxLevel=6\n",
    "\t/vscode-jupyter-toc-config -->\n",
    "<!-- THIS CELL WILL BE REPLACED ON TOC UPDATE. DO NOT WRITE YOUR TEXT IN THIS CELL -->"
   ]
  },
  {
   "cell_type": "code",
   "execution_count": 1177,
   "metadata": {},
   "outputs": [
    {
     "name": "stdout",
     "output_type": "stream",
     "text": [
      "The autoreload extension is already loaded. To reload it, use:\n",
      "  %reload_ext autoreload\n"
     ]
    }
   ],
   "source": [
    "# Imports and set magics:\n",
    "\n",
    "import numpy as np\n",
    "from scipy import optimize\n",
    "import sympy as sm\n",
    "import matplotlib.pyplot as plt\n",
    "import plotly.graph_objects as go\n",
    "from types import SimpleNamespace\n",
    "\n",
    "# autoreload modules when code is run\n",
    "%load_ext autoreload\n",
    "%autoreload 2\n",
    "\n",
    "# local modules \n",
    "from Exam2023 import Problem1, Problem2, Problem3"
   ]
  },
  {
   "attachments": {},
   "cell_type": "markdown",
   "metadata": {},
   "source": [
    "## 1. <a id='toc1_'></a>[Problem 1: Optimal taxation with government consumption](#toc0_)"
   ]
  },
  {
   "attachments": {},
   "cell_type": "markdown",
   "metadata": {},
   "source": [
    "\n",
    "Consider a worker choosing hours of labor, $L\\in[0,24]$, to maximize utility: \n",
    "\n",
    "$$\n",
    "\\begin{align*}\n",
    "V(w,\\tau,G)&=\\max_{L\\in[0,24]}\\ln\\left(C^{\\alpha}G^{1-\\alpha}\\right)-\\nu\\frac{L^{2}}{2}\\\\&\\text{s.t.}\\\\&C=\\kappa+(1-\\tau)wL\n",
    "\\end{align*}\n",
    "$$\n",
    "\n",
    "where \n",
    "\n",
    "* $C$ is *private* consumption with weight $\\alpha\\in(0,1)$.\n",
    "* $\\kappa > 0$ is the *free private* consumption component.\n",
    "* $C = (1-\\tau)wL$ is the *costly private* consumption component.\n",
    "* $w > 0 $ is the real wage.\n",
    "* $\\tau \\in (0,1)$ is the labor-income tax rate.\n",
    "* $G > 0 $ is *government* consumption with weight $1-\\alpha$.\n",
    "* $\\nu > 0$ is the disutility of labor scaling factor"
   ]
  },
  {
   "attachments": {},
   "cell_type": "markdown",
   "metadata": {},
   "source": [
    "\n",
    "The baseline parameters are:\n",
    "\n",
    "$$\n",
    "\\begin{align*}\n",
    "\\alpha &= 0.5\\\\\n",
    "\\kappa &= 1.0\\\\\n",
    "\\nu &= \\frac{1}{2\\cdot16^2} \\\\\n",
    "w &= 1.0 \\\\ \n",
    "\\tau &= 0.30 \\\\\n",
    "\\end{align*}\n",
    "$$"
   ]
  },
  {
   "attachments": {},
   "cell_type": "markdown",
   "metadata": {},
   "source": [
    "**Question 1:** Verify that the optimal labor supply choice is $L^{\\star}(\\tilde{w}) =\\frac{-\\kappa+\\sqrt{\\kappa^{2}+4\\frac{\\alpha}{\\nu}\\tilde{w}^2}}{2\\tilde{w}}$, where $\\tilde{w} = (1-\\tau)w$, for $G\\in\\left\\{1.0 , 2.0\\right\\}$."
   ]
  },
  {
   "attachments": {},
   "cell_type": "markdown",
   "metadata": {},
   "source": [
    "Here, we will solve the maximization problem using SimPy. This will be accomplished by employing the Lagrangian method to get the optimal labor supply, which will then be converted into LaTeX format to be displayed in the markdown cell below."
   ]
  },
  {
   "cell_type": "code",
   "execution_count": 1178,
   "metadata": {},
   "outputs": [
    {
     "name": "stdout",
     "output_type": "stream",
     "text": [
      "The optimal labor supply is: L = \\frac{- \\kappa \\nu + \\sqrt{\\nu \\left(4 \\tilde{w}^{2} \\alpha + \\kappa^{2} \\nu\\right)}}{2 \\tilde{w} \\nu}\n"
     ]
    },
    {
     "data": {
      "text/plain": [
       "<function _lambdifygenerated(kappa, alpha, nu, Dummy_2885)>"
      ]
     },
     "execution_count": 1178,
     "metadata": {},
     "output_type": "execute_result"
    }
   ],
   "source": [
    "# Using sympy to solve the problem:\n",
    "Problem1.lagrangian_optimization(do_print=True)"
   ]
  },
  {
   "attachments": {},
   "cell_type": "markdown",
   "metadata": {},
   "source": [
    "The optimal labor supply, as derived from the LaTeX formula above using SimPy, is represented as follows:\n",
    "\n",
    "$$\n",
    "L^*(\\tilde{w}) = \\frac{- \\kappa \\nu + \\sqrt{\\nu \\left(4 \\tilde{w}^{2} \\alpha + \\kappa^{2} \\nu\\right)}}{2 \\tilde{w} \\nu}\n",
    "$$\n",
    "\n",
    "This equation can be further simplified to:\n",
    "\n",
    "$$\n",
    "L^*(\\tilde{w}) = \\frac{-\\kappa+\\sqrt{\\kappa^{2}+4\\frac{\\alpha}{\\nu}\\tilde{w}^2}}{2\\tilde{w}}\n",
    "$$\n",
    "\n",
    "Hence, it has been confirmed that the optimal labor supply choice, expressed as $L^*(\\tilde{w}) = \\frac{-\\kappa+\\sqrt{\\kappa^{2}+4\\frac{\\alpha}{\\nu}\\tilde{w}^2}}{2\\tilde{w}}$, aligns with the requested solution."
   ]
  },
  {
   "attachments": {},
   "cell_type": "markdown",
   "metadata": {},
   "source": [
    "Additionally, we convert this solution into a Python function using the \"lambdify\" module from SymPy, which enables us to compute the optimal labor supply given the baseline parameters."
   ]
  },
  {
   "cell_type": "code",
   "execution_count": 1179,
   "metadata": {},
   "outputs": [
    {
     "name": "stdout",
     "output_type": "stream",
     "text": [
      "The optimal labor supply is: L* = 15.30165022719559\n"
     ]
    }
   ],
   "source": [
    "# Defining parameters:\n",
    "alpha = 0.5\n",
    "kappa = 1\n",
    "nu = 1/(2*16**2)\n",
    "tau = 0.3\n",
    "w = 1\n",
    "w_tilde = (1-tau)*w\n",
    "\n",
    "# Defining the function:\n",
    "L_star = Problem1.lagrangian_optimization(do_print=False)\n",
    "\n",
    "# Evaluating the function:\n",
    "L_star(kappa, alpha, nu, w_tilde)\n",
    "\n",
    "# print the result:\n",
    "print(f'The optimal labor supply is: L* = {L_star(kappa, alpha, nu, w_tilde)}')"
   ]
  },
  {
   "attachments": {},
   "cell_type": "markdown",
   "metadata": {},
   "source": [
    "Therefore, the optimal labor supply is determined to be 15.3 hours, based on the given baseline parameters."
   ]
  },
  {
   "attachments": {},
   "cell_type": "markdown",
   "metadata": {},
   "source": [
    "**Question 2:** Illustrate how $L^{\\star}(\\tilde{w})$ depends on $w$."
   ]
  },
  {
   "attachments": {},
   "cell_type": "markdown",
   "metadata": {},
   "source": [
    "To demonstrate the relationship between the optimal labor supply and the variable $w$, we can create a grid of possible $w$-values and plot the corresponding optimal labor supply:"
   ]
  },
  {
   "cell_type": "code",
   "execution_count": 1180,
   "metadata": {},
   "outputs": [
    {
     "data": {
      "application/vnd.plotly.v1+json": {
       "config": {
        "plotlyServerURL": "https://plot.ly"
       },
       "data": [
        {
         "name": "L*(w_tilde)",
         "type": "scatter",
         "x": [
          0.001,
          0.10200000000000001,
          0.203,
          0.30400000000000005,
          0.405,
          0.506,
          0.6070000000000001,
          0.7080000000000001,
          0.809,
          0.91,
          1.011,
          1.1119999999999999,
          1.213,
          1.314,
          1.415,
          1.516,
          1.617,
          1.718,
          1.819,
          1.92,
          2.021,
          2.122,
          2.223,
          2.324,
          2.4250000000000003,
          2.5260000000000002,
          2.6270000000000002,
          2.728,
          2.829,
          2.93,
          3.031,
          3.132,
          3.233,
          3.334,
          3.435,
          3.536,
          3.637,
          3.738,
          3.839,
          3.94,
          4.041,
          4.142,
          4.243,
          4.344,
          4.445,
          4.546,
          4.647,
          4.748,
          4.849000000000001,
          4.950000000000001,
          5.051000000000001,
          5.152000000000001,
          5.253000000000001,
          5.354000000000001,
          5.455000000000001,
          5.556000000000001,
          5.657000000000001,
          5.758000000000001,
          5.859000000000001,
          5.960000000000001,
          6.061000000000001,
          6.162000000000001,
          6.263000000000001,
          6.364000000000001,
          6.465000000000001,
          6.566000000000001,
          6.667000000000001,
          6.768000000000001,
          6.869000000000001,
          6.970000000000001,
          7.071000000000001,
          7.172000000000001,
          7.273000000000001,
          7.3740000000000006,
          7.4750000000000005,
          7.5760000000000005,
          7.6770000000000005,
          7.7780000000000005,
          7.8790000000000004,
          7.98,
          8.081,
          8.182,
          8.283,
          8.384,
          8.485,
          8.586,
          8.687,
          8.788,
          8.889,
          8.99,
          9.091,
          9.192,
          9.293,
          9.394,
          9.495,
          9.596,
          9.697000000000001,
          9.798,
          9.899000000000001,
          10
         ],
         "y": [
          0.17917752678976914,
          10.46257100649347,
          12.863685843705058,
          13.821978619362794,
          14.333242028885353,
          14.650519456253923,
          14.866467127092484,
          15.022897665451978,
          15.141418338063664,
          15.23431263864522,
          15.309077160067805,
          15.370545442863156,
          15.421973625065277,
          15.465635186625295,
          15.50316554145317,
          15.535771158508114,
          15.564361513165702,
          15.589635161304367,
          15.612137523108094,
          15.632300659658032,
          15.650471265105322,
          15.666930755495745,
          15.681909940324182,
          15.695599907679929,
          15.708160215923357,
          15.719725138598843,
          15.730408481739163,
          15.740307340309847,
          15.74950505668459,
          15.758073572139269,
          15.766075311840728,
          15.773564707842109,
          15.780589438668903,
          15.787191445170583,
          15.793407768372408,
          15.79927124468115,
          15.80481108599539,
          15.810053366353126,
          15.815021432224299,
          15.819736250068457,
          15.824216702070144,
          15.828479838847851,
          15.832541096266745,
          15.83641448216604,
          15.840112737761393,
          15.84364747764072,
          15.847029311594103,
          15.850267950969545,
          15.853372301800047,
          15.856350546582556,
          15.859210216290037,
          15.86195825395087,
          15.864601070925607,
          15.867144596841229,
          15.869594324001476,
          15.871955346973245,
          15.874232397949495,
          15.87642987840518,
          15.878551887491774,
          15.880602247555755,
          15.882584527115299,
          15.884502061585701,
          15.886357972006758,
          15.888155181993238,
          15.889896433102129,
          15.891584298786482,
          15.893221197085278,
          15.894809402180863,
          15.896351054940158,
          15.897848172542343,
          15.899302657284114,
          15.900716304643268,
          15.902090810672554,
          15.90342777878773,
          15.904728726007008,
          15.905995088692901,
          15.907228227842163,
          15.908429433964798,
          15.909599931588863,
          15.910740883424184,
          15.911853394214681,
          15.912938514306182,
          15.913997242953908,
          15.915030531391558,
          15.916039285681766,
          15.917024369365908,
          15.917986605929565,
          15.918926781098378,
          15.919845644977801,
          15.920743914049,
          15.92162227303199,
          15.922481376626296,
          15.923321851138347,
          15.924144296004155,
          15.924949285215044,
          15.925737368653554,
          15.926509073346038,
          15.927264904638001,
          15.928005347297617,
          15.92873086655255
         ]
        }
       ],
       "layout": {
        "font": {
         "color": "#7f7f7f",
         "family": "Courier New, monospace",
         "size": 18
        },
        "template": {
         "data": {
          "bar": [
           {
            "error_x": {
             "color": "#2a3f5f"
            },
            "error_y": {
             "color": "#2a3f5f"
            },
            "marker": {
             "line": {
              "color": "#E5ECF6",
              "width": 0.5
             },
             "pattern": {
              "fillmode": "overlay",
              "size": 10,
              "solidity": 0.2
             }
            },
            "type": "bar"
           }
          ],
          "barpolar": [
           {
            "marker": {
             "line": {
              "color": "#E5ECF6",
              "width": 0.5
             },
             "pattern": {
              "fillmode": "overlay",
              "size": 10,
              "solidity": 0.2
             }
            },
            "type": "barpolar"
           }
          ],
          "carpet": [
           {
            "aaxis": {
             "endlinecolor": "#2a3f5f",
             "gridcolor": "white",
             "linecolor": "white",
             "minorgridcolor": "white",
             "startlinecolor": "#2a3f5f"
            },
            "baxis": {
             "endlinecolor": "#2a3f5f",
             "gridcolor": "white",
             "linecolor": "white",
             "minorgridcolor": "white",
             "startlinecolor": "#2a3f5f"
            },
            "type": "carpet"
           }
          ],
          "choropleth": [
           {
            "colorbar": {
             "outlinewidth": 0,
             "ticks": ""
            },
            "type": "choropleth"
           }
          ],
          "contour": [
           {
            "colorbar": {
             "outlinewidth": 0,
             "ticks": ""
            },
            "colorscale": [
             [
              0,
              "#0d0887"
             ],
             [
              0.1111111111111111,
              "#46039f"
             ],
             [
              0.2222222222222222,
              "#7201a8"
             ],
             [
              0.3333333333333333,
              "#9c179e"
             ],
             [
              0.4444444444444444,
              "#bd3786"
             ],
             [
              0.5555555555555556,
              "#d8576b"
             ],
             [
              0.6666666666666666,
              "#ed7953"
             ],
             [
              0.7777777777777778,
              "#fb9f3a"
             ],
             [
              0.8888888888888888,
              "#fdca26"
             ],
             [
              1,
              "#f0f921"
             ]
            ],
            "type": "contour"
           }
          ],
          "contourcarpet": [
           {
            "colorbar": {
             "outlinewidth": 0,
             "ticks": ""
            },
            "type": "contourcarpet"
           }
          ],
          "heatmap": [
           {
            "colorbar": {
             "outlinewidth": 0,
             "ticks": ""
            },
            "colorscale": [
             [
              0,
              "#0d0887"
             ],
             [
              0.1111111111111111,
              "#46039f"
             ],
             [
              0.2222222222222222,
              "#7201a8"
             ],
             [
              0.3333333333333333,
              "#9c179e"
             ],
             [
              0.4444444444444444,
              "#bd3786"
             ],
             [
              0.5555555555555556,
              "#d8576b"
             ],
             [
              0.6666666666666666,
              "#ed7953"
             ],
             [
              0.7777777777777778,
              "#fb9f3a"
             ],
             [
              0.8888888888888888,
              "#fdca26"
             ],
             [
              1,
              "#f0f921"
             ]
            ],
            "type": "heatmap"
           }
          ],
          "heatmapgl": [
           {
            "colorbar": {
             "outlinewidth": 0,
             "ticks": ""
            },
            "colorscale": [
             [
              0,
              "#0d0887"
             ],
             [
              0.1111111111111111,
              "#46039f"
             ],
             [
              0.2222222222222222,
              "#7201a8"
             ],
             [
              0.3333333333333333,
              "#9c179e"
             ],
             [
              0.4444444444444444,
              "#bd3786"
             ],
             [
              0.5555555555555556,
              "#d8576b"
             ],
             [
              0.6666666666666666,
              "#ed7953"
             ],
             [
              0.7777777777777778,
              "#fb9f3a"
             ],
             [
              0.8888888888888888,
              "#fdca26"
             ],
             [
              1,
              "#f0f921"
             ]
            ],
            "type": "heatmapgl"
           }
          ],
          "histogram": [
           {
            "marker": {
             "pattern": {
              "fillmode": "overlay",
              "size": 10,
              "solidity": 0.2
             }
            },
            "type": "histogram"
           }
          ],
          "histogram2d": [
           {
            "colorbar": {
             "outlinewidth": 0,
             "ticks": ""
            },
            "colorscale": [
             [
              0,
              "#0d0887"
             ],
             [
              0.1111111111111111,
              "#46039f"
             ],
             [
              0.2222222222222222,
              "#7201a8"
             ],
             [
              0.3333333333333333,
              "#9c179e"
             ],
             [
              0.4444444444444444,
              "#bd3786"
             ],
             [
              0.5555555555555556,
              "#d8576b"
             ],
             [
              0.6666666666666666,
              "#ed7953"
             ],
             [
              0.7777777777777778,
              "#fb9f3a"
             ],
             [
              0.8888888888888888,
              "#fdca26"
             ],
             [
              1,
              "#f0f921"
             ]
            ],
            "type": "histogram2d"
           }
          ],
          "histogram2dcontour": [
           {
            "colorbar": {
             "outlinewidth": 0,
             "ticks": ""
            },
            "colorscale": [
             [
              0,
              "#0d0887"
             ],
             [
              0.1111111111111111,
              "#46039f"
             ],
             [
              0.2222222222222222,
              "#7201a8"
             ],
             [
              0.3333333333333333,
              "#9c179e"
             ],
             [
              0.4444444444444444,
              "#bd3786"
             ],
             [
              0.5555555555555556,
              "#d8576b"
             ],
             [
              0.6666666666666666,
              "#ed7953"
             ],
             [
              0.7777777777777778,
              "#fb9f3a"
             ],
             [
              0.8888888888888888,
              "#fdca26"
             ],
             [
              1,
              "#f0f921"
             ]
            ],
            "type": "histogram2dcontour"
           }
          ],
          "mesh3d": [
           {
            "colorbar": {
             "outlinewidth": 0,
             "ticks": ""
            },
            "type": "mesh3d"
           }
          ],
          "parcoords": [
           {
            "line": {
             "colorbar": {
              "outlinewidth": 0,
              "ticks": ""
             }
            },
            "type": "parcoords"
           }
          ],
          "pie": [
           {
            "automargin": true,
            "type": "pie"
           }
          ],
          "scatter": [
           {
            "fillpattern": {
             "fillmode": "overlay",
             "size": 10,
             "solidity": 0.2
            },
            "type": "scatter"
           }
          ],
          "scatter3d": [
           {
            "line": {
             "colorbar": {
              "outlinewidth": 0,
              "ticks": ""
             }
            },
            "marker": {
             "colorbar": {
              "outlinewidth": 0,
              "ticks": ""
             }
            },
            "type": "scatter3d"
           }
          ],
          "scattercarpet": [
           {
            "marker": {
             "colorbar": {
              "outlinewidth": 0,
              "ticks": ""
             }
            },
            "type": "scattercarpet"
           }
          ],
          "scattergeo": [
           {
            "marker": {
             "colorbar": {
              "outlinewidth": 0,
              "ticks": ""
             }
            },
            "type": "scattergeo"
           }
          ],
          "scattergl": [
           {
            "marker": {
             "colorbar": {
              "outlinewidth": 0,
              "ticks": ""
             }
            },
            "type": "scattergl"
           }
          ],
          "scattermapbox": [
           {
            "marker": {
             "colorbar": {
              "outlinewidth": 0,
              "ticks": ""
             }
            },
            "type": "scattermapbox"
           }
          ],
          "scatterpolar": [
           {
            "marker": {
             "colorbar": {
              "outlinewidth": 0,
              "ticks": ""
             }
            },
            "type": "scatterpolar"
           }
          ],
          "scatterpolargl": [
           {
            "marker": {
             "colorbar": {
              "outlinewidth": 0,
              "ticks": ""
             }
            },
            "type": "scatterpolargl"
           }
          ],
          "scatterternary": [
           {
            "marker": {
             "colorbar": {
              "outlinewidth": 0,
              "ticks": ""
             }
            },
            "type": "scatterternary"
           }
          ],
          "surface": [
           {
            "colorbar": {
             "outlinewidth": 0,
             "ticks": ""
            },
            "colorscale": [
             [
              0,
              "#0d0887"
             ],
             [
              0.1111111111111111,
              "#46039f"
             ],
             [
              0.2222222222222222,
              "#7201a8"
             ],
             [
              0.3333333333333333,
              "#9c179e"
             ],
             [
              0.4444444444444444,
              "#bd3786"
             ],
             [
              0.5555555555555556,
              "#d8576b"
             ],
             [
              0.6666666666666666,
              "#ed7953"
             ],
             [
              0.7777777777777778,
              "#fb9f3a"
             ],
             [
              0.8888888888888888,
              "#fdca26"
             ],
             [
              1,
              "#f0f921"
             ]
            ],
            "type": "surface"
           }
          ],
          "table": [
           {
            "cells": {
             "fill": {
              "color": "#EBF0F8"
             },
             "line": {
              "color": "white"
             }
            },
            "header": {
             "fill": {
              "color": "#C8D4E3"
             },
             "line": {
              "color": "white"
             }
            },
            "type": "table"
           }
          ]
         },
         "layout": {
          "annotationdefaults": {
           "arrowcolor": "#2a3f5f",
           "arrowhead": 0,
           "arrowwidth": 1
          },
          "autotypenumbers": "strict",
          "coloraxis": {
           "colorbar": {
            "outlinewidth": 0,
            "ticks": ""
           }
          },
          "colorscale": {
           "diverging": [
            [
             0,
             "#8e0152"
            ],
            [
             0.1,
             "#c51b7d"
            ],
            [
             0.2,
             "#de77ae"
            ],
            [
             0.3,
             "#f1b6da"
            ],
            [
             0.4,
             "#fde0ef"
            ],
            [
             0.5,
             "#f7f7f7"
            ],
            [
             0.6,
             "#e6f5d0"
            ],
            [
             0.7,
             "#b8e186"
            ],
            [
             0.8,
             "#7fbc41"
            ],
            [
             0.9,
             "#4d9221"
            ],
            [
             1,
             "#276419"
            ]
           ],
           "sequential": [
            [
             0,
             "#0d0887"
            ],
            [
             0.1111111111111111,
             "#46039f"
            ],
            [
             0.2222222222222222,
             "#7201a8"
            ],
            [
             0.3333333333333333,
             "#9c179e"
            ],
            [
             0.4444444444444444,
             "#bd3786"
            ],
            [
             0.5555555555555556,
             "#d8576b"
            ],
            [
             0.6666666666666666,
             "#ed7953"
            ],
            [
             0.7777777777777778,
             "#fb9f3a"
            ],
            [
             0.8888888888888888,
             "#fdca26"
            ],
            [
             1,
             "#f0f921"
            ]
           ],
           "sequentialminus": [
            [
             0,
             "#0d0887"
            ],
            [
             0.1111111111111111,
             "#46039f"
            ],
            [
             0.2222222222222222,
             "#7201a8"
            ],
            [
             0.3333333333333333,
             "#9c179e"
            ],
            [
             0.4444444444444444,
             "#bd3786"
            ],
            [
             0.5555555555555556,
             "#d8576b"
            ],
            [
             0.6666666666666666,
             "#ed7953"
            ],
            [
             0.7777777777777778,
             "#fb9f3a"
            ],
            [
             0.8888888888888888,
             "#fdca26"
            ],
            [
             1,
             "#f0f921"
            ]
           ]
          },
          "colorway": [
           "#636efa",
           "#EF553B",
           "#00cc96",
           "#ab63fa",
           "#FFA15A",
           "#19d3f3",
           "#FF6692",
           "#B6E880",
           "#FF97FF",
           "#FECB52"
          ],
          "font": {
           "color": "#2a3f5f"
          },
          "geo": {
           "bgcolor": "white",
           "lakecolor": "white",
           "landcolor": "#E5ECF6",
           "showlakes": true,
           "showland": true,
           "subunitcolor": "white"
          },
          "hoverlabel": {
           "align": "left"
          },
          "hovermode": "closest",
          "mapbox": {
           "style": "light"
          },
          "paper_bgcolor": "white",
          "plot_bgcolor": "#E5ECF6",
          "polar": {
           "angularaxis": {
            "gridcolor": "white",
            "linecolor": "white",
            "ticks": ""
           },
           "bgcolor": "#E5ECF6",
           "radialaxis": {
            "gridcolor": "white",
            "linecolor": "white",
            "ticks": ""
           }
          },
          "scene": {
           "xaxis": {
            "backgroundcolor": "#E5ECF6",
            "gridcolor": "white",
            "gridwidth": 2,
            "linecolor": "white",
            "showbackground": true,
            "ticks": "",
            "zerolinecolor": "white"
           },
           "yaxis": {
            "backgroundcolor": "#E5ECF6",
            "gridcolor": "white",
            "gridwidth": 2,
            "linecolor": "white",
            "showbackground": true,
            "ticks": "",
            "zerolinecolor": "white"
           },
           "zaxis": {
            "backgroundcolor": "#E5ECF6",
            "gridcolor": "white",
            "gridwidth": 2,
            "linecolor": "white",
            "showbackground": true,
            "ticks": "",
            "zerolinecolor": "white"
           }
          },
          "shapedefaults": {
           "line": {
            "color": "#2a3f5f"
           }
          },
          "ternary": {
           "aaxis": {
            "gridcolor": "white",
            "linecolor": "white",
            "ticks": ""
           },
           "baxis": {
            "gridcolor": "white",
            "linecolor": "white",
            "ticks": ""
           },
           "bgcolor": "#E5ECF6",
           "caxis": {
            "gridcolor": "white",
            "linecolor": "white",
            "ticks": ""
           }
          },
          "title": {
           "x": 0.05
          },
          "xaxis": {
           "automargin": true,
           "gridcolor": "white",
           "linecolor": "white",
           "ticks": "",
           "title": {
            "standoff": 15
           },
           "zerolinecolor": "white",
           "zerolinewidth": 2
          },
          "yaxis": {
           "automargin": true,
           "gridcolor": "white",
           "linecolor": "white",
           "ticks": "",
           "title": {
            "standoff": 15
           },
           "zerolinecolor": "white",
           "zerolinewidth": 2
          }
         }
        },
        "title": {
         "text": "Optimal labor supply"
        },
        "xaxis": {
         "title": {
          "text": "w"
         }
        },
        "yaxis": {
         "title": {
          "text": "L*"
         }
        }
       }
      }
     },
     "metadata": {},
     "output_type": "display_data"
    }
   ],
   "source": [
    "# Defining parameters:\n",
    "alpha = 0.5\n",
    "kappa = 1\n",
    "nu = 1/(2*16**2)\n",
    "tau = 0.3\n",
    "\n",
    "# Defining the grid:\n",
    "w_grid = np.linspace(0.001, 10, 100)\n",
    "\n",
    "w_tilde = (1-tau)*w_grid\n",
    "\n",
    "# Evaluating the function on the grid:\n",
    "L_star_grid = L_star(kappa, alpha, nu, w_tilde)\n",
    "\n",
    "# Plotting the function:\n",
    "fig = go.Figure()\n",
    "fig.add_trace(go.Scatter(x=w_grid, y=L_star_grid, name='L*(w_tilde)'))\n",
    "fig.update_layout(\n",
    "    title=\"Optimal labor supply\",\n",
    "    xaxis_title=\"w\",\n",
    "    yaxis_title=\"L*\",\n",
    "    font=dict(\n",
    "        family=\"Courier New, monospace\",\n",
    "        size=18,\n",
    "        color=\"#7f7f7f\"\n",
    "    )\n",
    ")\n",
    "fig.show()"
   ]
  },
  {
   "attachments": {},
   "cell_type": "markdown",
   "metadata": {},
   "source": [
    "From this it can be seen that labour hours are strictly increasing in the wage, and that there is as stark increase as the wage moves from 0 to 1, after this the amount of hours worked increases a lot slower when the wage increases."
   ]
  },
  {
   "attachments": {},
   "cell_type": "markdown",
   "metadata": {},
   "source": [
    "**Question 3:** Plot the implied $L$, $G$ and worker utility for a grid of $\\tau$-values.\n",
    "\n",
    "We now consider a government, who chooses $\\tau$ and spend all of the taxes on government consumption so:\n",
    "\n",
    "$$\n",
    "G = \\tau w L^{\\star}((1-\\tau)w)\n",
    "$$\n"
   ]
  },
  {
   "attachments": {},
   "cell_type": "markdown",
   "metadata": {},
   "source": [
    "We begin by addressing the maximization problem once again, but this time employing fsolve from scipy.optimize on the Lagrangian's first-order conditions. This approach provides us with the updated optimal labor supply, where the worker considers that a portion of their wage is subject to taxation, which will be utilized productively and also factor into their utility function.\n",
    "\n",
    "First, we run the new optimization function and evaluate it with baseline parameters to demonstrate that it works:"
   ]
  },
  {
   "cell_type": "code",
   "execution_count": 1181,
   "metadata": {},
   "outputs": [
    {
     "name": "stdout",
     "output_type": "stream",
     "text": [
      "The optimal labor supply is: L = 22.284012349299758\n",
      "The optimal consumption is: G = 6.685203704789927\n",
      "The utility is: u = 1.8696751250880517\n"
     ]
    }
   ],
   "source": [
    "L_star, G_star, utility = Problem1.numerical_lagrangian_optimization()\n",
    "\n",
    "print(f\"The optimal labor supply is: L = {L_star}\")\n",
    "print(f\"The optimal consumption is: G = {G_star}\")\n",
    "print(f\"The utility is: u = {utility}\")\n"
   ]
  },
  {
   "attachments": {},
   "cell_type": "markdown",
   "metadata": {},
   "source": [
    "We have to say, that the labor supply is too high here, and something proberbly went wrong in the implementation of the model. However we can't find the mistake in the code, so we proceed as if the implementation is correct. This has an affect on question 3 and 4's answers. However the method used for the rest of those questions should be correct."
   ]
  },
  {
   "attachments": {},
   "cell_type": "markdown",
   "metadata": {},
   "source": [
    "Now we will plot the optimal labor supply, implied government consumption and worker utility across the labor-income tax rate, $\\tau \\in (0,1)$.\n",
    "\n",
    "We do this by creating a grid of possible $\\tau$-values and plot the correspondingthe optimal labor supply, implied government consumption and worker utility:"
   ]
  },
  {
   "cell_type": "code",
   "execution_count": 1182,
   "metadata": {},
   "outputs": [
    {
     "data": {
      "application/vnd.plotly.v1+json": {
       "config": {
        "plotlyServerURL": "https://plot.ly"
       },
       "data": [
        {
         "name": "G(tau)",
         "type": "scatter",
         "x": [
          0.001,
          0.0050120481927710845,
          0.00902409638554217,
          0.013036144578313254,
          0.01704819277108434,
          0.021060240963855423,
          0.025072289156626508,
          0.029084337349397592,
          0.03309638554216868,
          0.03710843373493976,
          0.041120481927710846,
          0.045132530120481934,
          0.049144578313253015,
          0.053156626506024096,
          0.057168674698795184,
          0.06118072289156627,
          0.06519277108433735,
          0.06920481927710843,
          0.07321686746987952,
          0.07722891566265061,
          0.08124096385542169,
          0.08525301204819277,
          0.08926506024096387,
          0.09327710843373495,
          0.09728915662650603,
          0.10130120481927711,
          0.10531325301204819,
          0.10932530120481929,
          0.11333734939759037,
          0.11734939759036145,
          0.12136144578313254,
          0.1253734939759036,
          0.1293855421686747,
          0.1333975903614458,
          0.13740963855421687,
          0.14142168674698796,
          0.14543373493975903,
          0.14944578313253012,
          0.15345783132530122,
          0.1574698795180723,
          0.16148192771084338,
          0.16549397590361448,
          0.16950602409638554,
          0.17351807228915664,
          0.17753012048192773,
          0.1815421686746988,
          0.1855542168674699,
          0.18956626506024096,
          0.19357831325301206,
          0.19759036144578315,
          0.20160240963855422,
          0.20561445783132531,
          0.20962650602409638,
          0.21363855421686748,
          0.21765060240963857,
          0.22166265060240964,
          0.22567469879518073,
          0.22968674698795183,
          0.2336987951807229,
          0.237710843373494,
          0.24172289156626509,
          0.24573493975903615,
          0.24974698795180725,
          0.25375903614457834,
          0.2577710843373494,
          0.2617831325301205,
          0.2657951807228916,
          0.26980722891566267,
          0.27381927710843373,
          0.27783132530120486,
          0.2818433734939759,
          0.285855421686747,
          0.28986746987951806,
          0.2938795180722892,
          0.29789156626506025,
          0.3019036144578313,
          0.30591566265060244,
          0.3099277108433735,
          0.31393975903614457,
          0.3179518072289157,
          0.32196385542168676,
          0.32597590361445783,
          0.32998795180722895,
          0.334,
          0.3380120481927711,
          0.3420240963855422,
          0.3460361445783133,
          0.35004819277108434,
          0.35406024096385547,
          0.35807228915662653,
          0.3620843373493976,
          0.36609638554216867,
          0.3701084337349398,
          0.37412048192771086,
          0.3781325301204819,
          0.38214457831325305,
          0.3861566265060241,
          0.3901686746987952,
          0.3941807228915663,
          0.39819277108433737,
          0.40220481927710844,
          0.40621686746987956,
          0.41022891566265063,
          0.4142409638554217,
          0.41825301204819276,
          0.4222650602409639,
          0.42627710843373495,
          0.430289156626506,
          0.43430120481927714,
          0.4383132530120482,
          0.4423253012048193,
          0.4463373493975904,
          0.45034939759036147,
          0.45436144578313253,
          0.45837349397590366,
          0.4623855421686747,
          0.4663975903614458,
          0.4704096385542169,
          0.474421686746988,
          0.47843373493975905,
          0.48244578313253017,
          0.48645783132530124,
          0.4904698795180723,
          0.49448192771084337,
          0.4984939759036145,
          0.5025060240963856,
          0.5065180722891567,
          0.5105301204819277,
          0.5145421686746988,
          0.5185542168674699,
          0.522566265060241,
          0.5265783132530121,
          0.5305903614457832,
          0.5346024096385542,
          0.5386144578313253,
          0.5426265060240965,
          0.5466385542168675,
          0.5506506024096386,
          0.5546626506024097,
          0.5586746987951807,
          0.5626867469879518,
          0.566698795180723,
          0.570710843373494,
          0.5747228915662651,
          0.5787349397590361,
          0.5827469879518072,
          0.5867590361445784,
          0.5907710843373494,
          0.5947831325301205,
          0.5987951807228916,
          0.6028072289156626,
          0.6068192771084338,
          0.6108313253012049,
          0.6148433734939759,
          0.618855421686747,
          0.6228674698795181,
          0.6268795180722891,
          0.6308915662650603,
          0.6349036144578314,
          0.6389156626506024,
          0.6429277108433735,
          0.6469397590361446,
          0.6509518072289157,
          0.6549638554216868,
          0.6589759036144579,
          0.6629879518072289,
          0.667,
          0.6710120481927712,
          0.6750240963855422,
          0.6790361445783133,
          0.6830481927710844,
          0.6870602409638554,
          0.6910722891566266,
          0.6950843373493977,
          0.6990963855421687,
          0.7031084337349398,
          0.7071204819277109,
          0.7111325301204819,
          0.7151445783132531,
          0.7191566265060241,
          0.7231686746987952,
          0.7271807228915663,
          0.7311927710843373,
          0.7352048192771085,
          0.7392168674698796,
          0.7432289156626506,
          0.7472409638554217,
          0.7512530120481928,
          0.7552650602409638,
          0.759277108433735,
          0.7632891566265061,
          0.7673012048192771,
          0.7713132530120482,
          0.7753253012048194,
          0.7793373493975904,
          0.7833493975903615,
          0.7873614457831326,
          0.7913734939759036,
          0.7953855421686747,
          0.7993975903614459,
          0.8034096385542169,
          0.807421686746988,
          0.8114337349397591,
          0.8154457831325301,
          0.8194578313253013,
          0.8234698795180724,
          0.8274819277108434,
          0.8314939759036145,
          0.8355060240963855,
          0.8395180722891566,
          0.8435301204819278,
          0.8475421686746988,
          0.8515542168674699,
          0.855566265060241,
          0.859578313253012,
          0.8635903614457832,
          0.8676024096385543,
          0.8716144578313253,
          0.8756265060240964,
          0.8796385542168675,
          0.8836506024096386,
          0.8876626506024097,
          0.8916746987951808,
          0.8956867469879518,
          0.8996987951807229,
          0.903710843373494,
          0.9077228915662651,
          0.9117349397590362,
          0.9157469879518073,
          0.9197590361445783,
          0.9237710843373494,
          0.9277831325301206,
          0.9317951807228916,
          0.9358072289156627,
          0.9398192771084338,
          0.9438313253012048,
          0.947843373493976,
          0.9518554216867471,
          0.9558674698795181,
          0.9598795180722892,
          0.9638915662650603,
          0.9679036144578314,
          0.9719156626506025,
          0.9759277108433735,
          0.9799397590361446,
          0.9839518072289157,
          0.9879638554216867,
          0.9919759036144579,
          0.995987951807229,
          1
         ],
         "y": [
          0.022383963835914393,
          0.11218472077704221,
          0.20197774976635316,
          0.2917629592008096,
          0.3815402560242861,
          0.4713095456986511,
          0.5610707321741534,
          0.6508237178590981,
          0.7405684035887887,
          0.830304688593715,
          0.9200324704669683,
          1.0097516451308568,
          1.099462106802704,
          1.189163747959801,
          1.2788564593034928,
          1.3685401297223725,
          1.4582146462545529,
          1.5478798940489966,
          1.6375357563258697,
          1.727182114335894,
          1.8168188473186693,
          1.9064458324599274,
          1.9960629448477005,
          2.0856700574273517,
          2.175267040955456,
          2.2648537639524746,
          2.354430092654203,
          2.443995890961947,
          2.533551020391391,
          2.62309534002011,
          2.712628706433706,
          2.8021509736704875,
          2.8916619931646954,
          2.98116161368818,
          3.07064968129052,
          3.160126039237516,
          3.2495905279480004,
          3.3390429849289336,
          3.428483244708701,
          3.5179111387685817,
          3.607326495472314,
          3.6967291399936903,
          3.7861188942421373,
          3.875495576786203,
          3.9648590027748654,
          4.054208983856632,
          4.143545328096316,
          4.232867839889434,
          4.322176319874136,
          4.411470564840592,
          4.500750367637739,
          4.590015517077312,
          4.67926579783505,
          4.768500990348991,
          4.857720870714759,
          4.946925210577717,
          5.036113777021908,
          5.125286332455645,
          5.214442634493641,
          5.303582435835566,
          5.392705484140885,
          5.481811521899856,
          5.5709002863005574,
          5.65997150909177,
          5.749024916441609,
          5.838060228791711,
          5.927077160706827,
          6.016075420719658,
          6.1050547111707525,
          6.194014728043275,
          6.282955160792455,
          6.371875692169535,
          6.460775998039972,
          6.5496557471957075,
          6.638514601161264,
          6.727352213993426,
          6.816168232074274,
          6.90496229389728,
          6.993734029846238,
          7.082483061966706,
          7.171209003729684,
          7.259911459787208,
          7.348590025719563,
          7.437244287773719,
          7.525873822592707,
          7.614478196935518,
          7.703056967387123,
          7.79160968005828,
          7.880135870274602,
          7.968635062254535,
          8.057106768775716,
          8.145550490829228,
          8.233965717261283,
          8.32235192440173,
          8.410708575678873,
          8.499035121219979,
          8.58733099743686,
          8.675595626595879,
          8.763828416371691,
          8.852028759383982,
          8.940196032716482,
          9.028329597417422,
          9.116428797980584,
          9.20449296180614,
          9.29252139864024,
          9.380513399992461,
          9.468468238530036,
          9.556385167447809,
          9.644263419812754,
          9.732102207881862,
          9.81990072239212,
          9.907658131821272,
          9.995373581617864,
          10.08304619339922,
          10.170675064115633,
          10.258259265179188,
          10.345797841555438,
          10.433289810816085,
          10.520734162150653,
          10.608129855335152,
          10.695475819655456,
          10.782770952783101,
          10.870014119601041,
          10.957204150976711,
          11.044339842479664,
          11.131419953040805,
          11.218443203550118,
          11.305408275389578,
          11.392313808897713,
          11.479158401762087,
          11.56594060733572,
          11.65265893287325,
          11.73931183768229,
          11.825897731185238,
          11.912414970886438,
          11.998861860239227,
          12.085236646407104,
          12.171537517912894,
          12.2577626021692,
          12.343909962883236,
          12.429977597328453,
          12.515963433474933,
          12.601865326969993,
          12.687681057959795,
          12.773408327742096,
          12.859044755239657,
          12.944587873282943,
          13.030035124690068,
          13.115383858130953,
          13.200631323761701,
          13.285774668614263,
          13.370810931725213,
          13.45573703898628,
          13.540549797697967,
          13.625245890806175,
          13.70982187080002,
          13.794274153247578,
          13.878599009944178,
          13.962792561645989,
          14.046850770359399,
          14.1307694311542,
          14.21454416346606,
          14.298170401850754,
          14.381643386149559,
          14.464958151021655,
          14.54810951479565,
          14.63109206758815,
          14.7139001586326,
          14.796527882756731,
          14.878969065941329,
          14.96121724988675,
          15.043265675507183,
          15.125107265264798,
          15.206734604247997,
          15.288139919888575,
          15.369315060202698,
          15.450251470429148,
          15.530940167925968,
          15.611371715172696,
          15.691536190709899,
          15.771423157830496,
          15.851021630818233,
          15.930320038506984,
          16.0093061849107,
          16.087967206646766,
          16.166289526845304,
          16.24425880520301,
          16.321859883801803,
          16.399076728269556,
          16.475892363811422,
          16.552288805585302,
          16.62824698283277,
          16.703746656106063,
          16.77876632685144,
          16.85328313851808,
          16.927272768257353,
          17.000709308158488,
          17.073565134830712,
          17.145810765985793,
          17.21741470249604,
          17.288343254196562,
          17.35856034746307,
          17.428027312321902,
          17.4967026465311,
          17.564541753702418,
          17.63149665210533,
          17.69751565029419,
          17.76254298511553,
          17.826518416969037,
          17.889376776393057,
          17.951047455101357,
          18.01145383348472,
          18.07051263527424,
          18.128133198503274,
          18.18421665005097,
          18.238654968842233,
          18.291329920141713,
          18.34211184022237,
          18.390858246900844,
          18.437412246874366,
          18.48160070530016,
          18.523232136421665,
          18.562094266013492,
          18.597951206682325,
          18.630540175248896,
          18.65956766709803,
          18.684704984984243,
          18.705582998697448,
          18.721785986521,
          18.732844378799257,
          18.7382261874371,
          18.737326862216893,
          18.72945726533029,
          18.713829400360012,
          18.68953947391486,
          18.655547813609203,
          18.610655127925884,
          18.55347459587872,
          18.4823993609761,
          18.395565251381115,
          18.290809087198852,
          18.165623983731702,
          18.01711496420771,
          17.841961485022917,
          17.636398883590797,
          17.396239129751464,
          17.11696313722193,
          16.79393134940776,
          16.422771518560594,
          16
         ]
        },
        {
         "name": "L_star(tau)",
         "type": "scatter",
         "x": [
          0.001,
          0.0050120481927710845,
          0.00902409638554217,
          0.013036144578313254,
          0.01704819277108434,
          0.021060240963855423,
          0.025072289156626508,
          0.029084337349397592,
          0.03309638554216868,
          0.03710843373493976,
          0.041120481927710846,
          0.045132530120481934,
          0.049144578313253015,
          0.053156626506024096,
          0.057168674698795184,
          0.06118072289156627,
          0.06519277108433735,
          0.06920481927710843,
          0.07321686746987952,
          0.07722891566265061,
          0.08124096385542169,
          0.08525301204819277,
          0.08926506024096387,
          0.09327710843373495,
          0.09728915662650603,
          0.10130120481927711,
          0.10531325301204819,
          0.10932530120481929,
          0.11333734939759037,
          0.11734939759036145,
          0.12136144578313254,
          0.1253734939759036,
          0.1293855421686747,
          0.1333975903614458,
          0.13740963855421687,
          0.14142168674698796,
          0.14543373493975903,
          0.14944578313253012,
          0.15345783132530122,
          0.1574698795180723,
          0.16148192771084338,
          0.16549397590361448,
          0.16950602409638554,
          0.17351807228915664,
          0.17753012048192773,
          0.1815421686746988,
          0.1855542168674699,
          0.18956626506024096,
          0.19357831325301206,
          0.19759036144578315,
          0.20160240963855422,
          0.20561445783132531,
          0.20962650602409638,
          0.21363855421686748,
          0.21765060240963857,
          0.22166265060240964,
          0.22567469879518073,
          0.22968674698795183,
          0.2336987951807229,
          0.237710843373494,
          0.24172289156626509,
          0.24573493975903615,
          0.24974698795180725,
          0.25375903614457834,
          0.2577710843373494,
          0.2617831325301205,
          0.2657951807228916,
          0.26980722891566267,
          0.27381927710843373,
          0.27783132530120486,
          0.2818433734939759,
          0.285855421686747,
          0.28986746987951806,
          0.2938795180722892,
          0.29789156626506025,
          0.3019036144578313,
          0.30591566265060244,
          0.3099277108433735,
          0.31393975903614457,
          0.3179518072289157,
          0.32196385542168676,
          0.32597590361445783,
          0.32998795180722895,
          0.334,
          0.3380120481927711,
          0.3420240963855422,
          0.3460361445783133,
          0.35004819277108434,
          0.35406024096385547,
          0.35807228915662653,
          0.3620843373493976,
          0.36609638554216867,
          0.3701084337349398,
          0.37412048192771086,
          0.3781325301204819,
          0.38214457831325305,
          0.3861566265060241,
          0.3901686746987952,
          0.3941807228915663,
          0.39819277108433737,
          0.40220481927710844,
          0.40621686746987956,
          0.41022891566265063,
          0.4142409638554217,
          0.41825301204819276,
          0.4222650602409639,
          0.42627710843373495,
          0.430289156626506,
          0.43430120481927714,
          0.4383132530120482,
          0.4423253012048193,
          0.4463373493975904,
          0.45034939759036147,
          0.45436144578313253,
          0.45837349397590366,
          0.4623855421686747,
          0.4663975903614458,
          0.4704096385542169,
          0.474421686746988,
          0.47843373493975905,
          0.48244578313253017,
          0.48645783132530124,
          0.4904698795180723,
          0.49448192771084337,
          0.4984939759036145,
          0.5025060240963856,
          0.5065180722891567,
          0.5105301204819277,
          0.5145421686746988,
          0.5185542168674699,
          0.522566265060241,
          0.5265783132530121,
          0.5305903614457832,
          0.5346024096385542,
          0.5386144578313253,
          0.5426265060240965,
          0.5466385542168675,
          0.5506506024096386,
          0.5546626506024097,
          0.5586746987951807,
          0.5626867469879518,
          0.566698795180723,
          0.570710843373494,
          0.5747228915662651,
          0.5787349397590361,
          0.5827469879518072,
          0.5867590361445784,
          0.5907710843373494,
          0.5947831325301205,
          0.5987951807228916,
          0.6028072289156626,
          0.6068192771084338,
          0.6108313253012049,
          0.6148433734939759,
          0.618855421686747,
          0.6228674698795181,
          0.6268795180722891,
          0.6308915662650603,
          0.6349036144578314,
          0.6389156626506024,
          0.6429277108433735,
          0.6469397590361446,
          0.6509518072289157,
          0.6549638554216868,
          0.6589759036144579,
          0.6629879518072289,
          0.667,
          0.6710120481927712,
          0.6750240963855422,
          0.6790361445783133,
          0.6830481927710844,
          0.6870602409638554,
          0.6910722891566266,
          0.6950843373493977,
          0.6990963855421687,
          0.7031084337349398,
          0.7071204819277109,
          0.7111325301204819,
          0.7151445783132531,
          0.7191566265060241,
          0.7231686746987952,
          0.7271807228915663,
          0.7311927710843373,
          0.7352048192771085,
          0.7392168674698796,
          0.7432289156626506,
          0.7472409638554217,
          0.7512530120481928,
          0.7552650602409638,
          0.759277108433735,
          0.7632891566265061,
          0.7673012048192771,
          0.7713132530120482,
          0.7753253012048194,
          0.7793373493975904,
          0.7833493975903615,
          0.7873614457831326,
          0.7913734939759036,
          0.7953855421686747,
          0.7993975903614459,
          0.8034096385542169,
          0.807421686746988,
          0.8114337349397591,
          0.8154457831325301,
          0.8194578313253013,
          0.8234698795180724,
          0.8274819277108434,
          0.8314939759036145,
          0.8355060240963855,
          0.8395180722891566,
          0.8435301204819278,
          0.8475421686746988,
          0.8515542168674699,
          0.855566265060241,
          0.859578313253012,
          0.8635903614457832,
          0.8676024096385543,
          0.8716144578313253,
          0.8756265060240964,
          0.8796385542168675,
          0.8836506024096386,
          0.8876626506024097,
          0.8916746987951808,
          0.8956867469879518,
          0.8996987951807229,
          0.903710843373494,
          0.9077228915662651,
          0.9117349397590362,
          0.9157469879518073,
          0.9197590361445783,
          0.9237710843373494,
          0.9277831325301206,
          0.9317951807228916,
          0.9358072289156627,
          0.9398192771084338,
          0.9438313253012048,
          0.947843373493976,
          0.9518554216867471,
          0.9558674698795181,
          0.9598795180722892,
          0.9638915662650603,
          0.9679036144578314,
          0.9719156626506025,
          0.9759277108433735,
          0.9799397590361446,
          0.9839518072289157,
          0.9879638554216867,
          0.9919759036144579,
          0.995987951807229,
          1
         ],
         "y": [
          22.383963835914393,
          22.383009193496402,
          22.382047036858893,
          22.381077276956738,
          22.38009982333268,
          22.379114584089265,
          22.378121465860033,
          22.37712037378009,
          22.37611121145594,
          22.37509388093453,
          22.374068282671658,
          22.373034315499496,
          22.371991876593384,
          22.370940861437777,
          22.369881163791337,
          22.36881267565122,
          22.36773528721639,
          22.366648886850054,
          22.36555336104117,
          22.36444859436493,
          22.363334469442318,
          22.362210866898526,
          22.361077665320437,
          22.35993474121289,
          22.358781968953913,
          22.357619220748738,
          22.35644636658264,
          22.355263274172536,
          22.35406980891734,
          22.352865833846934,
          22.351651209569894,
          22.350425794219728,
          22.34918944339973,
          22.347942010126346,
          22.34668334477099,
          22.345413295000323,
          22.344131705714858,
          22.34283841898593,
          22.341533273990905,
          22.340216106946617,
          22.338886751040963,
          22.33754503636257,
          22.336190789828517,
          22.334823835110043,
          22.333443992556077,
          22.33205107911471,
          22.330644908252335,
          22.329225289870536,
          22.327792030220532,
          22.32634493181519,
          22.324883793338454,
          22.323408409552144,
          22.32191857120002,
          22.32041406490899,
          22.318894673087463,
          22.317360173820553,
          22.315810340762287,
          22.31424494302447,
          22.312663745062235,
          22.311066506556106,
          22.309452982290455,
          22.307822922028244,
          22.30617607038189,
          22.30451216668013,
          22.302830944830735,
          22.301132133178942,
          22.299415454361387,
          22.29768062515547,
          22.295927356323865,
          22.29415535245411,
          22.292364311793005,
          22.290553926075674,
          22.288723880349046,
          22.28687385278959,
          22.28500351451506,
          22.283112529389992,
          22.281200553824767,
          22.27926723656796,
          22.277312218491684,
          22.275335132369708,
          22.273335602648046,
          22.271313245207654,
          22.26926766711905,
          22.26719846638838,
          22.265105231694694,
          22.262987542118076,
          22.26084496685809,
          22.258677064942425,
          22.25648338492503,
          22.254263464573565,
          22.252016830545514,
          22.249742998052586,
          22.24744147051292,
          22.245111739190502,
          22.2427532828213,
          22.240365567225492,
          22.237948044905288,
          22.23550015462753,
          22.233021320990623,
          22.2305109539749,
          22.227968448475814,
          22.225393183819133,
          22.222784523257317,
          22.22014181344627,
          22.217464383901483,
          22.214751546432726,
          22.212002594556203,
          22.20921680288313,
          22.206393426483718,
          22.20353170022525,
          22.200630838083132,
          22.197690032423623,
          22.194708453256712,
          22.191685247457976,
          22.188619537957614,
          22.185510422895213,
          22.182356974738482,
          22.179158239364178,
          22.175913235099273,
          22.17262095172041,
          22.169280349409455,
          22.165890357662903,
          22.162449874152802,
          22.15895776353655,
          22.15541285621298,
          22.151813947021836,
          22.148159793883583,
          22.144449116376432,
          22.140680594247083,
          22.136852865851605,
          22.132964526522603,
          22.129014126858547,
          22.125000170930992,
          22.12092111440491,
          22.11677536256737,
          22.112561268259153,
          22.10827712970377,
          22.103921188227947,
          22.099491625867095,
          22.09498656284901,
          22.090404054948536,
          22.085742090705402,
          22.080998588496893,
          22.07617139345652,
          22.071258274229084,
          22.066256919552007,
          22.06116493465194,
          22.05597983744495,
          22.0506990545277,
          22.0453199169461,
          22.039839655726897,
          22.034255397156667,
          22.0285641577913,
          22.022762839177993,
          22.016848222270273,
          22.010816961514983,
          22.004665578588707,
          21.998390455759047,
          21.99198782884447,
          21.98545377974411,
          21.978784228506616,
          21.971974924904703,
          21.96502143947903,
          21.957919154012238,
          21.950663251390388,
          21.943248704805534,
          21.9356702662491,
          21.92792245424113,
          21.919999540735873,
          21.911895537138577,
          21.903604179362535,
          21.895118911848915,
          21.886432870464585,
          21.87753886418539,
          21.868429355463192,
          21.85909643916556,
          21.849531819965907,
          21.839726788049866,
          21.829672192990444,
          21.819358415629445,
          21.808775337786034,
          21.797912309594956,
          21.786758114255957,
          21.775300929952934,
          21.763528288675438,
          21.751427031645704,
          21.73898326102207,
          21.726182287512422,
          21.71300857349009,
          21.699445671157537,
          21.68547615525042,
          21.671081549714536,
          21.656242247720257,
          21.640937424301796,
          21.625144940820913,
          21.608841240354366,
          21.59200123299038,
          21.57459816988839,
          21.556603504806652,
          21.537986741630313,
          21.51871526623449,
          21.498754160788984,
          21.478065998347677,
          21.4566106152608,
          21.434344858594436,
          21.411222305330693,
          21.38719294964281,
          21.36220285398019,
          21.336193759044086,
          21.309102646966473,
          21.280861251102117,
          21.251395504779683,
          21.2206249201002,
          21.188461886382182,
          21.154810876084245,
          21.119567543931268,
          21.08261770245882,
          21.04383615418634,
          21.003085357028635,
          20.96021389522767,
          20.915054722876256,
          20.867423140819238,
          20.81711446012133,
          20.76390129609955,
          20.70753042578719,
          20.64771912821481,
          20.58415091057581,
          20.51647050363253,
          20.444277985991327,
          20.367121868487533,
          20.28449093627847,
          20.195804606965716,
          20.10040151828203,
          19.997526009757454,
          19.886312112491932,
          19.765764616527914,
          19.634736759642667,
          19.491904099259955,
          19.335734234480963,
          19.16445231410358,
          18.97600282786276,
          18.768009244295598,
          18.537734966706417,
          18.282052335212736,
          17.9974317002279,
          17.6799707078583,
          17.325495303586788,
          16.929777515981783,
          16.488925883853646,
          16
         ]
        },
        {
         "name": "Utility",
         "type": "scatter",
         "x": [
          0.001,
          0.0050120481927710845,
          0.00902409638554217,
          0.013036144578313254,
          0.01704819277108434,
          0.021060240963855423,
          0.025072289156626508,
          0.029084337349397592,
          0.03309638554216868,
          0.03710843373493976,
          0.041120481927710846,
          0.045132530120481934,
          0.049144578313253015,
          0.053156626506024096,
          0.057168674698795184,
          0.06118072289156627,
          0.06519277108433735,
          0.06920481927710843,
          0.07321686746987952,
          0.07722891566265061,
          0.08124096385542169,
          0.08525301204819277,
          0.08926506024096387,
          0.09327710843373495,
          0.09728915662650603,
          0.10130120481927711,
          0.10531325301204819,
          0.10932530120481929,
          0.11333734939759037,
          0.11734939759036145,
          0.12136144578313254,
          0.1253734939759036,
          0.1293855421686747,
          0.1333975903614458,
          0.13740963855421687,
          0.14142168674698796,
          0.14543373493975903,
          0.14944578313253012,
          0.15345783132530122,
          0.1574698795180723,
          0.16148192771084338,
          0.16549397590361448,
          0.16950602409638554,
          0.17351807228915664,
          0.17753012048192773,
          0.1815421686746988,
          0.1855542168674699,
          0.18956626506024096,
          0.19357831325301206,
          0.19759036144578315,
          0.20160240963855422,
          0.20561445783132531,
          0.20962650602409638,
          0.21363855421686748,
          0.21765060240963857,
          0.22166265060240964,
          0.22567469879518073,
          0.22968674698795183,
          0.2336987951807229,
          0.237710843373494,
          0.24172289156626509,
          0.24573493975903615,
          0.24974698795180725,
          0.25375903614457834,
          0.2577710843373494,
          0.2617831325301205,
          0.2657951807228916,
          0.26980722891566267,
          0.27381927710843373,
          0.27783132530120486,
          0.2818433734939759,
          0.285855421686747,
          0.28986746987951806,
          0.2938795180722892,
          0.29789156626506025,
          0.3019036144578313,
          0.30591566265060244,
          0.3099277108433735,
          0.31393975903614457,
          0.3179518072289157,
          0.32196385542168676,
          0.32597590361445783,
          0.32998795180722895,
          0.334,
          0.3380120481927711,
          0.3420240963855422,
          0.3460361445783133,
          0.35004819277108434,
          0.35406024096385547,
          0.35807228915662653,
          0.3620843373493976,
          0.36609638554216867,
          0.3701084337349398,
          0.37412048192771086,
          0.3781325301204819,
          0.38214457831325305,
          0.3861566265060241,
          0.3901686746987952,
          0.3941807228915663,
          0.39819277108433737,
          0.40220481927710844,
          0.40621686746987956,
          0.41022891566265063,
          0.4142409638554217,
          0.41825301204819276,
          0.4222650602409639,
          0.42627710843373495,
          0.430289156626506,
          0.43430120481927714,
          0.4383132530120482,
          0.4423253012048193,
          0.4463373493975904,
          0.45034939759036147,
          0.45436144578313253,
          0.45837349397590366,
          0.4623855421686747,
          0.4663975903614458,
          0.4704096385542169,
          0.474421686746988,
          0.47843373493975905,
          0.48244578313253017,
          0.48645783132530124,
          0.4904698795180723,
          0.49448192771084337,
          0.4984939759036145,
          0.5025060240963856,
          0.5065180722891567,
          0.5105301204819277,
          0.5145421686746988,
          0.5185542168674699,
          0.522566265060241,
          0.5265783132530121,
          0.5305903614457832,
          0.5346024096385542,
          0.5386144578313253,
          0.5426265060240965,
          0.5466385542168675,
          0.5506506024096386,
          0.5546626506024097,
          0.5586746987951807,
          0.5626867469879518,
          0.566698795180723,
          0.570710843373494,
          0.5747228915662651,
          0.5787349397590361,
          0.5827469879518072,
          0.5867590361445784,
          0.5907710843373494,
          0.5947831325301205,
          0.5987951807228916,
          0.6028072289156626,
          0.6068192771084338,
          0.6108313253012049,
          0.6148433734939759,
          0.618855421686747,
          0.6228674698795181,
          0.6268795180722891,
          0.6308915662650603,
          0.6349036144578314,
          0.6389156626506024,
          0.6429277108433735,
          0.6469397590361446,
          0.6509518072289157,
          0.6549638554216868,
          0.6589759036144579,
          0.6629879518072289,
          0.667,
          0.6710120481927712,
          0.6750240963855422,
          0.6790361445783133,
          0.6830481927710844,
          0.6870602409638554,
          0.6910722891566266,
          0.6950843373493977,
          0.6990963855421687,
          0.7031084337349398,
          0.7071204819277109,
          0.7111325301204819,
          0.7151445783132531,
          0.7191566265060241,
          0.7231686746987952,
          0.7271807228915663,
          0.7311927710843373,
          0.7352048192771085,
          0.7392168674698796,
          0.7432289156626506,
          0.7472409638554217,
          0.7512530120481928,
          0.7552650602409638,
          0.759277108433735,
          0.7632891566265061,
          0.7673012048192771,
          0.7713132530120482,
          0.7753253012048194,
          0.7793373493975904,
          0.7833493975903615,
          0.7873614457831326,
          0.7913734939759036,
          0.7953855421686747,
          0.7993975903614459,
          0.8034096385542169,
          0.807421686746988,
          0.8114337349397591,
          0.8154457831325301,
          0.8194578313253013,
          0.8234698795180724,
          0.8274819277108434,
          0.8314939759036145,
          0.8355060240963855,
          0.8395180722891566,
          0.8435301204819278,
          0.8475421686746988,
          0.8515542168674699,
          0.855566265060241,
          0.859578313253012,
          0.8635903614457832,
          0.8676024096385543,
          0.8716144578313253,
          0.8756265060240964,
          0.8796385542168675,
          0.8836506024096386,
          0.8876626506024097,
          0.8916746987951808,
          0.8956867469879518,
          0.8996987951807229,
          0.903710843373494,
          0.9077228915662651,
          0.9117349397590362,
          0.9157469879518073,
          0.9197590361445783,
          0.9237710843373494,
          0.9277831325301206,
          0.9317951807228916,
          0.9358072289156627,
          0.9398192771084338,
          0.9438313253012048,
          0.947843373493976,
          0.9518554216867471,
          0.9558674698795181,
          0.9598795180722892,
          0.9638915662650603,
          0.9679036144578314,
          0.9719156626506025,
          0.9759277108433735,
          0.9799397590361446,
          0.9839518072289157,
          0.9879638554216867,
          0.9919759036144579,
          0.995987951807229,
          1
         ],
         "y": [
          -0.813457513702216,
          -0.009460967248689556,
          0.28263267222124094,
          0.4646056879102322,
          0.5968165825004796,
          0.7005320572584888,
          0.7857566166994361,
          0.8580035908690566,
          0.9206366206173344,
          0.9758597421519992,
          1.0251958816265598,
          1.0697414646723273,
          1.1103121576399213,
          1.1475312268378046,
          1.1818856589588356,
          1.2137632029255938,
          1.2434776231821694,
          1.271286398315688,
          1.2974034246041521,
          1.3220083261876785,
          1.3452534046458147,
          1.367268911682022,
          1.3881671081917186,
          1.4080454302189191,
          1.4269889877062654,
          1.4450725579671206,
          1.4623621917358922,
          1.478916518777655,
          1.4947878180744332,
          1.5100229017601283,
          1.5246638503959455,
          1.5387486286136092,
          1.5523116037490063,
          1.565383985250015,
          1.577994198951291,
          1.59016820746814,
          1.6019297857570498,
          1.613300759166142,
          1.6243012099400975,
          1.6349496570661093,
          1.6452632134864524,
          1.6552577240114492,
          1.6649478867073817,
          1.674347360079425,
          1.6834688579982855,
          1.692324234014309,
          1.7009245564512194,
          1.7092801754631108,
          1.7174007830647586,
          1.7252954670002116,
          1.7329727591929043,
          1.740440679417955,
          1.747706774750659,
          1.754778155271609,
          1.7616615264463247,
          1.7683632185437916,
          1.7748892134125795,
          1.7812451688938566,
          1.787436441116764,
          1.793468104892368,
          1.7993449723970392,
          1.8050716103141422,
          1.81065235558374,
          1.8160913298933261,
          1.8213924530279801,
          1.8265594551855333,
          1.8315958883510968,
          1.8365051368153809,
          1.8412904269125292,
          1.8459548360454672,
          1.8505013010599183,
          1.8549326260222196,
          1.8592514894506489,
          1.8634604510452046,
          1.867561957956514,
          1.8715583506307116,
          1.8754518682637373,
          1.8792446538954308,
          1.8829387591710804,
          1.8865361487955894,
          1.8900387047032372,
          1.893448229964,
          1.8967664524455838,
          1.899995028248726,
          1.9031355449318117,
          1.906189524539546,
          1.9091584264491959,
          1.9120436500468283,
          1.9148465372449597,
          1.9175683748521375,
          1.9202103968041375,
          1.9227737862656977,
          1.9252596776110409,
          1.9276691582907832,
          1.930003270592262,
          1.9322630132997851,
          1.9344493432608119,
          1.9365631768636398,
          1.9386053914317527,
          1.9405768265396126,
          1.9424782852543276,
          1.9443105353073102,
          1.9460743101997457,
          1.9477703102454087,
          1.9493992035541237,
          1.9509616269589185,
          1.9524581868897193,
          1.9538894601962118,
          1.9552559949223238,
          1.9565583110346028,
          1.957796901106592,
          1.9589722309611757,
          1.9600847402726915,
          1.9611348431305147,
          1.9621229285656476,
          1.9630493610417785,
          1.9639144809121183,
          1.9647186048432557,
          1.9654620262071514,
          1.9661450154423052,
          1.9667678203850425,
          1.9673306665717831,
          1.9678337575130662,
          1.9682772749400466,
          1.9686613790240834,
          1.968986208569981,
          1.9692518811833797,
          1.9694584934127133,
          1.9696061208660987,
          1.9696948183034506,
          1.9697246197040597,
          1.9696955383098091,
          1.9696075666441384,
          1.9694606765068234,
          1.9692548189445516,
          1.9689899241972473,
          1.9686659016200143,
          1.9682826395805142,
          1.9678400053315506,
          1.9673378448585412,
          1.9667759827015217,
          1.9661542217512493,
          1.9654723430189085,
          1.964730105378861,
          1.963927245283799,
          1.9630634764516022,
          1.9621384895231093,
          1.961151951689951,
          1.960103506291492,
          1.9589927723798537,
          1.9578193442518972,
          1.9565827909469382,
          1.9552826557088847,
          1.9539184554113576,
          1.9524896799442495,
          1.9509957915600655,
          1.9494362241782404,
          1.9478103826454967,
          1.9461176419501747,
          1.9443573463882788,
          1.9425288086788464,
          1.9406313090260363,
          1.9386640941251656,
          1.9366263761096958,
          1.9345173314359478,
          1.9323360997021002,
          1.9300817823977356,
          1.9277534415799498,
          1.9253500984717025,
          1.9228707319777982,
          1.92031427711349,
          1.9176796233403464,
          1.9149656128035857,
          1.9121710384646353,
          1.9092946421221852,
          1.9063351123144607,
          1.9032910820948685,
          1.900161126672526,
          1.8969437609085005,
          1.8936374366578297,
          1.8902405399465643,
          1.8867513879721836,
          1.883168225914742,
          1.8794892235450296,
          1.8757124716148488,
          1.8718359780131986,
          1.8678576636707585,
          1.8637753581934642,
          1.8595867952042764,
          1.855289607370313,
          1.850881321090451,
          1.8463593508161744,
          1.8417209929758984,
          1.8369634194701763,
          1.8320836707020862,
          1.827078648103617,
          1.821945106115048,
          1.8166796435700734,
          1.811278694434666,
          1.8057385178424699,
          1.8000551873636117,
          1.7942245794373621,
          1.788242360891811,
          1.7821039754656312,
          1.7758046292380187,
          1.7693392748628145,
          1.7627025944916082,
          1.7558889812580794,
          1.7488925191818558,
          1.74170696133455,
          1.7343257060932262,
          1.7267417712871664,
          1.7189477660222137,
          1.7109358599430229,
          1.702697749667042,
          1.6942246220947865,
          1.685507114268933,
          1.6765352694197853,
          1.6672984887970257,
          1.6577854788475372,
          1.647984193257191,
          1.6378817693319607,
          1.6274644581523459,
          1.6167175478977485,
          1.6056252797085737,
          1.5941707554399174,
          1.5823358366715956,
          1.5701010343892896,
          1.5574453888617559,
          1.5443463394400072,
          1.5307795843406669,
          1.5167189310119564,
          1.5021361385105445,
          1.48700075457617,
          1.4712799519736772,
          1.4549383714594293,
          1.4379379828218877,
          1.4202379814120776,
          1.4017947462110176,
          1.382561897858407,
          1.3624905126072164,
          1.3415295726087668,
          1.3196267661234222,
          1.2967297945196907,
          1.272788395520503,
          1.2477573479859132,
          1.2216007650477458,
          1.1942979709570283,
          1.165851121410305,
          1.1362943611198906
         ]
        }
       ],
       "layout": {
        "font": {
         "color": "#7f7f7f",
         "family": "Courier New, monospace",
         "size": 18
        },
        "template": {
         "data": {
          "bar": [
           {
            "error_x": {
             "color": "#2a3f5f"
            },
            "error_y": {
             "color": "#2a3f5f"
            },
            "marker": {
             "line": {
              "color": "#E5ECF6",
              "width": 0.5
             },
             "pattern": {
              "fillmode": "overlay",
              "size": 10,
              "solidity": 0.2
             }
            },
            "type": "bar"
           }
          ],
          "barpolar": [
           {
            "marker": {
             "line": {
              "color": "#E5ECF6",
              "width": 0.5
             },
             "pattern": {
              "fillmode": "overlay",
              "size": 10,
              "solidity": 0.2
             }
            },
            "type": "barpolar"
           }
          ],
          "carpet": [
           {
            "aaxis": {
             "endlinecolor": "#2a3f5f",
             "gridcolor": "white",
             "linecolor": "white",
             "minorgridcolor": "white",
             "startlinecolor": "#2a3f5f"
            },
            "baxis": {
             "endlinecolor": "#2a3f5f",
             "gridcolor": "white",
             "linecolor": "white",
             "minorgridcolor": "white",
             "startlinecolor": "#2a3f5f"
            },
            "type": "carpet"
           }
          ],
          "choropleth": [
           {
            "colorbar": {
             "outlinewidth": 0,
             "ticks": ""
            },
            "type": "choropleth"
           }
          ],
          "contour": [
           {
            "colorbar": {
             "outlinewidth": 0,
             "ticks": ""
            },
            "colorscale": [
             [
              0,
              "#0d0887"
             ],
             [
              0.1111111111111111,
              "#46039f"
             ],
             [
              0.2222222222222222,
              "#7201a8"
             ],
             [
              0.3333333333333333,
              "#9c179e"
             ],
             [
              0.4444444444444444,
              "#bd3786"
             ],
             [
              0.5555555555555556,
              "#d8576b"
             ],
             [
              0.6666666666666666,
              "#ed7953"
             ],
             [
              0.7777777777777778,
              "#fb9f3a"
             ],
             [
              0.8888888888888888,
              "#fdca26"
             ],
             [
              1,
              "#f0f921"
             ]
            ],
            "type": "contour"
           }
          ],
          "contourcarpet": [
           {
            "colorbar": {
             "outlinewidth": 0,
             "ticks": ""
            },
            "type": "contourcarpet"
           }
          ],
          "heatmap": [
           {
            "colorbar": {
             "outlinewidth": 0,
             "ticks": ""
            },
            "colorscale": [
             [
              0,
              "#0d0887"
             ],
             [
              0.1111111111111111,
              "#46039f"
             ],
             [
              0.2222222222222222,
              "#7201a8"
             ],
             [
              0.3333333333333333,
              "#9c179e"
             ],
             [
              0.4444444444444444,
              "#bd3786"
             ],
             [
              0.5555555555555556,
              "#d8576b"
             ],
             [
              0.6666666666666666,
              "#ed7953"
             ],
             [
              0.7777777777777778,
              "#fb9f3a"
             ],
             [
              0.8888888888888888,
              "#fdca26"
             ],
             [
              1,
              "#f0f921"
             ]
            ],
            "type": "heatmap"
           }
          ],
          "heatmapgl": [
           {
            "colorbar": {
             "outlinewidth": 0,
             "ticks": ""
            },
            "colorscale": [
             [
              0,
              "#0d0887"
             ],
             [
              0.1111111111111111,
              "#46039f"
             ],
             [
              0.2222222222222222,
              "#7201a8"
             ],
             [
              0.3333333333333333,
              "#9c179e"
             ],
             [
              0.4444444444444444,
              "#bd3786"
             ],
             [
              0.5555555555555556,
              "#d8576b"
             ],
             [
              0.6666666666666666,
              "#ed7953"
             ],
             [
              0.7777777777777778,
              "#fb9f3a"
             ],
             [
              0.8888888888888888,
              "#fdca26"
             ],
             [
              1,
              "#f0f921"
             ]
            ],
            "type": "heatmapgl"
           }
          ],
          "histogram": [
           {
            "marker": {
             "pattern": {
              "fillmode": "overlay",
              "size": 10,
              "solidity": 0.2
             }
            },
            "type": "histogram"
           }
          ],
          "histogram2d": [
           {
            "colorbar": {
             "outlinewidth": 0,
             "ticks": ""
            },
            "colorscale": [
             [
              0,
              "#0d0887"
             ],
             [
              0.1111111111111111,
              "#46039f"
             ],
             [
              0.2222222222222222,
              "#7201a8"
             ],
             [
              0.3333333333333333,
              "#9c179e"
             ],
             [
              0.4444444444444444,
              "#bd3786"
             ],
             [
              0.5555555555555556,
              "#d8576b"
             ],
             [
              0.6666666666666666,
              "#ed7953"
             ],
             [
              0.7777777777777778,
              "#fb9f3a"
             ],
             [
              0.8888888888888888,
              "#fdca26"
             ],
             [
              1,
              "#f0f921"
             ]
            ],
            "type": "histogram2d"
           }
          ],
          "histogram2dcontour": [
           {
            "colorbar": {
             "outlinewidth": 0,
             "ticks": ""
            },
            "colorscale": [
             [
              0,
              "#0d0887"
             ],
             [
              0.1111111111111111,
              "#46039f"
             ],
             [
              0.2222222222222222,
              "#7201a8"
             ],
             [
              0.3333333333333333,
              "#9c179e"
             ],
             [
              0.4444444444444444,
              "#bd3786"
             ],
             [
              0.5555555555555556,
              "#d8576b"
             ],
             [
              0.6666666666666666,
              "#ed7953"
             ],
             [
              0.7777777777777778,
              "#fb9f3a"
             ],
             [
              0.8888888888888888,
              "#fdca26"
             ],
             [
              1,
              "#f0f921"
             ]
            ],
            "type": "histogram2dcontour"
           }
          ],
          "mesh3d": [
           {
            "colorbar": {
             "outlinewidth": 0,
             "ticks": ""
            },
            "type": "mesh3d"
           }
          ],
          "parcoords": [
           {
            "line": {
             "colorbar": {
              "outlinewidth": 0,
              "ticks": ""
             }
            },
            "type": "parcoords"
           }
          ],
          "pie": [
           {
            "automargin": true,
            "type": "pie"
           }
          ],
          "scatter": [
           {
            "fillpattern": {
             "fillmode": "overlay",
             "size": 10,
             "solidity": 0.2
            },
            "type": "scatter"
           }
          ],
          "scatter3d": [
           {
            "line": {
             "colorbar": {
              "outlinewidth": 0,
              "ticks": ""
             }
            },
            "marker": {
             "colorbar": {
              "outlinewidth": 0,
              "ticks": ""
             }
            },
            "type": "scatter3d"
           }
          ],
          "scattercarpet": [
           {
            "marker": {
             "colorbar": {
              "outlinewidth": 0,
              "ticks": ""
             }
            },
            "type": "scattercarpet"
           }
          ],
          "scattergeo": [
           {
            "marker": {
             "colorbar": {
              "outlinewidth": 0,
              "ticks": ""
             }
            },
            "type": "scattergeo"
           }
          ],
          "scattergl": [
           {
            "marker": {
             "colorbar": {
              "outlinewidth": 0,
              "ticks": ""
             }
            },
            "type": "scattergl"
           }
          ],
          "scattermapbox": [
           {
            "marker": {
             "colorbar": {
              "outlinewidth": 0,
              "ticks": ""
             }
            },
            "type": "scattermapbox"
           }
          ],
          "scatterpolar": [
           {
            "marker": {
             "colorbar": {
              "outlinewidth": 0,
              "ticks": ""
             }
            },
            "type": "scatterpolar"
           }
          ],
          "scatterpolargl": [
           {
            "marker": {
             "colorbar": {
              "outlinewidth": 0,
              "ticks": ""
             }
            },
            "type": "scatterpolargl"
           }
          ],
          "scatterternary": [
           {
            "marker": {
             "colorbar": {
              "outlinewidth": 0,
              "ticks": ""
             }
            },
            "type": "scatterternary"
           }
          ],
          "surface": [
           {
            "colorbar": {
             "outlinewidth": 0,
             "ticks": ""
            },
            "colorscale": [
             [
              0,
              "#0d0887"
             ],
             [
              0.1111111111111111,
              "#46039f"
             ],
             [
              0.2222222222222222,
              "#7201a8"
             ],
             [
              0.3333333333333333,
              "#9c179e"
             ],
             [
              0.4444444444444444,
              "#bd3786"
             ],
             [
              0.5555555555555556,
              "#d8576b"
             ],
             [
              0.6666666666666666,
              "#ed7953"
             ],
             [
              0.7777777777777778,
              "#fb9f3a"
             ],
             [
              0.8888888888888888,
              "#fdca26"
             ],
             [
              1,
              "#f0f921"
             ]
            ],
            "type": "surface"
           }
          ],
          "table": [
           {
            "cells": {
             "fill": {
              "color": "#EBF0F8"
             },
             "line": {
              "color": "white"
             }
            },
            "header": {
             "fill": {
              "color": "#C8D4E3"
             },
             "line": {
              "color": "white"
             }
            },
            "type": "table"
           }
          ]
         },
         "layout": {
          "annotationdefaults": {
           "arrowcolor": "#2a3f5f",
           "arrowhead": 0,
           "arrowwidth": 1
          },
          "autotypenumbers": "strict",
          "coloraxis": {
           "colorbar": {
            "outlinewidth": 0,
            "ticks": ""
           }
          },
          "colorscale": {
           "diverging": [
            [
             0,
             "#8e0152"
            ],
            [
             0.1,
             "#c51b7d"
            ],
            [
             0.2,
             "#de77ae"
            ],
            [
             0.3,
             "#f1b6da"
            ],
            [
             0.4,
             "#fde0ef"
            ],
            [
             0.5,
             "#f7f7f7"
            ],
            [
             0.6,
             "#e6f5d0"
            ],
            [
             0.7,
             "#b8e186"
            ],
            [
             0.8,
             "#7fbc41"
            ],
            [
             0.9,
             "#4d9221"
            ],
            [
             1,
             "#276419"
            ]
           ],
           "sequential": [
            [
             0,
             "#0d0887"
            ],
            [
             0.1111111111111111,
             "#46039f"
            ],
            [
             0.2222222222222222,
             "#7201a8"
            ],
            [
             0.3333333333333333,
             "#9c179e"
            ],
            [
             0.4444444444444444,
             "#bd3786"
            ],
            [
             0.5555555555555556,
             "#d8576b"
            ],
            [
             0.6666666666666666,
             "#ed7953"
            ],
            [
             0.7777777777777778,
             "#fb9f3a"
            ],
            [
             0.8888888888888888,
             "#fdca26"
            ],
            [
             1,
             "#f0f921"
            ]
           ],
           "sequentialminus": [
            [
             0,
             "#0d0887"
            ],
            [
             0.1111111111111111,
             "#46039f"
            ],
            [
             0.2222222222222222,
             "#7201a8"
            ],
            [
             0.3333333333333333,
             "#9c179e"
            ],
            [
             0.4444444444444444,
             "#bd3786"
            ],
            [
             0.5555555555555556,
             "#d8576b"
            ],
            [
             0.6666666666666666,
             "#ed7953"
            ],
            [
             0.7777777777777778,
             "#fb9f3a"
            ],
            [
             0.8888888888888888,
             "#fdca26"
            ],
            [
             1,
             "#f0f921"
            ]
           ]
          },
          "colorway": [
           "#636efa",
           "#EF553B",
           "#00cc96",
           "#ab63fa",
           "#FFA15A",
           "#19d3f3",
           "#FF6692",
           "#B6E880",
           "#FF97FF",
           "#FECB52"
          ],
          "font": {
           "color": "#2a3f5f"
          },
          "geo": {
           "bgcolor": "white",
           "lakecolor": "white",
           "landcolor": "#E5ECF6",
           "showlakes": true,
           "showland": true,
           "subunitcolor": "white"
          },
          "hoverlabel": {
           "align": "left"
          },
          "hovermode": "closest",
          "mapbox": {
           "style": "light"
          },
          "paper_bgcolor": "white",
          "plot_bgcolor": "#E5ECF6",
          "polar": {
           "angularaxis": {
            "gridcolor": "white",
            "linecolor": "white",
            "ticks": ""
           },
           "bgcolor": "#E5ECF6",
           "radialaxis": {
            "gridcolor": "white",
            "linecolor": "white",
            "ticks": ""
           }
          },
          "scene": {
           "xaxis": {
            "backgroundcolor": "#E5ECF6",
            "gridcolor": "white",
            "gridwidth": 2,
            "linecolor": "white",
            "showbackground": true,
            "ticks": "",
            "zerolinecolor": "white"
           },
           "yaxis": {
            "backgroundcolor": "#E5ECF6",
            "gridcolor": "white",
            "gridwidth": 2,
            "linecolor": "white",
            "showbackground": true,
            "ticks": "",
            "zerolinecolor": "white"
           },
           "zaxis": {
            "backgroundcolor": "#E5ECF6",
            "gridcolor": "white",
            "gridwidth": 2,
            "linecolor": "white",
            "showbackground": true,
            "ticks": "",
            "zerolinecolor": "white"
           }
          },
          "shapedefaults": {
           "line": {
            "color": "#2a3f5f"
           }
          },
          "ternary": {
           "aaxis": {
            "gridcolor": "white",
            "linecolor": "white",
            "ticks": ""
           },
           "baxis": {
            "gridcolor": "white",
            "linecolor": "white",
            "ticks": ""
           },
           "bgcolor": "#E5ECF6",
           "caxis": {
            "gridcolor": "white",
            "linecolor": "white",
            "ticks": ""
           }
          },
          "title": {
           "x": 0.05
          },
          "xaxis": {
           "automargin": true,
           "gridcolor": "white",
           "linecolor": "white",
           "ticks": "",
           "title": {
            "standoff": 15
           },
           "zerolinecolor": "white",
           "zerolinewidth": 2
          },
          "yaxis": {
           "automargin": true,
           "gridcolor": "white",
           "linecolor": "white",
           "ticks": "",
           "title": {
            "standoff": 15
           },
           "zerolinecolor": "white",
           "zerolinewidth": 2
          }
         }
        },
        "title": {
         "text": "Optimal labor supply, implied government spending, and implied utility"
        },
        "xaxis": {
         "title": {
          "text": "tau"
         }
        },
        "yaxis": {
         "title": {
          "text": "Value"
         }
        }
       }
      }
     },
     "metadata": {},
     "output_type": "display_data"
    }
   ],
   "source": [
    "# Define the grid\n",
    "tau_grid = np.linspace(0.001, 1, 250)\n",
    "\n",
    "# Initialize lists to store the values of L_star, G_star, and utility\n",
    "L_star_values = []\n",
    "G_star_values = []\n",
    "utility_values = []\n",
    "\n",
    "# Calculate L_star, G_star, and utility for each tau value\n",
    "for tau in tau_grid:\n",
    "    result = Problem1.numerical_lagrangian_optimization(tau)\n",
    "    L_star = result[0]\n",
    "    G_star = result[1]\n",
    "    utility = result[2]\n",
    "    L_star_values.append(L_star)\n",
    "    G_star_values.append(G_star)\n",
    "    utility_values.append(utility)\n",
    "\n",
    "# Plotting the functions\n",
    "fig = go.Figure()\n",
    "fig.add_trace(go.Scatter(x=tau_grid, y=G_star_values, name='G(tau)'))\n",
    "fig.add_trace(go.Scatter(x=tau_grid, y=L_star_values, name='L_star(tau)'))\n",
    "fig.add_trace(go.Scatter(x=tau_grid, y=utility_values, name='Utility'))\n",
    "fig.update_layout(\n",
    "    title=\"Optimal labor supply, implied government spending, and implied utility\",\n",
    "    xaxis_title=\"tau\",\n",
    "    yaxis_title=\"Value\",\n",
    "    font=dict(\n",
    "        family=\"Courier New, monospace\",\n",
    "        size=18,\n",
    "        color=\"#7f7f7f\"\n",
    "    )\n",
    ")\n",
    "fig.show()\n"
   ]
  },
  {
   "attachments": {},
   "cell_type": "markdown",
   "metadata": {},
   "source": [
    "It is evident from the data that government spending increases as the taxation rate rises, while labor hours decrease. \n",
    "\n",
    "However, it is difficult to observe the impact on utility since it remains nearly constant due to its significantly lower scale. To address this, we recreate the graph with the y-axis plotted on a logarithmic scale:"
   ]
  },
  {
   "cell_type": "code",
   "execution_count": 1183,
   "metadata": {},
   "outputs": [
    {
     "data": {
      "application/vnd.plotly.v1+json": {
       "config": {
        "plotlyServerURL": "https://plot.ly"
       },
       "data": [
        {
         "name": "G(tau)",
         "type": "scatter",
         "x": [
          0.001,
          0.0050120481927710845,
          0.00902409638554217,
          0.013036144578313254,
          0.01704819277108434,
          0.021060240963855423,
          0.025072289156626508,
          0.029084337349397592,
          0.03309638554216868,
          0.03710843373493976,
          0.041120481927710846,
          0.045132530120481934,
          0.049144578313253015,
          0.053156626506024096,
          0.057168674698795184,
          0.06118072289156627,
          0.06519277108433735,
          0.06920481927710843,
          0.07321686746987952,
          0.07722891566265061,
          0.08124096385542169,
          0.08525301204819277,
          0.08926506024096387,
          0.09327710843373495,
          0.09728915662650603,
          0.10130120481927711,
          0.10531325301204819,
          0.10932530120481929,
          0.11333734939759037,
          0.11734939759036145,
          0.12136144578313254,
          0.1253734939759036,
          0.1293855421686747,
          0.1333975903614458,
          0.13740963855421687,
          0.14142168674698796,
          0.14543373493975903,
          0.14944578313253012,
          0.15345783132530122,
          0.1574698795180723,
          0.16148192771084338,
          0.16549397590361448,
          0.16950602409638554,
          0.17351807228915664,
          0.17753012048192773,
          0.1815421686746988,
          0.1855542168674699,
          0.18956626506024096,
          0.19357831325301206,
          0.19759036144578315,
          0.20160240963855422,
          0.20561445783132531,
          0.20962650602409638,
          0.21363855421686748,
          0.21765060240963857,
          0.22166265060240964,
          0.22567469879518073,
          0.22968674698795183,
          0.2336987951807229,
          0.237710843373494,
          0.24172289156626509,
          0.24573493975903615,
          0.24974698795180725,
          0.25375903614457834,
          0.2577710843373494,
          0.2617831325301205,
          0.2657951807228916,
          0.26980722891566267,
          0.27381927710843373,
          0.27783132530120486,
          0.2818433734939759,
          0.285855421686747,
          0.28986746987951806,
          0.2938795180722892,
          0.29789156626506025,
          0.3019036144578313,
          0.30591566265060244,
          0.3099277108433735,
          0.31393975903614457,
          0.3179518072289157,
          0.32196385542168676,
          0.32597590361445783,
          0.32998795180722895,
          0.334,
          0.3380120481927711,
          0.3420240963855422,
          0.3460361445783133,
          0.35004819277108434,
          0.35406024096385547,
          0.35807228915662653,
          0.3620843373493976,
          0.36609638554216867,
          0.3701084337349398,
          0.37412048192771086,
          0.3781325301204819,
          0.38214457831325305,
          0.3861566265060241,
          0.3901686746987952,
          0.3941807228915663,
          0.39819277108433737,
          0.40220481927710844,
          0.40621686746987956,
          0.41022891566265063,
          0.4142409638554217,
          0.41825301204819276,
          0.4222650602409639,
          0.42627710843373495,
          0.430289156626506,
          0.43430120481927714,
          0.4383132530120482,
          0.4423253012048193,
          0.4463373493975904,
          0.45034939759036147,
          0.45436144578313253,
          0.45837349397590366,
          0.4623855421686747,
          0.4663975903614458,
          0.4704096385542169,
          0.474421686746988,
          0.47843373493975905,
          0.48244578313253017,
          0.48645783132530124,
          0.4904698795180723,
          0.49448192771084337,
          0.4984939759036145,
          0.5025060240963856,
          0.5065180722891567,
          0.5105301204819277,
          0.5145421686746988,
          0.5185542168674699,
          0.522566265060241,
          0.5265783132530121,
          0.5305903614457832,
          0.5346024096385542,
          0.5386144578313253,
          0.5426265060240965,
          0.5466385542168675,
          0.5506506024096386,
          0.5546626506024097,
          0.5586746987951807,
          0.5626867469879518,
          0.566698795180723,
          0.570710843373494,
          0.5747228915662651,
          0.5787349397590361,
          0.5827469879518072,
          0.5867590361445784,
          0.5907710843373494,
          0.5947831325301205,
          0.5987951807228916,
          0.6028072289156626,
          0.6068192771084338,
          0.6108313253012049,
          0.6148433734939759,
          0.618855421686747,
          0.6228674698795181,
          0.6268795180722891,
          0.6308915662650603,
          0.6349036144578314,
          0.6389156626506024,
          0.6429277108433735,
          0.6469397590361446,
          0.6509518072289157,
          0.6549638554216868,
          0.6589759036144579,
          0.6629879518072289,
          0.667,
          0.6710120481927712,
          0.6750240963855422,
          0.6790361445783133,
          0.6830481927710844,
          0.6870602409638554,
          0.6910722891566266,
          0.6950843373493977,
          0.6990963855421687,
          0.7031084337349398,
          0.7071204819277109,
          0.7111325301204819,
          0.7151445783132531,
          0.7191566265060241,
          0.7231686746987952,
          0.7271807228915663,
          0.7311927710843373,
          0.7352048192771085,
          0.7392168674698796,
          0.7432289156626506,
          0.7472409638554217,
          0.7512530120481928,
          0.7552650602409638,
          0.759277108433735,
          0.7632891566265061,
          0.7673012048192771,
          0.7713132530120482,
          0.7753253012048194,
          0.7793373493975904,
          0.7833493975903615,
          0.7873614457831326,
          0.7913734939759036,
          0.7953855421686747,
          0.7993975903614459,
          0.8034096385542169,
          0.807421686746988,
          0.8114337349397591,
          0.8154457831325301,
          0.8194578313253013,
          0.8234698795180724,
          0.8274819277108434,
          0.8314939759036145,
          0.8355060240963855,
          0.8395180722891566,
          0.8435301204819278,
          0.8475421686746988,
          0.8515542168674699,
          0.855566265060241,
          0.859578313253012,
          0.8635903614457832,
          0.8676024096385543,
          0.8716144578313253,
          0.8756265060240964,
          0.8796385542168675,
          0.8836506024096386,
          0.8876626506024097,
          0.8916746987951808,
          0.8956867469879518,
          0.8996987951807229,
          0.903710843373494,
          0.9077228915662651,
          0.9117349397590362,
          0.9157469879518073,
          0.9197590361445783,
          0.9237710843373494,
          0.9277831325301206,
          0.9317951807228916,
          0.9358072289156627,
          0.9398192771084338,
          0.9438313253012048,
          0.947843373493976,
          0.9518554216867471,
          0.9558674698795181,
          0.9598795180722892,
          0.9638915662650603,
          0.9679036144578314,
          0.9719156626506025,
          0.9759277108433735,
          0.9799397590361446,
          0.9839518072289157,
          0.9879638554216867,
          0.9919759036144579,
          0.995987951807229,
          1
         ],
         "y": [
          0.022383963835914393,
          0.11218472077704221,
          0.20197774976635316,
          0.2917629592008096,
          0.3815402560242861,
          0.4713095456986511,
          0.5610707321741534,
          0.6508237178590981,
          0.7405684035887887,
          0.830304688593715,
          0.9200324704669683,
          1.0097516451308568,
          1.099462106802704,
          1.189163747959801,
          1.2788564593034928,
          1.3685401297223725,
          1.4582146462545529,
          1.5478798940489966,
          1.6375357563258697,
          1.727182114335894,
          1.8168188473186693,
          1.9064458324599274,
          1.9960629448477005,
          2.0856700574273517,
          2.175267040955456,
          2.2648537639524746,
          2.354430092654203,
          2.443995890961947,
          2.533551020391391,
          2.62309534002011,
          2.712628706433706,
          2.8021509736704875,
          2.8916619931646954,
          2.98116161368818,
          3.07064968129052,
          3.160126039237516,
          3.2495905279480004,
          3.3390429849289336,
          3.428483244708701,
          3.5179111387685817,
          3.607326495472314,
          3.6967291399936903,
          3.7861188942421373,
          3.875495576786203,
          3.9648590027748654,
          4.054208983856632,
          4.143545328096316,
          4.232867839889434,
          4.322176319874136,
          4.411470564840592,
          4.500750367637739,
          4.590015517077312,
          4.67926579783505,
          4.768500990348991,
          4.857720870714759,
          4.946925210577717,
          5.036113777021908,
          5.125286332455645,
          5.214442634493641,
          5.303582435835566,
          5.392705484140885,
          5.481811521899856,
          5.5709002863005574,
          5.65997150909177,
          5.749024916441609,
          5.838060228791711,
          5.927077160706827,
          6.016075420719658,
          6.1050547111707525,
          6.194014728043275,
          6.282955160792455,
          6.371875692169535,
          6.460775998039972,
          6.5496557471957075,
          6.638514601161264,
          6.727352213993426,
          6.816168232074274,
          6.90496229389728,
          6.993734029846238,
          7.082483061966706,
          7.171209003729684,
          7.259911459787208,
          7.348590025719563,
          7.437244287773719,
          7.525873822592707,
          7.614478196935518,
          7.703056967387123,
          7.79160968005828,
          7.880135870274602,
          7.968635062254535,
          8.057106768775716,
          8.145550490829228,
          8.233965717261283,
          8.32235192440173,
          8.410708575678873,
          8.499035121219979,
          8.58733099743686,
          8.675595626595879,
          8.763828416371691,
          8.852028759383982,
          8.940196032716482,
          9.028329597417422,
          9.116428797980584,
          9.20449296180614,
          9.29252139864024,
          9.380513399992461,
          9.468468238530036,
          9.556385167447809,
          9.644263419812754,
          9.732102207881862,
          9.81990072239212,
          9.907658131821272,
          9.995373581617864,
          10.08304619339922,
          10.170675064115633,
          10.258259265179188,
          10.345797841555438,
          10.433289810816085,
          10.520734162150653,
          10.608129855335152,
          10.695475819655456,
          10.782770952783101,
          10.870014119601041,
          10.957204150976711,
          11.044339842479664,
          11.131419953040805,
          11.218443203550118,
          11.305408275389578,
          11.392313808897713,
          11.479158401762087,
          11.56594060733572,
          11.65265893287325,
          11.73931183768229,
          11.825897731185238,
          11.912414970886438,
          11.998861860239227,
          12.085236646407104,
          12.171537517912894,
          12.2577626021692,
          12.343909962883236,
          12.429977597328453,
          12.515963433474933,
          12.601865326969993,
          12.687681057959795,
          12.773408327742096,
          12.859044755239657,
          12.944587873282943,
          13.030035124690068,
          13.115383858130953,
          13.200631323761701,
          13.285774668614263,
          13.370810931725213,
          13.45573703898628,
          13.540549797697967,
          13.625245890806175,
          13.70982187080002,
          13.794274153247578,
          13.878599009944178,
          13.962792561645989,
          14.046850770359399,
          14.1307694311542,
          14.21454416346606,
          14.298170401850754,
          14.381643386149559,
          14.464958151021655,
          14.54810951479565,
          14.63109206758815,
          14.7139001586326,
          14.796527882756731,
          14.878969065941329,
          14.96121724988675,
          15.043265675507183,
          15.125107265264798,
          15.206734604247997,
          15.288139919888575,
          15.369315060202698,
          15.450251470429148,
          15.530940167925968,
          15.611371715172696,
          15.691536190709899,
          15.771423157830496,
          15.851021630818233,
          15.930320038506984,
          16.0093061849107,
          16.087967206646766,
          16.166289526845304,
          16.24425880520301,
          16.321859883801803,
          16.399076728269556,
          16.475892363811422,
          16.552288805585302,
          16.62824698283277,
          16.703746656106063,
          16.77876632685144,
          16.85328313851808,
          16.927272768257353,
          17.000709308158488,
          17.073565134830712,
          17.145810765985793,
          17.21741470249604,
          17.288343254196562,
          17.35856034746307,
          17.428027312321902,
          17.4967026465311,
          17.564541753702418,
          17.63149665210533,
          17.69751565029419,
          17.76254298511553,
          17.826518416969037,
          17.889376776393057,
          17.951047455101357,
          18.01145383348472,
          18.07051263527424,
          18.128133198503274,
          18.18421665005097,
          18.238654968842233,
          18.291329920141713,
          18.34211184022237,
          18.390858246900844,
          18.437412246874366,
          18.48160070530016,
          18.523232136421665,
          18.562094266013492,
          18.597951206682325,
          18.630540175248896,
          18.65956766709803,
          18.684704984984243,
          18.705582998697448,
          18.721785986521,
          18.732844378799257,
          18.7382261874371,
          18.737326862216893,
          18.72945726533029,
          18.713829400360012,
          18.68953947391486,
          18.655547813609203,
          18.610655127925884,
          18.55347459587872,
          18.4823993609761,
          18.395565251381115,
          18.290809087198852,
          18.165623983731702,
          18.01711496420771,
          17.841961485022917,
          17.636398883590797,
          17.396239129751464,
          17.11696313722193,
          16.79393134940776,
          16.422771518560594,
          16
         ]
        },
        {
         "name": "L_star(tau)",
         "type": "scatter",
         "x": [
          0.001,
          0.0050120481927710845,
          0.00902409638554217,
          0.013036144578313254,
          0.01704819277108434,
          0.021060240963855423,
          0.025072289156626508,
          0.029084337349397592,
          0.03309638554216868,
          0.03710843373493976,
          0.041120481927710846,
          0.045132530120481934,
          0.049144578313253015,
          0.053156626506024096,
          0.057168674698795184,
          0.06118072289156627,
          0.06519277108433735,
          0.06920481927710843,
          0.07321686746987952,
          0.07722891566265061,
          0.08124096385542169,
          0.08525301204819277,
          0.08926506024096387,
          0.09327710843373495,
          0.09728915662650603,
          0.10130120481927711,
          0.10531325301204819,
          0.10932530120481929,
          0.11333734939759037,
          0.11734939759036145,
          0.12136144578313254,
          0.1253734939759036,
          0.1293855421686747,
          0.1333975903614458,
          0.13740963855421687,
          0.14142168674698796,
          0.14543373493975903,
          0.14944578313253012,
          0.15345783132530122,
          0.1574698795180723,
          0.16148192771084338,
          0.16549397590361448,
          0.16950602409638554,
          0.17351807228915664,
          0.17753012048192773,
          0.1815421686746988,
          0.1855542168674699,
          0.18956626506024096,
          0.19357831325301206,
          0.19759036144578315,
          0.20160240963855422,
          0.20561445783132531,
          0.20962650602409638,
          0.21363855421686748,
          0.21765060240963857,
          0.22166265060240964,
          0.22567469879518073,
          0.22968674698795183,
          0.2336987951807229,
          0.237710843373494,
          0.24172289156626509,
          0.24573493975903615,
          0.24974698795180725,
          0.25375903614457834,
          0.2577710843373494,
          0.2617831325301205,
          0.2657951807228916,
          0.26980722891566267,
          0.27381927710843373,
          0.27783132530120486,
          0.2818433734939759,
          0.285855421686747,
          0.28986746987951806,
          0.2938795180722892,
          0.29789156626506025,
          0.3019036144578313,
          0.30591566265060244,
          0.3099277108433735,
          0.31393975903614457,
          0.3179518072289157,
          0.32196385542168676,
          0.32597590361445783,
          0.32998795180722895,
          0.334,
          0.3380120481927711,
          0.3420240963855422,
          0.3460361445783133,
          0.35004819277108434,
          0.35406024096385547,
          0.35807228915662653,
          0.3620843373493976,
          0.36609638554216867,
          0.3701084337349398,
          0.37412048192771086,
          0.3781325301204819,
          0.38214457831325305,
          0.3861566265060241,
          0.3901686746987952,
          0.3941807228915663,
          0.39819277108433737,
          0.40220481927710844,
          0.40621686746987956,
          0.41022891566265063,
          0.4142409638554217,
          0.41825301204819276,
          0.4222650602409639,
          0.42627710843373495,
          0.430289156626506,
          0.43430120481927714,
          0.4383132530120482,
          0.4423253012048193,
          0.4463373493975904,
          0.45034939759036147,
          0.45436144578313253,
          0.45837349397590366,
          0.4623855421686747,
          0.4663975903614458,
          0.4704096385542169,
          0.474421686746988,
          0.47843373493975905,
          0.48244578313253017,
          0.48645783132530124,
          0.4904698795180723,
          0.49448192771084337,
          0.4984939759036145,
          0.5025060240963856,
          0.5065180722891567,
          0.5105301204819277,
          0.5145421686746988,
          0.5185542168674699,
          0.522566265060241,
          0.5265783132530121,
          0.5305903614457832,
          0.5346024096385542,
          0.5386144578313253,
          0.5426265060240965,
          0.5466385542168675,
          0.5506506024096386,
          0.5546626506024097,
          0.5586746987951807,
          0.5626867469879518,
          0.566698795180723,
          0.570710843373494,
          0.5747228915662651,
          0.5787349397590361,
          0.5827469879518072,
          0.5867590361445784,
          0.5907710843373494,
          0.5947831325301205,
          0.5987951807228916,
          0.6028072289156626,
          0.6068192771084338,
          0.6108313253012049,
          0.6148433734939759,
          0.618855421686747,
          0.6228674698795181,
          0.6268795180722891,
          0.6308915662650603,
          0.6349036144578314,
          0.6389156626506024,
          0.6429277108433735,
          0.6469397590361446,
          0.6509518072289157,
          0.6549638554216868,
          0.6589759036144579,
          0.6629879518072289,
          0.667,
          0.6710120481927712,
          0.6750240963855422,
          0.6790361445783133,
          0.6830481927710844,
          0.6870602409638554,
          0.6910722891566266,
          0.6950843373493977,
          0.6990963855421687,
          0.7031084337349398,
          0.7071204819277109,
          0.7111325301204819,
          0.7151445783132531,
          0.7191566265060241,
          0.7231686746987952,
          0.7271807228915663,
          0.7311927710843373,
          0.7352048192771085,
          0.7392168674698796,
          0.7432289156626506,
          0.7472409638554217,
          0.7512530120481928,
          0.7552650602409638,
          0.759277108433735,
          0.7632891566265061,
          0.7673012048192771,
          0.7713132530120482,
          0.7753253012048194,
          0.7793373493975904,
          0.7833493975903615,
          0.7873614457831326,
          0.7913734939759036,
          0.7953855421686747,
          0.7993975903614459,
          0.8034096385542169,
          0.807421686746988,
          0.8114337349397591,
          0.8154457831325301,
          0.8194578313253013,
          0.8234698795180724,
          0.8274819277108434,
          0.8314939759036145,
          0.8355060240963855,
          0.8395180722891566,
          0.8435301204819278,
          0.8475421686746988,
          0.8515542168674699,
          0.855566265060241,
          0.859578313253012,
          0.8635903614457832,
          0.8676024096385543,
          0.8716144578313253,
          0.8756265060240964,
          0.8796385542168675,
          0.8836506024096386,
          0.8876626506024097,
          0.8916746987951808,
          0.8956867469879518,
          0.8996987951807229,
          0.903710843373494,
          0.9077228915662651,
          0.9117349397590362,
          0.9157469879518073,
          0.9197590361445783,
          0.9237710843373494,
          0.9277831325301206,
          0.9317951807228916,
          0.9358072289156627,
          0.9398192771084338,
          0.9438313253012048,
          0.947843373493976,
          0.9518554216867471,
          0.9558674698795181,
          0.9598795180722892,
          0.9638915662650603,
          0.9679036144578314,
          0.9719156626506025,
          0.9759277108433735,
          0.9799397590361446,
          0.9839518072289157,
          0.9879638554216867,
          0.9919759036144579,
          0.995987951807229,
          1
         ],
         "y": [
          22.383963835914393,
          22.383009193496402,
          22.382047036858893,
          22.381077276956738,
          22.38009982333268,
          22.379114584089265,
          22.378121465860033,
          22.37712037378009,
          22.37611121145594,
          22.37509388093453,
          22.374068282671658,
          22.373034315499496,
          22.371991876593384,
          22.370940861437777,
          22.369881163791337,
          22.36881267565122,
          22.36773528721639,
          22.366648886850054,
          22.36555336104117,
          22.36444859436493,
          22.363334469442318,
          22.362210866898526,
          22.361077665320437,
          22.35993474121289,
          22.358781968953913,
          22.357619220748738,
          22.35644636658264,
          22.355263274172536,
          22.35406980891734,
          22.352865833846934,
          22.351651209569894,
          22.350425794219728,
          22.34918944339973,
          22.347942010126346,
          22.34668334477099,
          22.345413295000323,
          22.344131705714858,
          22.34283841898593,
          22.341533273990905,
          22.340216106946617,
          22.338886751040963,
          22.33754503636257,
          22.336190789828517,
          22.334823835110043,
          22.333443992556077,
          22.33205107911471,
          22.330644908252335,
          22.329225289870536,
          22.327792030220532,
          22.32634493181519,
          22.324883793338454,
          22.323408409552144,
          22.32191857120002,
          22.32041406490899,
          22.318894673087463,
          22.317360173820553,
          22.315810340762287,
          22.31424494302447,
          22.312663745062235,
          22.311066506556106,
          22.309452982290455,
          22.307822922028244,
          22.30617607038189,
          22.30451216668013,
          22.302830944830735,
          22.301132133178942,
          22.299415454361387,
          22.29768062515547,
          22.295927356323865,
          22.29415535245411,
          22.292364311793005,
          22.290553926075674,
          22.288723880349046,
          22.28687385278959,
          22.28500351451506,
          22.283112529389992,
          22.281200553824767,
          22.27926723656796,
          22.277312218491684,
          22.275335132369708,
          22.273335602648046,
          22.271313245207654,
          22.26926766711905,
          22.26719846638838,
          22.265105231694694,
          22.262987542118076,
          22.26084496685809,
          22.258677064942425,
          22.25648338492503,
          22.254263464573565,
          22.252016830545514,
          22.249742998052586,
          22.24744147051292,
          22.245111739190502,
          22.2427532828213,
          22.240365567225492,
          22.237948044905288,
          22.23550015462753,
          22.233021320990623,
          22.2305109539749,
          22.227968448475814,
          22.225393183819133,
          22.222784523257317,
          22.22014181344627,
          22.217464383901483,
          22.214751546432726,
          22.212002594556203,
          22.20921680288313,
          22.206393426483718,
          22.20353170022525,
          22.200630838083132,
          22.197690032423623,
          22.194708453256712,
          22.191685247457976,
          22.188619537957614,
          22.185510422895213,
          22.182356974738482,
          22.179158239364178,
          22.175913235099273,
          22.17262095172041,
          22.169280349409455,
          22.165890357662903,
          22.162449874152802,
          22.15895776353655,
          22.15541285621298,
          22.151813947021836,
          22.148159793883583,
          22.144449116376432,
          22.140680594247083,
          22.136852865851605,
          22.132964526522603,
          22.129014126858547,
          22.125000170930992,
          22.12092111440491,
          22.11677536256737,
          22.112561268259153,
          22.10827712970377,
          22.103921188227947,
          22.099491625867095,
          22.09498656284901,
          22.090404054948536,
          22.085742090705402,
          22.080998588496893,
          22.07617139345652,
          22.071258274229084,
          22.066256919552007,
          22.06116493465194,
          22.05597983744495,
          22.0506990545277,
          22.0453199169461,
          22.039839655726897,
          22.034255397156667,
          22.0285641577913,
          22.022762839177993,
          22.016848222270273,
          22.010816961514983,
          22.004665578588707,
          21.998390455759047,
          21.99198782884447,
          21.98545377974411,
          21.978784228506616,
          21.971974924904703,
          21.96502143947903,
          21.957919154012238,
          21.950663251390388,
          21.943248704805534,
          21.9356702662491,
          21.92792245424113,
          21.919999540735873,
          21.911895537138577,
          21.903604179362535,
          21.895118911848915,
          21.886432870464585,
          21.87753886418539,
          21.868429355463192,
          21.85909643916556,
          21.849531819965907,
          21.839726788049866,
          21.829672192990444,
          21.819358415629445,
          21.808775337786034,
          21.797912309594956,
          21.786758114255957,
          21.775300929952934,
          21.763528288675438,
          21.751427031645704,
          21.73898326102207,
          21.726182287512422,
          21.71300857349009,
          21.699445671157537,
          21.68547615525042,
          21.671081549714536,
          21.656242247720257,
          21.640937424301796,
          21.625144940820913,
          21.608841240354366,
          21.59200123299038,
          21.57459816988839,
          21.556603504806652,
          21.537986741630313,
          21.51871526623449,
          21.498754160788984,
          21.478065998347677,
          21.4566106152608,
          21.434344858594436,
          21.411222305330693,
          21.38719294964281,
          21.36220285398019,
          21.336193759044086,
          21.309102646966473,
          21.280861251102117,
          21.251395504779683,
          21.2206249201002,
          21.188461886382182,
          21.154810876084245,
          21.119567543931268,
          21.08261770245882,
          21.04383615418634,
          21.003085357028635,
          20.96021389522767,
          20.915054722876256,
          20.867423140819238,
          20.81711446012133,
          20.76390129609955,
          20.70753042578719,
          20.64771912821481,
          20.58415091057581,
          20.51647050363253,
          20.444277985991327,
          20.367121868487533,
          20.28449093627847,
          20.195804606965716,
          20.10040151828203,
          19.997526009757454,
          19.886312112491932,
          19.765764616527914,
          19.634736759642667,
          19.491904099259955,
          19.335734234480963,
          19.16445231410358,
          18.97600282786276,
          18.768009244295598,
          18.537734966706417,
          18.282052335212736,
          17.9974317002279,
          17.6799707078583,
          17.325495303586788,
          16.929777515981783,
          16.488925883853646,
          16
         ]
        },
        {
         "name": "Utility",
         "type": "scatter",
         "x": [
          0.001,
          0.0050120481927710845,
          0.00902409638554217,
          0.013036144578313254,
          0.01704819277108434,
          0.021060240963855423,
          0.025072289156626508,
          0.029084337349397592,
          0.03309638554216868,
          0.03710843373493976,
          0.041120481927710846,
          0.045132530120481934,
          0.049144578313253015,
          0.053156626506024096,
          0.057168674698795184,
          0.06118072289156627,
          0.06519277108433735,
          0.06920481927710843,
          0.07321686746987952,
          0.07722891566265061,
          0.08124096385542169,
          0.08525301204819277,
          0.08926506024096387,
          0.09327710843373495,
          0.09728915662650603,
          0.10130120481927711,
          0.10531325301204819,
          0.10932530120481929,
          0.11333734939759037,
          0.11734939759036145,
          0.12136144578313254,
          0.1253734939759036,
          0.1293855421686747,
          0.1333975903614458,
          0.13740963855421687,
          0.14142168674698796,
          0.14543373493975903,
          0.14944578313253012,
          0.15345783132530122,
          0.1574698795180723,
          0.16148192771084338,
          0.16549397590361448,
          0.16950602409638554,
          0.17351807228915664,
          0.17753012048192773,
          0.1815421686746988,
          0.1855542168674699,
          0.18956626506024096,
          0.19357831325301206,
          0.19759036144578315,
          0.20160240963855422,
          0.20561445783132531,
          0.20962650602409638,
          0.21363855421686748,
          0.21765060240963857,
          0.22166265060240964,
          0.22567469879518073,
          0.22968674698795183,
          0.2336987951807229,
          0.237710843373494,
          0.24172289156626509,
          0.24573493975903615,
          0.24974698795180725,
          0.25375903614457834,
          0.2577710843373494,
          0.2617831325301205,
          0.2657951807228916,
          0.26980722891566267,
          0.27381927710843373,
          0.27783132530120486,
          0.2818433734939759,
          0.285855421686747,
          0.28986746987951806,
          0.2938795180722892,
          0.29789156626506025,
          0.3019036144578313,
          0.30591566265060244,
          0.3099277108433735,
          0.31393975903614457,
          0.3179518072289157,
          0.32196385542168676,
          0.32597590361445783,
          0.32998795180722895,
          0.334,
          0.3380120481927711,
          0.3420240963855422,
          0.3460361445783133,
          0.35004819277108434,
          0.35406024096385547,
          0.35807228915662653,
          0.3620843373493976,
          0.36609638554216867,
          0.3701084337349398,
          0.37412048192771086,
          0.3781325301204819,
          0.38214457831325305,
          0.3861566265060241,
          0.3901686746987952,
          0.3941807228915663,
          0.39819277108433737,
          0.40220481927710844,
          0.40621686746987956,
          0.41022891566265063,
          0.4142409638554217,
          0.41825301204819276,
          0.4222650602409639,
          0.42627710843373495,
          0.430289156626506,
          0.43430120481927714,
          0.4383132530120482,
          0.4423253012048193,
          0.4463373493975904,
          0.45034939759036147,
          0.45436144578313253,
          0.45837349397590366,
          0.4623855421686747,
          0.4663975903614458,
          0.4704096385542169,
          0.474421686746988,
          0.47843373493975905,
          0.48244578313253017,
          0.48645783132530124,
          0.4904698795180723,
          0.49448192771084337,
          0.4984939759036145,
          0.5025060240963856,
          0.5065180722891567,
          0.5105301204819277,
          0.5145421686746988,
          0.5185542168674699,
          0.522566265060241,
          0.5265783132530121,
          0.5305903614457832,
          0.5346024096385542,
          0.5386144578313253,
          0.5426265060240965,
          0.5466385542168675,
          0.5506506024096386,
          0.5546626506024097,
          0.5586746987951807,
          0.5626867469879518,
          0.566698795180723,
          0.570710843373494,
          0.5747228915662651,
          0.5787349397590361,
          0.5827469879518072,
          0.5867590361445784,
          0.5907710843373494,
          0.5947831325301205,
          0.5987951807228916,
          0.6028072289156626,
          0.6068192771084338,
          0.6108313253012049,
          0.6148433734939759,
          0.618855421686747,
          0.6228674698795181,
          0.6268795180722891,
          0.6308915662650603,
          0.6349036144578314,
          0.6389156626506024,
          0.6429277108433735,
          0.6469397590361446,
          0.6509518072289157,
          0.6549638554216868,
          0.6589759036144579,
          0.6629879518072289,
          0.667,
          0.6710120481927712,
          0.6750240963855422,
          0.6790361445783133,
          0.6830481927710844,
          0.6870602409638554,
          0.6910722891566266,
          0.6950843373493977,
          0.6990963855421687,
          0.7031084337349398,
          0.7071204819277109,
          0.7111325301204819,
          0.7151445783132531,
          0.7191566265060241,
          0.7231686746987952,
          0.7271807228915663,
          0.7311927710843373,
          0.7352048192771085,
          0.7392168674698796,
          0.7432289156626506,
          0.7472409638554217,
          0.7512530120481928,
          0.7552650602409638,
          0.759277108433735,
          0.7632891566265061,
          0.7673012048192771,
          0.7713132530120482,
          0.7753253012048194,
          0.7793373493975904,
          0.7833493975903615,
          0.7873614457831326,
          0.7913734939759036,
          0.7953855421686747,
          0.7993975903614459,
          0.8034096385542169,
          0.807421686746988,
          0.8114337349397591,
          0.8154457831325301,
          0.8194578313253013,
          0.8234698795180724,
          0.8274819277108434,
          0.8314939759036145,
          0.8355060240963855,
          0.8395180722891566,
          0.8435301204819278,
          0.8475421686746988,
          0.8515542168674699,
          0.855566265060241,
          0.859578313253012,
          0.8635903614457832,
          0.8676024096385543,
          0.8716144578313253,
          0.8756265060240964,
          0.8796385542168675,
          0.8836506024096386,
          0.8876626506024097,
          0.8916746987951808,
          0.8956867469879518,
          0.8996987951807229,
          0.903710843373494,
          0.9077228915662651,
          0.9117349397590362,
          0.9157469879518073,
          0.9197590361445783,
          0.9237710843373494,
          0.9277831325301206,
          0.9317951807228916,
          0.9358072289156627,
          0.9398192771084338,
          0.9438313253012048,
          0.947843373493976,
          0.9518554216867471,
          0.9558674698795181,
          0.9598795180722892,
          0.9638915662650603,
          0.9679036144578314,
          0.9719156626506025,
          0.9759277108433735,
          0.9799397590361446,
          0.9839518072289157,
          0.9879638554216867,
          0.9919759036144579,
          0.995987951807229,
          1
         ],
         "y": [
          -0.813457513702216,
          -0.009460967248689556,
          0.28263267222124094,
          0.4646056879102322,
          0.5968165825004796,
          0.7005320572584888,
          0.7857566166994361,
          0.8580035908690566,
          0.9206366206173344,
          0.9758597421519992,
          1.0251958816265598,
          1.0697414646723273,
          1.1103121576399213,
          1.1475312268378046,
          1.1818856589588356,
          1.2137632029255938,
          1.2434776231821694,
          1.271286398315688,
          1.2974034246041521,
          1.3220083261876785,
          1.3452534046458147,
          1.367268911682022,
          1.3881671081917186,
          1.4080454302189191,
          1.4269889877062654,
          1.4450725579671206,
          1.4623621917358922,
          1.478916518777655,
          1.4947878180744332,
          1.5100229017601283,
          1.5246638503959455,
          1.5387486286136092,
          1.5523116037490063,
          1.565383985250015,
          1.577994198951291,
          1.59016820746814,
          1.6019297857570498,
          1.613300759166142,
          1.6243012099400975,
          1.6349496570661093,
          1.6452632134864524,
          1.6552577240114492,
          1.6649478867073817,
          1.674347360079425,
          1.6834688579982855,
          1.692324234014309,
          1.7009245564512194,
          1.7092801754631108,
          1.7174007830647586,
          1.7252954670002116,
          1.7329727591929043,
          1.740440679417955,
          1.747706774750659,
          1.754778155271609,
          1.7616615264463247,
          1.7683632185437916,
          1.7748892134125795,
          1.7812451688938566,
          1.787436441116764,
          1.793468104892368,
          1.7993449723970392,
          1.8050716103141422,
          1.81065235558374,
          1.8160913298933261,
          1.8213924530279801,
          1.8265594551855333,
          1.8315958883510968,
          1.8365051368153809,
          1.8412904269125292,
          1.8459548360454672,
          1.8505013010599183,
          1.8549326260222196,
          1.8592514894506489,
          1.8634604510452046,
          1.867561957956514,
          1.8715583506307116,
          1.8754518682637373,
          1.8792446538954308,
          1.8829387591710804,
          1.8865361487955894,
          1.8900387047032372,
          1.893448229964,
          1.8967664524455838,
          1.899995028248726,
          1.9031355449318117,
          1.906189524539546,
          1.9091584264491959,
          1.9120436500468283,
          1.9148465372449597,
          1.9175683748521375,
          1.9202103968041375,
          1.9227737862656977,
          1.9252596776110409,
          1.9276691582907832,
          1.930003270592262,
          1.9322630132997851,
          1.9344493432608119,
          1.9365631768636398,
          1.9386053914317527,
          1.9405768265396126,
          1.9424782852543276,
          1.9443105353073102,
          1.9460743101997457,
          1.9477703102454087,
          1.9493992035541237,
          1.9509616269589185,
          1.9524581868897193,
          1.9538894601962118,
          1.9552559949223238,
          1.9565583110346028,
          1.957796901106592,
          1.9589722309611757,
          1.9600847402726915,
          1.9611348431305147,
          1.9621229285656476,
          1.9630493610417785,
          1.9639144809121183,
          1.9647186048432557,
          1.9654620262071514,
          1.9661450154423052,
          1.9667678203850425,
          1.9673306665717831,
          1.9678337575130662,
          1.9682772749400466,
          1.9686613790240834,
          1.968986208569981,
          1.9692518811833797,
          1.9694584934127133,
          1.9696061208660987,
          1.9696948183034506,
          1.9697246197040597,
          1.9696955383098091,
          1.9696075666441384,
          1.9694606765068234,
          1.9692548189445516,
          1.9689899241972473,
          1.9686659016200143,
          1.9682826395805142,
          1.9678400053315506,
          1.9673378448585412,
          1.9667759827015217,
          1.9661542217512493,
          1.9654723430189085,
          1.964730105378861,
          1.963927245283799,
          1.9630634764516022,
          1.9621384895231093,
          1.961151951689951,
          1.960103506291492,
          1.9589927723798537,
          1.9578193442518972,
          1.9565827909469382,
          1.9552826557088847,
          1.9539184554113576,
          1.9524896799442495,
          1.9509957915600655,
          1.9494362241782404,
          1.9478103826454967,
          1.9461176419501747,
          1.9443573463882788,
          1.9425288086788464,
          1.9406313090260363,
          1.9386640941251656,
          1.9366263761096958,
          1.9345173314359478,
          1.9323360997021002,
          1.9300817823977356,
          1.9277534415799498,
          1.9253500984717025,
          1.9228707319777982,
          1.92031427711349,
          1.9176796233403464,
          1.9149656128035857,
          1.9121710384646353,
          1.9092946421221852,
          1.9063351123144607,
          1.9032910820948685,
          1.900161126672526,
          1.8969437609085005,
          1.8936374366578297,
          1.8902405399465643,
          1.8867513879721836,
          1.883168225914742,
          1.8794892235450296,
          1.8757124716148488,
          1.8718359780131986,
          1.8678576636707585,
          1.8637753581934642,
          1.8595867952042764,
          1.855289607370313,
          1.850881321090451,
          1.8463593508161744,
          1.8417209929758984,
          1.8369634194701763,
          1.8320836707020862,
          1.827078648103617,
          1.821945106115048,
          1.8166796435700734,
          1.811278694434666,
          1.8057385178424699,
          1.8000551873636117,
          1.7942245794373621,
          1.788242360891811,
          1.7821039754656312,
          1.7758046292380187,
          1.7693392748628145,
          1.7627025944916082,
          1.7558889812580794,
          1.7488925191818558,
          1.74170696133455,
          1.7343257060932262,
          1.7267417712871664,
          1.7189477660222137,
          1.7109358599430229,
          1.702697749667042,
          1.6942246220947865,
          1.685507114268933,
          1.6765352694197853,
          1.6672984887970257,
          1.6577854788475372,
          1.647984193257191,
          1.6378817693319607,
          1.6274644581523459,
          1.6167175478977485,
          1.6056252797085737,
          1.5941707554399174,
          1.5823358366715956,
          1.5701010343892896,
          1.5574453888617559,
          1.5443463394400072,
          1.5307795843406669,
          1.5167189310119564,
          1.5021361385105445,
          1.48700075457617,
          1.4712799519736772,
          1.4549383714594293,
          1.4379379828218877,
          1.4202379814120776,
          1.4017947462110176,
          1.382561897858407,
          1.3624905126072164,
          1.3415295726087668,
          1.3196267661234222,
          1.2967297945196907,
          1.272788395520503,
          1.2477573479859132,
          1.2216007650477458,
          1.1942979709570283,
          1.165851121410305,
          1.1362943611198906
         ]
        }
       ],
       "layout": {
        "font": {
         "color": "#7f7f7f",
         "family": "Courier New, monospace",
         "size": 18
        },
        "template": {
         "data": {
          "bar": [
           {
            "error_x": {
             "color": "#2a3f5f"
            },
            "error_y": {
             "color": "#2a3f5f"
            },
            "marker": {
             "line": {
              "color": "#E5ECF6",
              "width": 0.5
             },
             "pattern": {
              "fillmode": "overlay",
              "size": 10,
              "solidity": 0.2
             }
            },
            "type": "bar"
           }
          ],
          "barpolar": [
           {
            "marker": {
             "line": {
              "color": "#E5ECF6",
              "width": 0.5
             },
             "pattern": {
              "fillmode": "overlay",
              "size": 10,
              "solidity": 0.2
             }
            },
            "type": "barpolar"
           }
          ],
          "carpet": [
           {
            "aaxis": {
             "endlinecolor": "#2a3f5f",
             "gridcolor": "white",
             "linecolor": "white",
             "minorgridcolor": "white",
             "startlinecolor": "#2a3f5f"
            },
            "baxis": {
             "endlinecolor": "#2a3f5f",
             "gridcolor": "white",
             "linecolor": "white",
             "minorgridcolor": "white",
             "startlinecolor": "#2a3f5f"
            },
            "type": "carpet"
           }
          ],
          "choropleth": [
           {
            "colorbar": {
             "outlinewidth": 0,
             "ticks": ""
            },
            "type": "choropleth"
           }
          ],
          "contour": [
           {
            "colorbar": {
             "outlinewidth": 0,
             "ticks": ""
            },
            "colorscale": [
             [
              0,
              "#0d0887"
             ],
             [
              0.1111111111111111,
              "#46039f"
             ],
             [
              0.2222222222222222,
              "#7201a8"
             ],
             [
              0.3333333333333333,
              "#9c179e"
             ],
             [
              0.4444444444444444,
              "#bd3786"
             ],
             [
              0.5555555555555556,
              "#d8576b"
             ],
             [
              0.6666666666666666,
              "#ed7953"
             ],
             [
              0.7777777777777778,
              "#fb9f3a"
             ],
             [
              0.8888888888888888,
              "#fdca26"
             ],
             [
              1,
              "#f0f921"
             ]
            ],
            "type": "contour"
           }
          ],
          "contourcarpet": [
           {
            "colorbar": {
             "outlinewidth": 0,
             "ticks": ""
            },
            "type": "contourcarpet"
           }
          ],
          "heatmap": [
           {
            "colorbar": {
             "outlinewidth": 0,
             "ticks": ""
            },
            "colorscale": [
             [
              0,
              "#0d0887"
             ],
             [
              0.1111111111111111,
              "#46039f"
             ],
             [
              0.2222222222222222,
              "#7201a8"
             ],
             [
              0.3333333333333333,
              "#9c179e"
             ],
             [
              0.4444444444444444,
              "#bd3786"
             ],
             [
              0.5555555555555556,
              "#d8576b"
             ],
             [
              0.6666666666666666,
              "#ed7953"
             ],
             [
              0.7777777777777778,
              "#fb9f3a"
             ],
             [
              0.8888888888888888,
              "#fdca26"
             ],
             [
              1,
              "#f0f921"
             ]
            ],
            "type": "heatmap"
           }
          ],
          "heatmapgl": [
           {
            "colorbar": {
             "outlinewidth": 0,
             "ticks": ""
            },
            "colorscale": [
             [
              0,
              "#0d0887"
             ],
             [
              0.1111111111111111,
              "#46039f"
             ],
             [
              0.2222222222222222,
              "#7201a8"
             ],
             [
              0.3333333333333333,
              "#9c179e"
             ],
             [
              0.4444444444444444,
              "#bd3786"
             ],
             [
              0.5555555555555556,
              "#d8576b"
             ],
             [
              0.6666666666666666,
              "#ed7953"
             ],
             [
              0.7777777777777778,
              "#fb9f3a"
             ],
             [
              0.8888888888888888,
              "#fdca26"
             ],
             [
              1,
              "#f0f921"
             ]
            ],
            "type": "heatmapgl"
           }
          ],
          "histogram": [
           {
            "marker": {
             "pattern": {
              "fillmode": "overlay",
              "size": 10,
              "solidity": 0.2
             }
            },
            "type": "histogram"
           }
          ],
          "histogram2d": [
           {
            "colorbar": {
             "outlinewidth": 0,
             "ticks": ""
            },
            "colorscale": [
             [
              0,
              "#0d0887"
             ],
             [
              0.1111111111111111,
              "#46039f"
             ],
             [
              0.2222222222222222,
              "#7201a8"
             ],
             [
              0.3333333333333333,
              "#9c179e"
             ],
             [
              0.4444444444444444,
              "#bd3786"
             ],
             [
              0.5555555555555556,
              "#d8576b"
             ],
             [
              0.6666666666666666,
              "#ed7953"
             ],
             [
              0.7777777777777778,
              "#fb9f3a"
             ],
             [
              0.8888888888888888,
              "#fdca26"
             ],
             [
              1,
              "#f0f921"
             ]
            ],
            "type": "histogram2d"
           }
          ],
          "histogram2dcontour": [
           {
            "colorbar": {
             "outlinewidth": 0,
             "ticks": ""
            },
            "colorscale": [
             [
              0,
              "#0d0887"
             ],
             [
              0.1111111111111111,
              "#46039f"
             ],
             [
              0.2222222222222222,
              "#7201a8"
             ],
             [
              0.3333333333333333,
              "#9c179e"
             ],
             [
              0.4444444444444444,
              "#bd3786"
             ],
             [
              0.5555555555555556,
              "#d8576b"
             ],
             [
              0.6666666666666666,
              "#ed7953"
             ],
             [
              0.7777777777777778,
              "#fb9f3a"
             ],
             [
              0.8888888888888888,
              "#fdca26"
             ],
             [
              1,
              "#f0f921"
             ]
            ],
            "type": "histogram2dcontour"
           }
          ],
          "mesh3d": [
           {
            "colorbar": {
             "outlinewidth": 0,
             "ticks": ""
            },
            "type": "mesh3d"
           }
          ],
          "parcoords": [
           {
            "line": {
             "colorbar": {
              "outlinewidth": 0,
              "ticks": ""
             }
            },
            "type": "parcoords"
           }
          ],
          "pie": [
           {
            "automargin": true,
            "type": "pie"
           }
          ],
          "scatter": [
           {
            "fillpattern": {
             "fillmode": "overlay",
             "size": 10,
             "solidity": 0.2
            },
            "type": "scatter"
           }
          ],
          "scatter3d": [
           {
            "line": {
             "colorbar": {
              "outlinewidth": 0,
              "ticks": ""
             }
            },
            "marker": {
             "colorbar": {
              "outlinewidth": 0,
              "ticks": ""
             }
            },
            "type": "scatter3d"
           }
          ],
          "scattercarpet": [
           {
            "marker": {
             "colorbar": {
              "outlinewidth": 0,
              "ticks": ""
             }
            },
            "type": "scattercarpet"
           }
          ],
          "scattergeo": [
           {
            "marker": {
             "colorbar": {
              "outlinewidth": 0,
              "ticks": ""
             }
            },
            "type": "scattergeo"
           }
          ],
          "scattergl": [
           {
            "marker": {
             "colorbar": {
              "outlinewidth": 0,
              "ticks": ""
             }
            },
            "type": "scattergl"
           }
          ],
          "scattermapbox": [
           {
            "marker": {
             "colorbar": {
              "outlinewidth": 0,
              "ticks": ""
             }
            },
            "type": "scattermapbox"
           }
          ],
          "scatterpolar": [
           {
            "marker": {
             "colorbar": {
              "outlinewidth": 0,
              "ticks": ""
             }
            },
            "type": "scatterpolar"
           }
          ],
          "scatterpolargl": [
           {
            "marker": {
             "colorbar": {
              "outlinewidth": 0,
              "ticks": ""
             }
            },
            "type": "scatterpolargl"
           }
          ],
          "scatterternary": [
           {
            "marker": {
             "colorbar": {
              "outlinewidth": 0,
              "ticks": ""
             }
            },
            "type": "scatterternary"
           }
          ],
          "surface": [
           {
            "colorbar": {
             "outlinewidth": 0,
             "ticks": ""
            },
            "colorscale": [
             [
              0,
              "#0d0887"
             ],
             [
              0.1111111111111111,
              "#46039f"
             ],
             [
              0.2222222222222222,
              "#7201a8"
             ],
             [
              0.3333333333333333,
              "#9c179e"
             ],
             [
              0.4444444444444444,
              "#bd3786"
             ],
             [
              0.5555555555555556,
              "#d8576b"
             ],
             [
              0.6666666666666666,
              "#ed7953"
             ],
             [
              0.7777777777777778,
              "#fb9f3a"
             ],
             [
              0.8888888888888888,
              "#fdca26"
             ],
             [
              1,
              "#f0f921"
             ]
            ],
            "type": "surface"
           }
          ],
          "table": [
           {
            "cells": {
             "fill": {
              "color": "#EBF0F8"
             },
             "line": {
              "color": "white"
             }
            },
            "header": {
             "fill": {
              "color": "#C8D4E3"
             },
             "line": {
              "color": "white"
             }
            },
            "type": "table"
           }
          ]
         },
         "layout": {
          "annotationdefaults": {
           "arrowcolor": "#2a3f5f",
           "arrowhead": 0,
           "arrowwidth": 1
          },
          "autotypenumbers": "strict",
          "coloraxis": {
           "colorbar": {
            "outlinewidth": 0,
            "ticks": ""
           }
          },
          "colorscale": {
           "diverging": [
            [
             0,
             "#8e0152"
            ],
            [
             0.1,
             "#c51b7d"
            ],
            [
             0.2,
             "#de77ae"
            ],
            [
             0.3,
             "#f1b6da"
            ],
            [
             0.4,
             "#fde0ef"
            ],
            [
             0.5,
             "#f7f7f7"
            ],
            [
             0.6,
             "#e6f5d0"
            ],
            [
             0.7,
             "#b8e186"
            ],
            [
             0.8,
             "#7fbc41"
            ],
            [
             0.9,
             "#4d9221"
            ],
            [
             1,
             "#276419"
            ]
           ],
           "sequential": [
            [
             0,
             "#0d0887"
            ],
            [
             0.1111111111111111,
             "#46039f"
            ],
            [
             0.2222222222222222,
             "#7201a8"
            ],
            [
             0.3333333333333333,
             "#9c179e"
            ],
            [
             0.4444444444444444,
             "#bd3786"
            ],
            [
             0.5555555555555556,
             "#d8576b"
            ],
            [
             0.6666666666666666,
             "#ed7953"
            ],
            [
             0.7777777777777778,
             "#fb9f3a"
            ],
            [
             0.8888888888888888,
             "#fdca26"
            ],
            [
             1,
             "#f0f921"
            ]
           ],
           "sequentialminus": [
            [
             0,
             "#0d0887"
            ],
            [
             0.1111111111111111,
             "#46039f"
            ],
            [
             0.2222222222222222,
             "#7201a8"
            ],
            [
             0.3333333333333333,
             "#9c179e"
            ],
            [
             0.4444444444444444,
             "#bd3786"
            ],
            [
             0.5555555555555556,
             "#d8576b"
            ],
            [
             0.6666666666666666,
             "#ed7953"
            ],
            [
             0.7777777777777778,
             "#fb9f3a"
            ],
            [
             0.8888888888888888,
             "#fdca26"
            ],
            [
             1,
             "#f0f921"
            ]
           ]
          },
          "colorway": [
           "#636efa",
           "#EF553B",
           "#00cc96",
           "#ab63fa",
           "#FFA15A",
           "#19d3f3",
           "#FF6692",
           "#B6E880",
           "#FF97FF",
           "#FECB52"
          ],
          "font": {
           "color": "#2a3f5f"
          },
          "geo": {
           "bgcolor": "white",
           "lakecolor": "white",
           "landcolor": "#E5ECF6",
           "showlakes": true,
           "showland": true,
           "subunitcolor": "white"
          },
          "hoverlabel": {
           "align": "left"
          },
          "hovermode": "closest",
          "mapbox": {
           "style": "light"
          },
          "paper_bgcolor": "white",
          "plot_bgcolor": "#E5ECF6",
          "polar": {
           "angularaxis": {
            "gridcolor": "white",
            "linecolor": "white",
            "ticks": ""
           },
           "bgcolor": "#E5ECF6",
           "radialaxis": {
            "gridcolor": "white",
            "linecolor": "white",
            "ticks": ""
           }
          },
          "scene": {
           "xaxis": {
            "backgroundcolor": "#E5ECF6",
            "gridcolor": "white",
            "gridwidth": 2,
            "linecolor": "white",
            "showbackground": true,
            "ticks": "",
            "zerolinecolor": "white"
           },
           "yaxis": {
            "backgroundcolor": "#E5ECF6",
            "gridcolor": "white",
            "gridwidth": 2,
            "linecolor": "white",
            "showbackground": true,
            "ticks": "",
            "zerolinecolor": "white"
           },
           "zaxis": {
            "backgroundcolor": "#E5ECF6",
            "gridcolor": "white",
            "gridwidth": 2,
            "linecolor": "white",
            "showbackground": true,
            "ticks": "",
            "zerolinecolor": "white"
           }
          },
          "shapedefaults": {
           "line": {
            "color": "#2a3f5f"
           }
          },
          "ternary": {
           "aaxis": {
            "gridcolor": "white",
            "linecolor": "white",
            "ticks": ""
           },
           "baxis": {
            "gridcolor": "white",
            "linecolor": "white",
            "ticks": ""
           },
           "bgcolor": "#E5ECF6",
           "caxis": {
            "gridcolor": "white",
            "linecolor": "white",
            "ticks": ""
           }
          },
          "title": {
           "x": 0.05
          },
          "xaxis": {
           "automargin": true,
           "gridcolor": "white",
           "linecolor": "white",
           "ticks": "",
           "title": {
            "standoff": 15
           },
           "zerolinecolor": "white",
           "zerolinewidth": 2
          },
          "yaxis": {
           "automargin": true,
           "gridcolor": "white",
           "linecolor": "white",
           "ticks": "",
           "title": {
            "standoff": 15
           },
           "zerolinecolor": "white",
           "zerolinewidth": 2
          }
         }
        },
        "title": {
         "text": "Optimal labor supply, implied government spending, and implied utility"
        },
        "xaxis": {
         "title": {
          "text": "tau"
         }
        },
        "yaxis": {
         "title": {
          "text": "Value"
         },
         "type": "log"
        }
       }
      }
     },
     "metadata": {},
     "output_type": "display_data"
    }
   ],
   "source": [
    "fig.update_yaxes(type=\"log\")  # Set y-axis to logarithmic scale\n",
    "fig.show()"
   ]
  },
  {
   "attachments": {},
   "cell_type": "markdown",
   "metadata": {},
   "source": [
    "Here, it becomes much more apparent that the worker utility is maximized at approximately $\\tau = 0.5$."
   ]
  },
  {
   "attachments": {},
   "cell_type": "markdown",
   "metadata": {},
   "source": [
    "**Question 4:** Find the socially optimal tax rate $\\tau^{\\star}\\in(0,1)$ maximizing worker utility. Illustrate your result."
   ]
  },
  {
   "attachments": {},
   "cell_type": "markdown",
   "metadata": {},
   "source": [
    "To determine the socially optimal tax rate that maximizes worker utility, we extract the utility level for each possible tax rate and utilize np.argmax to identify the highest utility level.\n",
    "\n",
    "Then we plot the resuts:"
   ]
  },
  {
   "cell_type": "code",
   "execution_count": 1184,
   "metadata": {},
   "outputs": [
    {
     "data": {
      "application/vnd.plotly.v1+json": {
       "config": {
        "plotlyServerURL": "https://plot.ly"
       },
       "data": [
        {
         "name": "Worker utility",
         "type": "scatter",
         "x": [
          0.001,
          0.0050120481927710845,
          0.00902409638554217,
          0.013036144578313254,
          0.01704819277108434,
          0.021060240963855423,
          0.025072289156626508,
          0.029084337349397592,
          0.03309638554216868,
          0.03710843373493976,
          0.041120481927710846,
          0.045132530120481934,
          0.049144578313253015,
          0.053156626506024096,
          0.057168674698795184,
          0.06118072289156627,
          0.06519277108433735,
          0.06920481927710843,
          0.07321686746987952,
          0.07722891566265061,
          0.08124096385542169,
          0.08525301204819277,
          0.08926506024096387,
          0.09327710843373495,
          0.09728915662650603,
          0.10130120481927711,
          0.10531325301204819,
          0.10932530120481929,
          0.11333734939759037,
          0.11734939759036145,
          0.12136144578313254,
          0.1253734939759036,
          0.1293855421686747,
          0.1333975903614458,
          0.13740963855421687,
          0.14142168674698796,
          0.14543373493975903,
          0.14944578313253012,
          0.15345783132530122,
          0.1574698795180723,
          0.16148192771084338,
          0.16549397590361448,
          0.16950602409638554,
          0.17351807228915664,
          0.17753012048192773,
          0.1815421686746988,
          0.1855542168674699,
          0.18956626506024096,
          0.19357831325301206,
          0.19759036144578315,
          0.20160240963855422,
          0.20561445783132531,
          0.20962650602409638,
          0.21363855421686748,
          0.21765060240963857,
          0.22166265060240964,
          0.22567469879518073,
          0.22968674698795183,
          0.2336987951807229,
          0.237710843373494,
          0.24172289156626509,
          0.24573493975903615,
          0.24974698795180725,
          0.25375903614457834,
          0.2577710843373494,
          0.2617831325301205,
          0.2657951807228916,
          0.26980722891566267,
          0.27381927710843373,
          0.27783132530120486,
          0.2818433734939759,
          0.285855421686747,
          0.28986746987951806,
          0.2938795180722892,
          0.29789156626506025,
          0.3019036144578313,
          0.30591566265060244,
          0.3099277108433735,
          0.31393975903614457,
          0.3179518072289157,
          0.32196385542168676,
          0.32597590361445783,
          0.32998795180722895,
          0.334,
          0.3380120481927711,
          0.3420240963855422,
          0.3460361445783133,
          0.35004819277108434,
          0.35406024096385547,
          0.35807228915662653,
          0.3620843373493976,
          0.36609638554216867,
          0.3701084337349398,
          0.37412048192771086,
          0.3781325301204819,
          0.38214457831325305,
          0.3861566265060241,
          0.3901686746987952,
          0.3941807228915663,
          0.39819277108433737,
          0.40220481927710844,
          0.40621686746987956,
          0.41022891566265063,
          0.4142409638554217,
          0.41825301204819276,
          0.4222650602409639,
          0.42627710843373495,
          0.430289156626506,
          0.43430120481927714,
          0.4383132530120482,
          0.4423253012048193,
          0.4463373493975904,
          0.45034939759036147,
          0.45436144578313253,
          0.45837349397590366,
          0.4623855421686747,
          0.4663975903614458,
          0.4704096385542169,
          0.474421686746988,
          0.47843373493975905,
          0.48244578313253017,
          0.48645783132530124,
          0.4904698795180723,
          0.49448192771084337,
          0.4984939759036145,
          0.5025060240963856,
          0.5065180722891567,
          0.5105301204819277,
          0.5145421686746988,
          0.5185542168674699,
          0.522566265060241,
          0.5265783132530121,
          0.5305903614457832,
          0.5346024096385542,
          0.5386144578313253,
          0.5426265060240965,
          0.5466385542168675,
          0.5506506024096386,
          0.5546626506024097,
          0.5586746987951807,
          0.5626867469879518,
          0.566698795180723,
          0.570710843373494,
          0.5747228915662651,
          0.5787349397590361,
          0.5827469879518072,
          0.5867590361445784,
          0.5907710843373494,
          0.5947831325301205,
          0.5987951807228916,
          0.6028072289156626,
          0.6068192771084338,
          0.6108313253012049,
          0.6148433734939759,
          0.618855421686747,
          0.6228674698795181,
          0.6268795180722891,
          0.6308915662650603,
          0.6349036144578314,
          0.6389156626506024,
          0.6429277108433735,
          0.6469397590361446,
          0.6509518072289157,
          0.6549638554216868,
          0.6589759036144579,
          0.6629879518072289,
          0.667,
          0.6710120481927712,
          0.6750240963855422,
          0.6790361445783133,
          0.6830481927710844,
          0.6870602409638554,
          0.6910722891566266,
          0.6950843373493977,
          0.6990963855421687,
          0.7031084337349398,
          0.7071204819277109,
          0.7111325301204819,
          0.7151445783132531,
          0.7191566265060241,
          0.7231686746987952,
          0.7271807228915663,
          0.7311927710843373,
          0.7352048192771085,
          0.7392168674698796,
          0.7432289156626506,
          0.7472409638554217,
          0.7512530120481928,
          0.7552650602409638,
          0.759277108433735,
          0.7632891566265061,
          0.7673012048192771,
          0.7713132530120482,
          0.7753253012048194,
          0.7793373493975904,
          0.7833493975903615,
          0.7873614457831326,
          0.7913734939759036,
          0.7953855421686747,
          0.7993975903614459,
          0.8034096385542169,
          0.807421686746988,
          0.8114337349397591,
          0.8154457831325301,
          0.8194578313253013,
          0.8234698795180724,
          0.8274819277108434,
          0.8314939759036145,
          0.8355060240963855,
          0.8395180722891566,
          0.8435301204819278,
          0.8475421686746988,
          0.8515542168674699,
          0.855566265060241,
          0.859578313253012,
          0.8635903614457832,
          0.8676024096385543,
          0.8716144578313253,
          0.8756265060240964,
          0.8796385542168675,
          0.8836506024096386,
          0.8876626506024097,
          0.8916746987951808,
          0.8956867469879518,
          0.8996987951807229,
          0.903710843373494,
          0.9077228915662651,
          0.9117349397590362,
          0.9157469879518073,
          0.9197590361445783,
          0.9237710843373494,
          0.9277831325301206,
          0.9317951807228916,
          0.9358072289156627,
          0.9398192771084338,
          0.9438313253012048,
          0.947843373493976,
          0.9518554216867471,
          0.9558674698795181,
          0.9598795180722892,
          0.9638915662650603,
          0.9679036144578314,
          0.9719156626506025,
          0.9759277108433735,
          0.9799397590361446,
          0.9839518072289157,
          0.9879638554216867,
          0.9919759036144579,
          0.995987951807229,
          1
         ],
         "y": [
          -0.813457513702216,
          -0.009460967248689556,
          0.28263267222124094,
          0.4646056879102322,
          0.5968165825004796,
          0.7005320572584888,
          0.7857566166994361,
          0.8580035908690566,
          0.9206366206173344,
          0.9758597421519992,
          1.0251958816265598,
          1.0697414646723273,
          1.1103121576399213,
          1.1475312268378046,
          1.1818856589588356,
          1.2137632029255938,
          1.2434776231821694,
          1.271286398315688,
          1.2974034246041521,
          1.3220083261876785,
          1.3452534046458147,
          1.367268911682022,
          1.3881671081917186,
          1.4080454302189191,
          1.4269889877062654,
          1.4450725579671206,
          1.4623621917358922,
          1.478916518777655,
          1.4947878180744332,
          1.5100229017601283,
          1.5246638503959455,
          1.5387486286136092,
          1.5523116037490063,
          1.565383985250015,
          1.577994198951291,
          1.59016820746814,
          1.6019297857570498,
          1.613300759166142,
          1.6243012099400975,
          1.6349496570661093,
          1.6452632134864524,
          1.6552577240114492,
          1.6649478867073817,
          1.674347360079425,
          1.6834688579982855,
          1.692324234014309,
          1.7009245564512194,
          1.7092801754631108,
          1.7174007830647586,
          1.7252954670002116,
          1.7329727591929043,
          1.740440679417955,
          1.747706774750659,
          1.754778155271609,
          1.7616615264463247,
          1.7683632185437916,
          1.7748892134125795,
          1.7812451688938566,
          1.787436441116764,
          1.793468104892368,
          1.7993449723970392,
          1.8050716103141422,
          1.81065235558374,
          1.8160913298933261,
          1.8213924530279801,
          1.8265594551855333,
          1.8315958883510968,
          1.8365051368153809,
          1.8412904269125292,
          1.8459548360454672,
          1.8505013010599183,
          1.8549326260222196,
          1.8592514894506489,
          1.8634604510452046,
          1.867561957956514,
          1.8715583506307116,
          1.8754518682637373,
          1.8792446538954308,
          1.8829387591710804,
          1.8865361487955894,
          1.8900387047032372,
          1.893448229964,
          1.8967664524455838,
          1.899995028248726,
          1.9031355449318117,
          1.906189524539546,
          1.9091584264491959,
          1.9120436500468283,
          1.9148465372449597,
          1.9175683748521375,
          1.9202103968041375,
          1.9227737862656977,
          1.9252596776110409,
          1.9276691582907832,
          1.930003270592262,
          1.9322630132997851,
          1.9344493432608119,
          1.9365631768636398,
          1.9386053914317527,
          1.9405768265396126,
          1.9424782852543276,
          1.9443105353073102,
          1.9460743101997457,
          1.9477703102454087,
          1.9493992035541237,
          1.9509616269589185,
          1.9524581868897193,
          1.9538894601962118,
          1.9552559949223238,
          1.9565583110346028,
          1.957796901106592,
          1.9589722309611757,
          1.9600847402726915,
          1.9611348431305147,
          1.9621229285656476,
          1.9630493610417785,
          1.9639144809121183,
          1.9647186048432557,
          1.9654620262071514,
          1.9661450154423052,
          1.9667678203850425,
          1.9673306665717831,
          1.9678337575130662,
          1.9682772749400466,
          1.9686613790240834,
          1.968986208569981,
          1.9692518811833797,
          1.9694584934127133,
          1.9696061208660987,
          1.9696948183034506,
          1.9697246197040597,
          1.9696955383098091,
          1.9696075666441384,
          1.9694606765068234,
          1.9692548189445516,
          1.9689899241972473,
          1.9686659016200143,
          1.9682826395805142,
          1.9678400053315506,
          1.9673378448585412,
          1.9667759827015217,
          1.9661542217512493,
          1.9654723430189085,
          1.964730105378861,
          1.963927245283799,
          1.9630634764516022,
          1.9621384895231093,
          1.961151951689951,
          1.960103506291492,
          1.9589927723798537,
          1.9578193442518972,
          1.9565827909469382,
          1.9552826557088847,
          1.9539184554113576,
          1.9524896799442495,
          1.9509957915600655,
          1.9494362241782404,
          1.9478103826454967,
          1.9461176419501747,
          1.9443573463882788,
          1.9425288086788464,
          1.9406313090260363,
          1.9386640941251656,
          1.9366263761096958,
          1.9345173314359478,
          1.9323360997021002,
          1.9300817823977356,
          1.9277534415799498,
          1.9253500984717025,
          1.9228707319777982,
          1.92031427711349,
          1.9176796233403464,
          1.9149656128035857,
          1.9121710384646353,
          1.9092946421221852,
          1.9063351123144607,
          1.9032910820948685,
          1.900161126672526,
          1.8969437609085005,
          1.8936374366578297,
          1.8902405399465643,
          1.8867513879721836,
          1.883168225914742,
          1.8794892235450296,
          1.8757124716148488,
          1.8718359780131986,
          1.8678576636707585,
          1.8637753581934642,
          1.8595867952042764,
          1.855289607370313,
          1.850881321090451,
          1.8463593508161744,
          1.8417209929758984,
          1.8369634194701763,
          1.8320836707020862,
          1.827078648103617,
          1.821945106115048,
          1.8166796435700734,
          1.811278694434666,
          1.8057385178424699,
          1.8000551873636117,
          1.7942245794373621,
          1.788242360891811,
          1.7821039754656312,
          1.7758046292380187,
          1.7693392748628145,
          1.7627025944916082,
          1.7558889812580794,
          1.7488925191818558,
          1.74170696133455,
          1.7343257060932262,
          1.7267417712871664,
          1.7189477660222137,
          1.7109358599430229,
          1.702697749667042,
          1.6942246220947865,
          1.685507114268933,
          1.6765352694197853,
          1.6672984887970257,
          1.6577854788475372,
          1.647984193257191,
          1.6378817693319607,
          1.6274644581523459,
          1.6167175478977485,
          1.6056252797085737,
          1.5941707554399174,
          1.5823358366715956,
          1.5701010343892896,
          1.5574453888617559,
          1.5443463394400072,
          1.5307795843406669,
          1.5167189310119564,
          1.5021361385105445,
          1.48700075457617,
          1.4712799519736772,
          1.4549383714594293,
          1.4379379828218877,
          1.4202379814120776,
          1.4017947462110176,
          1.382561897858407,
          1.3624905126072164,
          1.3415295726087668,
          1.3196267661234222,
          1.2967297945196907,
          1.272788395520503,
          1.2477573479859132,
          1.2216007650477458,
          1.1942979709570283,
          1.165851121410305,
          1.1362943611198906
         ]
        }
       ],
       "layout": {
        "annotations": [
         {
          "arrowhead": 1,
          "ax": 100,
          "ay": -40,
          "bgcolor": "white",
          "bordercolor": "black",
          "borderwidth": 1,
          "showarrow": true,
          "text": "Tax-rate = 0.523",
          "x": 0.523,
          "y": 1.2
         }
        ],
        "font": {
         "color": "#7f7f7f",
         "family": "Courier New, monospace",
         "size": 18
        },
        "shapes": [
         {
          "line": {
           "color": "red",
           "dash": "dash"
          },
          "name": "Optimal Tax-rate",
          "type": "line",
          "x0": 0.522566265060241,
          "x1": 0.522566265060241,
          "y0": 0,
          "y1": 1.9697246197040597
         }
        ],
        "template": {
         "data": {
          "bar": [
           {
            "error_x": {
             "color": "#2a3f5f"
            },
            "error_y": {
             "color": "#2a3f5f"
            },
            "marker": {
             "line": {
              "color": "#E5ECF6",
              "width": 0.5
             },
             "pattern": {
              "fillmode": "overlay",
              "size": 10,
              "solidity": 0.2
             }
            },
            "type": "bar"
           }
          ],
          "barpolar": [
           {
            "marker": {
             "line": {
              "color": "#E5ECF6",
              "width": 0.5
             },
             "pattern": {
              "fillmode": "overlay",
              "size": 10,
              "solidity": 0.2
             }
            },
            "type": "barpolar"
           }
          ],
          "carpet": [
           {
            "aaxis": {
             "endlinecolor": "#2a3f5f",
             "gridcolor": "white",
             "linecolor": "white",
             "minorgridcolor": "white",
             "startlinecolor": "#2a3f5f"
            },
            "baxis": {
             "endlinecolor": "#2a3f5f",
             "gridcolor": "white",
             "linecolor": "white",
             "minorgridcolor": "white",
             "startlinecolor": "#2a3f5f"
            },
            "type": "carpet"
           }
          ],
          "choropleth": [
           {
            "colorbar": {
             "outlinewidth": 0,
             "ticks": ""
            },
            "type": "choropleth"
           }
          ],
          "contour": [
           {
            "colorbar": {
             "outlinewidth": 0,
             "ticks": ""
            },
            "colorscale": [
             [
              0,
              "#0d0887"
             ],
             [
              0.1111111111111111,
              "#46039f"
             ],
             [
              0.2222222222222222,
              "#7201a8"
             ],
             [
              0.3333333333333333,
              "#9c179e"
             ],
             [
              0.4444444444444444,
              "#bd3786"
             ],
             [
              0.5555555555555556,
              "#d8576b"
             ],
             [
              0.6666666666666666,
              "#ed7953"
             ],
             [
              0.7777777777777778,
              "#fb9f3a"
             ],
             [
              0.8888888888888888,
              "#fdca26"
             ],
             [
              1,
              "#f0f921"
             ]
            ],
            "type": "contour"
           }
          ],
          "contourcarpet": [
           {
            "colorbar": {
             "outlinewidth": 0,
             "ticks": ""
            },
            "type": "contourcarpet"
           }
          ],
          "heatmap": [
           {
            "colorbar": {
             "outlinewidth": 0,
             "ticks": ""
            },
            "colorscale": [
             [
              0,
              "#0d0887"
             ],
             [
              0.1111111111111111,
              "#46039f"
             ],
             [
              0.2222222222222222,
              "#7201a8"
             ],
             [
              0.3333333333333333,
              "#9c179e"
             ],
             [
              0.4444444444444444,
              "#bd3786"
             ],
             [
              0.5555555555555556,
              "#d8576b"
             ],
             [
              0.6666666666666666,
              "#ed7953"
             ],
             [
              0.7777777777777778,
              "#fb9f3a"
             ],
             [
              0.8888888888888888,
              "#fdca26"
             ],
             [
              1,
              "#f0f921"
             ]
            ],
            "type": "heatmap"
           }
          ],
          "heatmapgl": [
           {
            "colorbar": {
             "outlinewidth": 0,
             "ticks": ""
            },
            "colorscale": [
             [
              0,
              "#0d0887"
             ],
             [
              0.1111111111111111,
              "#46039f"
             ],
             [
              0.2222222222222222,
              "#7201a8"
             ],
             [
              0.3333333333333333,
              "#9c179e"
             ],
             [
              0.4444444444444444,
              "#bd3786"
             ],
             [
              0.5555555555555556,
              "#d8576b"
             ],
             [
              0.6666666666666666,
              "#ed7953"
             ],
             [
              0.7777777777777778,
              "#fb9f3a"
             ],
             [
              0.8888888888888888,
              "#fdca26"
             ],
             [
              1,
              "#f0f921"
             ]
            ],
            "type": "heatmapgl"
           }
          ],
          "histogram": [
           {
            "marker": {
             "pattern": {
              "fillmode": "overlay",
              "size": 10,
              "solidity": 0.2
             }
            },
            "type": "histogram"
           }
          ],
          "histogram2d": [
           {
            "colorbar": {
             "outlinewidth": 0,
             "ticks": ""
            },
            "colorscale": [
             [
              0,
              "#0d0887"
             ],
             [
              0.1111111111111111,
              "#46039f"
             ],
             [
              0.2222222222222222,
              "#7201a8"
             ],
             [
              0.3333333333333333,
              "#9c179e"
             ],
             [
              0.4444444444444444,
              "#bd3786"
             ],
             [
              0.5555555555555556,
              "#d8576b"
             ],
             [
              0.6666666666666666,
              "#ed7953"
             ],
             [
              0.7777777777777778,
              "#fb9f3a"
             ],
             [
              0.8888888888888888,
              "#fdca26"
             ],
             [
              1,
              "#f0f921"
             ]
            ],
            "type": "histogram2d"
           }
          ],
          "histogram2dcontour": [
           {
            "colorbar": {
             "outlinewidth": 0,
             "ticks": ""
            },
            "colorscale": [
             [
              0,
              "#0d0887"
             ],
             [
              0.1111111111111111,
              "#46039f"
             ],
             [
              0.2222222222222222,
              "#7201a8"
             ],
             [
              0.3333333333333333,
              "#9c179e"
             ],
             [
              0.4444444444444444,
              "#bd3786"
             ],
             [
              0.5555555555555556,
              "#d8576b"
             ],
             [
              0.6666666666666666,
              "#ed7953"
             ],
             [
              0.7777777777777778,
              "#fb9f3a"
             ],
             [
              0.8888888888888888,
              "#fdca26"
             ],
             [
              1,
              "#f0f921"
             ]
            ],
            "type": "histogram2dcontour"
           }
          ],
          "mesh3d": [
           {
            "colorbar": {
             "outlinewidth": 0,
             "ticks": ""
            },
            "type": "mesh3d"
           }
          ],
          "parcoords": [
           {
            "line": {
             "colorbar": {
              "outlinewidth": 0,
              "ticks": ""
             }
            },
            "type": "parcoords"
           }
          ],
          "pie": [
           {
            "automargin": true,
            "type": "pie"
           }
          ],
          "scatter": [
           {
            "fillpattern": {
             "fillmode": "overlay",
             "size": 10,
             "solidity": 0.2
            },
            "type": "scatter"
           }
          ],
          "scatter3d": [
           {
            "line": {
             "colorbar": {
              "outlinewidth": 0,
              "ticks": ""
             }
            },
            "marker": {
             "colorbar": {
              "outlinewidth": 0,
              "ticks": ""
             }
            },
            "type": "scatter3d"
           }
          ],
          "scattercarpet": [
           {
            "marker": {
             "colorbar": {
              "outlinewidth": 0,
              "ticks": ""
             }
            },
            "type": "scattercarpet"
           }
          ],
          "scattergeo": [
           {
            "marker": {
             "colorbar": {
              "outlinewidth": 0,
              "ticks": ""
             }
            },
            "type": "scattergeo"
           }
          ],
          "scattergl": [
           {
            "marker": {
             "colorbar": {
              "outlinewidth": 0,
              "ticks": ""
             }
            },
            "type": "scattergl"
           }
          ],
          "scattermapbox": [
           {
            "marker": {
             "colorbar": {
              "outlinewidth": 0,
              "ticks": ""
             }
            },
            "type": "scattermapbox"
           }
          ],
          "scatterpolar": [
           {
            "marker": {
             "colorbar": {
              "outlinewidth": 0,
              "ticks": ""
             }
            },
            "type": "scatterpolar"
           }
          ],
          "scatterpolargl": [
           {
            "marker": {
             "colorbar": {
              "outlinewidth": 0,
              "ticks": ""
             }
            },
            "type": "scatterpolargl"
           }
          ],
          "scatterternary": [
           {
            "marker": {
             "colorbar": {
              "outlinewidth": 0,
              "ticks": ""
             }
            },
            "type": "scatterternary"
           }
          ],
          "surface": [
           {
            "colorbar": {
             "outlinewidth": 0,
             "ticks": ""
            },
            "colorscale": [
             [
              0,
              "#0d0887"
             ],
             [
              0.1111111111111111,
              "#46039f"
             ],
             [
              0.2222222222222222,
              "#7201a8"
             ],
             [
              0.3333333333333333,
              "#9c179e"
             ],
             [
              0.4444444444444444,
              "#bd3786"
             ],
             [
              0.5555555555555556,
              "#d8576b"
             ],
             [
              0.6666666666666666,
              "#ed7953"
             ],
             [
              0.7777777777777778,
              "#fb9f3a"
             ],
             [
              0.8888888888888888,
              "#fdca26"
             ],
             [
              1,
              "#f0f921"
             ]
            ],
            "type": "surface"
           }
          ],
          "table": [
           {
            "cells": {
             "fill": {
              "color": "#EBF0F8"
             },
             "line": {
              "color": "white"
             }
            },
            "header": {
             "fill": {
              "color": "#C8D4E3"
             },
             "line": {
              "color": "white"
             }
            },
            "type": "table"
           }
          ]
         },
         "layout": {
          "annotationdefaults": {
           "arrowcolor": "#2a3f5f",
           "arrowhead": 0,
           "arrowwidth": 1
          },
          "autotypenumbers": "strict",
          "coloraxis": {
           "colorbar": {
            "outlinewidth": 0,
            "ticks": ""
           }
          },
          "colorscale": {
           "diverging": [
            [
             0,
             "#8e0152"
            ],
            [
             0.1,
             "#c51b7d"
            ],
            [
             0.2,
             "#de77ae"
            ],
            [
             0.3,
             "#f1b6da"
            ],
            [
             0.4,
             "#fde0ef"
            ],
            [
             0.5,
             "#f7f7f7"
            ],
            [
             0.6,
             "#e6f5d0"
            ],
            [
             0.7,
             "#b8e186"
            ],
            [
             0.8,
             "#7fbc41"
            ],
            [
             0.9,
             "#4d9221"
            ],
            [
             1,
             "#276419"
            ]
           ],
           "sequential": [
            [
             0,
             "#0d0887"
            ],
            [
             0.1111111111111111,
             "#46039f"
            ],
            [
             0.2222222222222222,
             "#7201a8"
            ],
            [
             0.3333333333333333,
             "#9c179e"
            ],
            [
             0.4444444444444444,
             "#bd3786"
            ],
            [
             0.5555555555555556,
             "#d8576b"
            ],
            [
             0.6666666666666666,
             "#ed7953"
            ],
            [
             0.7777777777777778,
             "#fb9f3a"
            ],
            [
             0.8888888888888888,
             "#fdca26"
            ],
            [
             1,
             "#f0f921"
            ]
           ],
           "sequentialminus": [
            [
             0,
             "#0d0887"
            ],
            [
             0.1111111111111111,
             "#46039f"
            ],
            [
             0.2222222222222222,
             "#7201a8"
            ],
            [
             0.3333333333333333,
             "#9c179e"
            ],
            [
             0.4444444444444444,
             "#bd3786"
            ],
            [
             0.5555555555555556,
             "#d8576b"
            ],
            [
             0.6666666666666666,
             "#ed7953"
            ],
            [
             0.7777777777777778,
             "#fb9f3a"
            ],
            [
             0.8888888888888888,
             "#fdca26"
            ],
            [
             1,
             "#f0f921"
            ]
           ]
          },
          "colorway": [
           "#636efa",
           "#EF553B",
           "#00cc96",
           "#ab63fa",
           "#FFA15A",
           "#19d3f3",
           "#FF6692",
           "#B6E880",
           "#FF97FF",
           "#FECB52"
          ],
          "font": {
           "color": "#2a3f5f"
          },
          "geo": {
           "bgcolor": "white",
           "lakecolor": "white",
           "landcolor": "#E5ECF6",
           "showlakes": true,
           "showland": true,
           "subunitcolor": "white"
          },
          "hoverlabel": {
           "align": "left"
          },
          "hovermode": "closest",
          "mapbox": {
           "style": "light"
          },
          "paper_bgcolor": "white",
          "plot_bgcolor": "#E5ECF6",
          "polar": {
           "angularaxis": {
            "gridcolor": "white",
            "linecolor": "white",
            "ticks": ""
           },
           "bgcolor": "#E5ECF6",
           "radialaxis": {
            "gridcolor": "white",
            "linecolor": "white",
            "ticks": ""
           }
          },
          "scene": {
           "xaxis": {
            "backgroundcolor": "#E5ECF6",
            "gridcolor": "white",
            "gridwidth": 2,
            "linecolor": "white",
            "showbackground": true,
            "ticks": "",
            "zerolinecolor": "white"
           },
           "yaxis": {
            "backgroundcolor": "#E5ECF6",
            "gridcolor": "white",
            "gridwidth": 2,
            "linecolor": "white",
            "showbackground": true,
            "ticks": "",
            "zerolinecolor": "white"
           },
           "zaxis": {
            "backgroundcolor": "#E5ECF6",
            "gridcolor": "white",
            "gridwidth": 2,
            "linecolor": "white",
            "showbackground": true,
            "ticks": "",
            "zerolinecolor": "white"
           }
          },
          "shapedefaults": {
           "line": {
            "color": "#2a3f5f"
           }
          },
          "ternary": {
           "aaxis": {
            "gridcolor": "white",
            "linecolor": "white",
            "ticks": ""
           },
           "baxis": {
            "gridcolor": "white",
            "linecolor": "white",
            "ticks": ""
           },
           "bgcolor": "#E5ECF6",
           "caxis": {
            "gridcolor": "white",
            "linecolor": "white",
            "ticks": ""
           }
          },
          "title": {
           "x": 0.05
          },
          "xaxis": {
           "automargin": true,
           "gridcolor": "white",
           "linecolor": "white",
           "ticks": "",
           "title": {
            "standoff": 15
           },
           "zerolinecolor": "white",
           "zerolinewidth": 2
          },
          "yaxis": {
           "automargin": true,
           "gridcolor": "white",
           "linecolor": "white",
           "ticks": "",
           "title": {
            "standoff": 15
           },
           "zerolinecolor": "white",
           "zerolinewidth": 2
          }
         }
        },
        "title": {
         "text": "Worker utility Level with the Tax-rate"
        },
        "xaxis": {
         "title": {
          "text": "Tax-rate"
         }
        },
        "yaxis": {
         "range": [
          0,
          2.2
         ],
         "title": {
          "text": "Worker utility"
         }
        }
       }
      }
     },
     "metadata": {},
     "output_type": "display_data"
    },
    {
     "name": "stdout",
     "output_type": "stream",
     "text": [
      "The socially optimal tax rate that maximizes worker utility is: 0.52257\n"
     ]
    }
   ],
   "source": [
    "# Calculate utility for each tau value\n",
    "utility_values = []\n",
    "for tau in tau_grid:\n",
    "    result = Problem1.numerical_lagrangian_optimization(tau)\n",
    "    utility = result[2]\n",
    "    utility_values.append(utility)\n",
    "\n",
    "# Find the tau value that maximizes utility\n",
    "max_utility_index = np.argmax(utility_values)\n",
    "optimal_tau = tau_grid[max_utility_index]\n",
    "\n",
    "# Plotting the utility values\n",
    "fig = go.Figure()\n",
    "fig.add_trace(go.Scatter(x=tau_grid, y=utility_values, name='Worker utility'))\n",
    "fig.update_layout(\n",
    "    title=\"Worker utility Level with the Tax-rate\",\n",
    "    xaxis_title=\"Tax-rate\",\n",
    "    yaxis_title=\"Worker utility\",\n",
    "    yaxis=dict(range=[0, 2.2]),\n",
    "    font=dict(\n",
    "        family=\"Courier New, monospace\",\n",
    "        size=18,\n",
    "        color=\"#7f7f7f\"\n",
    "    )\n",
    ")\n",
    "\n",
    "# Mark the tau level that maximizes utility\n",
    "fig.add_shape(\n",
    "    type=\"line\",\n",
    "    x0=optimal_tau,\n",
    "    x1=optimal_tau,\n",
    "    y0=0,\n",
    "    y1=max(utility_values),\n",
    "    line=dict(\n",
    "        color=\"red\",\n",
    "        dash=\"dash\",\n",
    "    ),\n",
    "    name='Optimal Tax-rate'\n",
    ")\n",
    "\n",
    "# Add label for optimal tau level\n",
    "fig.add_annotation(\n",
    "    x=0.523,\n",
    "    y=1.2,\n",
    "    text=f\"Tax-rate = {optimal_tau:.3f}\",\n",
    "    showarrow=True,\n",
    "    arrowhead=1,\n",
    "    ax=100,\n",
    "    ay=-40,\n",
    "    bgcolor=\"white\",\n",
    "    bordercolor=\"black\",\n",
    "    borderwidth=1,\n",
    ")\n",
    "\n",
    "fig.show()\n",
    "\n",
    "# Print the optimal tau value\n",
    "print(f\"The socially optimal tax rate that maximizes worker utility is: {optimal_tau:.5f}\")\n"
   ]
  },
  {
   "attachments": {},
   "cell_type": "markdown",
   "metadata": {},
   "source": [
    "Thereby, we have demonstrated that the socially optimal tax rate that maximizes worker utility is $\\tau = 0.52257$."
   ]
  },
  {
   "attachments": {},
   "cell_type": "markdown",
   "metadata": {},
   "source": [
    "A more general preference formulation for the worker is:\n",
    "\n",
    "$$\n",
    "\\begin{align*}\n",
    "\\mathcal{V}(w,\\tau,G)&=\\max_{L\\in[0,24]}\\frac{\\left[ \\left( \\alpha C^{\\frac{\\sigma-1}{\\sigma}}+(1-\\alpha) G^{\\frac{\\sigma-1}{\\sigma}} \\right)^{\\frac{\\sigma}{\\sigma-1} }\\right]^{1-\\rho}-1}{1-\\rho}- \\nu\\frac{L^{1+\\varepsilon}}{1+\\varepsilon},\\,\\,\\,\\varepsilon,\\rho,\\sigma>0,\\,\\,\\,\\rho,\\sigma\\neq1\\\\&\\text{s.t.}\\\\&C=\\kappa+(1-\\tau)wL\n",
    "\\end{align*}    \n",
    "$$\n",
    "\n",
    "Optimal labor supply is now $L^{\\star}(\\tilde{w},G)$."
   ]
  },
  {
   "attachments": {},
   "cell_type": "markdown",
   "metadata": {},
   "source": [
    "Questions 5 and 6 must be answered with the general formulation, and for 2 different set of parameters:\n",
    "\n",
    "- Set 1:  $\\sigma = 1.001$, $\\rho = 1.001$ and $\\varepsilon = 1.0$.\n",
    "- Set 2:  $\\sigma = 1.5$, $\\rho = 1.5$ and $\\varepsilon = 1.0 $."
   ]
  },
  {
   "attachments": {},
   "cell_type": "markdown",
   "metadata": {},
   "source": [
    "**Question 5:** Find the $G$ that solves $G = \\tau w L^{\\star}((1-\\tau)w,G)$ using the $\\tau$ found in question 4.\n",
    "\n",
    "*Hint: First write code that solves the worker problem for given values of $G$ and $\\tau$. Then find the correct G based on this.*"
   ]
  },
  {
   "attachments": {},
   "cell_type": "markdown",
   "metadata": {},
   "source": [
    "To answer Question 5 we used the Lagrangian approach and numerical optimization to find the optimal labor supply and government spending for each parameter set. It solved the worker problem by setting up the Lagrangian equation, calculating its derivative with respect to labor supply, and using the fsolve function from the scipy.optimize module to find the optimal values.\n",
    "\n",
    "We now solve it for the two diffrent parameter sets:"
   ]
  },
  {
   "cell_type": "code",
   "execution_count": 1185,
   "metadata": {},
   "outputs": [
    {
     "name": "stdout",
     "output_type": "stream",
     "text": [
      "Set 1 - Labor supply: 10.314878888170549\n",
      "Set 1 - Government spending: 5.390246260591283\n",
      "Set 1 - Utility: 1.522551088991738\n",
      "\n",
      "Set 2 - Labor supply: 9.064636264924772\n",
      "Set 2 - Government spending: 4.736906972961738\n",
      "Set 2 - Utility: 0.9474528886596683\n"
     ]
    }
   ],
   "source": [
    "\n",
    "# Solve for Set 1 parameters\n",
    "sigma1 = 1.001\n",
    "rho1 = 1.001\n",
    "epsilon1 = 1.0\n",
    "tau_optimal_set1 = 0.52257\n",
    "\n",
    "L_star_set1, G_star_set1, utility_set1 = Problem1.new_optimization(tau_=tau_optimal_set1, sigma=sigma1, rho=rho1, epsilon=epsilon1)\n",
    "print(\"Set 1 - Labor supply:\", L_star_set1)\n",
    "print(\"Set 1 - Government spending:\", G_star_set1)\n",
    "print(\"Set 1 - Utility:\", utility_set1)\n",
    "print(\"\")\n",
    "\n",
    "# Solve for Set 2 parameters\n",
    "sigma2 = 1.5\n",
    "rho2 = 1.5\n",
    "epsilon2 = 1.0\n",
    "tau_optimal_set2 = 0.52257\n",
    "\n",
    "L_star_set2, G_star_set2, utility_set2 = Problem1.new_optimization(tau_=tau_optimal_set2, sigma=sigma2, rho=rho2, epsilon=epsilon2)\n",
    "print(\"Set 2 - Labor supply:\", L_star_set2)\n",
    "print(\"Set 2 - Government spending:\", G_star_set2)\n",
    "print(\"Set 2 - Utility:\", utility_set2)"
   ]
  },
  {
   "attachments": {},
   "cell_type": "markdown",
   "metadata": {},
   "source": [
    "The worker's optimal labor supply and corresponding government spending were analyzed using a more general preference formulation. The parameters were considered in two different sets: Set 1 and Set 2. For each set, the optimal labor supply and government spending were determined.\n",
    "\n",
    "For Set 1 parameters ($\\sigma = 1.001$, $\\rho = 1.001$, $\\varepsilon = 1.0$):\n",
    "\n",
    "- Set 1 - Labor supply: approximately 10.31 hours\n",
    "- Set 1 - Government spending: approximately 5.39\n",
    "\n",
    "For Set 2 parameters ($\\sigma = 1.5$, $\\rho = 1.5$, $\\varepsilon = 1.0$):\n",
    "\n",
    "- Set 2 - Labor supply: approximately 9.06 hours\n",
    "- Set 2 - Government spending: approximately 4.74"
   ]
  },
  {
   "attachments": {},
   "cell_type": "markdown",
   "metadata": {},
   "source": [
    "**Question 6:** Find the socially optimal tax rate, $\\tau^{\\star}$, maximizing worker utility, while keeping $G = \\tau w L^{\\star}((1-\\tau)w,G)$."
   ]
  },
  {
   "attachments": {},
   "cell_type": "markdown",
   "metadata": {},
   "source": [
    "Our objective is to graph the worker utility against the tax rate for two different parameter sets. To achieve this, we use the function from above that accepts the parameters as inputs and yields the utility for each tau value. Subsequently, we employ this function to compute the utility for each tau value across the two parameter sets. Finally, we generate a plot displaying the utility as a function of the tax rate for both parameter sets, and identify the tau level that maximizes utility for each set of parameters."
   ]
  },
  {
   "cell_type": "code",
   "execution_count": 1186,
   "metadata": {},
   "outputs": [
    {
     "name": "stdout",
     "output_type": "stream",
     "text": [
      "Socially Optimal Tax Rate (Set 1): 0.5151212121212121\n",
      "Socially Optimal Tax Rate (Set 2): 0.5554444444444444\n"
     ]
    },
    {
     "data": {
      "image/png": "[encoded data removed]",
      "text/plain": [
       "<Figure size 1200x400 with 2 Axes>"
      ]
     },
     "metadata": {},
     "output_type": "display_data"
    }
   ],
   "source": [
    "# Find socially optimal tax rate for Set 1\n",
    "tau_values = np.linspace(0.001, 0.999, 100)\n",
    "utility_values_set1 = []\n",
    "\n",
    "for tau in tau_values:\n",
    "    L_star, G_star, total_utility = Problem1.new_optimization(tau_=tau, sigma=sigma1, rho=rho1, epsilon=epsilon1)\n",
    "    utility_values_set1.append(total_utility)\n",
    "\n",
    "# Find socially optimal tax rate for Set 2\n",
    "utility_values_set2 = []\n",
    "\n",
    "for tau in tau_values:\n",
    "    L_star, G_star, total_utility = Problem1.new_optimization(tau_=tau, sigma=sigma2, rho=rho2, epsilon=epsilon2)\n",
    "    utility_values_set2.append(total_utility)\n",
    "\n",
    "# Find the socially optimal tax rate for Set 1\n",
    "optimal_tau_set1 = tau_values[np.argmax(utility_values_set1)]\n",
    "max_utility_set1 = np.max(utility_values_set1)\n",
    "print(\"Socially Optimal Tax Rate (Set 1):\", optimal_tau_set1)\n",
    "\n",
    "# Find the socially optimal tax rate for Set 2\n",
    "optimal_tau_set2 = tau_values[np.argmax(utility_values_set2)]\n",
    "max_utility_set2 = np.max(utility_values_set2)\n",
    "print(\"Socially Optimal Tax Rate (Set 2):\", optimal_tau_set2)\n",
    "\n",
    "# Plotting\n",
    "fig, (ax1, ax2) = plt.subplots(1, 2, figsize=(12, 4))\n",
    "\n",
    "ax1.plot(tau_values, utility_values_set1, label=\"Set 1\")\n",
    "ax1.axvline(x=optimal_tau_set1, color='r', linestyle='--', label='Optimal Tax Rate')\n",
    "ax1.set_xlabel(\"Tax Rate (tau)\")\n",
    "ax1.set_ylabel(\"Utility\")\n",
    "ax1.set_title(\"Socially Optimal Tax Rate vs. Utility (Set 1)\")\n",
    "ax1.legend()\n",
    "\n",
    "ax2.plot(tau_values, utility_values_set2, label=\"Set 2\")\n",
    "ax2.axvline(x=optimal_tau_set2, color='r', linestyle='--', label='Optimal Tax Rate')\n",
    "ax2.set_xlabel(\"Tax Rate (tau)\")\n",
    "ax2.set_ylabel(\"Utility\")\n",
    "ax2.set_title(\"Socially Optimal Tax Rate vs. Utility (Set 2)\")\n",
    "ax2.legend()\n",
    "\n",
    "plt.tight_layout()\n",
    "plt.show()"
   ]
  },
  {
   "attachments": {},
   "cell_type": "markdown",
   "metadata": {},
   "source": [
    "In conclusion, our analysis of worker utility as a function of the tax rate for two sets of parameters has yielded valuable insights. For Set 1, the socially optimal tax rate was determined to be approximately 0.5151, while for Set 2, it was found to be around 0.5554. These findings highlight the importance of considering parameter variations when determining the tax rate that maximizes social welfare."
   ]
  },
  {
   "attachments": {},
   "cell_type": "markdown",
   "metadata": {},
   "source": [
    "## 2. <a id='toc2_'></a>[Problem 2: Labor adjustment costs](#toc0_)"
   ]
  },
  {
   "attachments": {},
   "cell_type": "markdown",
   "metadata": {},
   "source": [
    "You own a hair salon. You employ hairdressers, $\\ell_t$, to produce haircuts, $y_t = \\ell_t$.\n",
    "\n",
    "The wage for each haridresser is $w$.\n",
    "\n",
    "The demand for haircuts implies that the price of haircuts you can charge is $p_t = \\kappa_t y_t^{-\\eta}$, where $\\kappa_t$ is a demand-shock and $\\eta \\in (0,1)$ measures the elasticity of demand.\n",
    "\n",
    "Profits are:\n",
    "\n",
    "$$\n",
    "\\Pi_t = p_t y_t - w \\ell_t = \\kappa_t \\ell_t^{1-\\eta} - w \\ell_t\n",
    "$$"
   ]
  },
  {
   "attachments": {},
   "cell_type": "markdown",
   "metadata": {},
   "source": [
    "Baseline parameters are:\n",
    "- $\\eta = 0.5$\n",
    "- $w = 1.0$"
   ]
  },
  {
   "attachments": {},
   "cell_type": "markdown",
   "metadata": {},
   "source": [
    "**Question 1:** Verify numerically that $\\ell_{t}=\\left(\\frac{(1-\\eta)\\kappa_{t}}{w}\\right)^{\\frac{1}{\\eta}}$ maximises profits, for $\\kappa\\in\\left\\{1.0 , 2.0\\right\\}$."
   ]
  },
  {
   "attachments": {},
   "cell_type": "markdown",
   "metadata": {},
   "source": [
    "We first explore the problem of profit maximization for our hairdresser business in a static settin. We analyze the relationship between the number of hairdressers, denoted as $\\ell_{t}$, and the profitability of the business denoted as $\\Pi_t$.\n",
    "\n",
    "In the first part, we verify, that the $\\ell_{t}$ that maximises profits for $\\kappa\\in\\left\\{1.0 , 2.0\\right\\}$ are given by $\\ell_{t}=\\left(\\frac{(1-\\eta)\\kappa_{t}}{w}\\right)^{\\frac{1}{\\eta}}$.\n",
    "\n",
    "\n",
    "\n",
    "In the second part, we plot the profitability as a function of $\\ell_{t}$ for th two different values of $\\kappa$. This visualization helps us understand how the number of hairdressers affects profitability.\n",
    "\n"
   ]
  },
  {
   "cell_type": "code",
   "execution_count": 1187,
   "metadata": {},
   "outputs": [
    {
     "name": "stdout",
     "output_type": "stream",
     "text": [
      "Optimal l for kappa calculated with optimizer for kappa=1.0: 0.2486\n",
      "Optimal l for kappa calculated with optimizer for kappa=2.0: 1.0018\n",
      "Optimal l calculated with analytic solution kappa=1.0: 0.2500\n",
      "Optimal l calculated with analytic solution kappa=2.0: 1.0000\n"
     ]
    }
   ],
   "source": [
    "Problem2.Q1part1()"
   ]
  },
  {
   "attachments": {},
   "cell_type": "markdown",
   "metadata": {},
   "source": [
    "As we can observe,  it appears that our calculated $\\ell_{t}$ matches the one found with the analytic approach. \n",
    "To further investigate how the profit varies for different values of $\\ell_{t}$ for $\\kappa\\in\\left\\{1.0 , 2.0\\right\\}$, we plot the two different scenarios."
   ]
  },
  {
   "cell_type": "code",
   "execution_count": 1188,
   "metadata": {},
   "outputs": [
    {
     "data": {
      "image/png": "[encoded data removed]",
      "text/plain": [
       "<Figure size 640x480 with 1 Axes>"
      ]
     },
     "metadata": {},
     "output_type": "display_data"
    }
   ],
   "source": [
    "Problem2.Q1part2()"
   ]
  },
  {
   "attachments": {},
   "cell_type": "markdown",
   "metadata": {},
   "source": [
    "In line with what we found before the plot shows, that that the optimal value for $\\ell_{t}$ is 0.25 for $\\kappa$=1 and the optimal value for $\\ell_{t}$ is 1 for $\\kappa$=2"
   ]
  },
  {
   "attachments": {},
   "cell_type": "markdown",
   "metadata": {},
   "source": [
    "We now consider a *dynamic* version of the model.\n",
    "\n",
    "* The demand-shock is a so-called AR(1) in logs, \n",
    "\n",
    "$$\n",
    "\\log \\kappa_{t} = \\rho \\log \\kappa_{t-1} + \\epsilon_{t},\\,\\,\\, \\epsilon_{t+1} \\sim \\mathcal{N}(-0.5\\sigma_{\\epsilon}^2,\\sigma_{\\epsilon})\n",
    "$$\n",
    "\n",
    "* Any hiring or firing implies a fixed adjustment cost, $\\iota > 0 $.\n",
    "* Future profits are discounted with a monthly factor of $R \\in (0,1)$.\n",
    "\n",
    "The initial demand shock is $\\kappa_{-1} = 1$ and the planning horizon is 10 years, i.e. 120 months so $t \\in \\{0,1,2,\\dots,119\\}$. Initially you don't have any employees, $\\ell_{-1}=0$"
   ]
  },
  {
   "attachments": {},
   "cell_type": "markdown",
   "metadata": {},
   "source": [
    "\n",
    "The *ex post* value of the salon is *conditional* on the shock series is:\n",
    "\n",
    "$$\n",
    "h(\\epsilon_0,\\epsilon_1,\\dots,\\epsilon_{119}) = \\left[\\sum_{t=0}^{119}R^{-t}\\left[\\kappa_{t}\\ell_{t}^{1-\\eta}-w\\ell_{t}-\\boldsymbol{1}_{\\ell_{t}\\neq\\ell_{t-1}}\\iota\\right]\\right]\n",
    "$$\n",
    "\n",
    "The *ex ante* expected value of the salon can be approximated by\n",
    "\n",
    "$$\n",
    "H = \\mathbb{E}[h(\\epsilon_0,\\epsilon_1,\\dots,\\epsilon_{119})] \\approx \\frac{1}{K}\\sum_{k=0}^{K} h(\\epsilon_0^k,\\epsilon_1^k,\\dots,\\epsilon_{119}^k)\n",
    "$$\n",
    "\n",
    "where each $k\\in\\{0,1,\\dots,K-1\\}$ is a random shock series. Maximizing profitability means maximizing $H$.\n"
   ]
  },
  {
   "attachments": {},
   "cell_type": "markdown",
   "metadata": {},
   "source": [
    "Baseline parameters are: \n",
    "\n",
    "- $\\rho = 0.90$\n",
    "- $\\iota = 0.01$\n",
    "- $\\sigma_{\\epsilon} = 0.10$\n",
    "- $R = \\left(1+0.01\\right)^{1/12}$"
   ]
  },
  {
   "attachments": {},
   "cell_type": "markdown",
   "metadata": {},
   "source": [
    "**Question 2:** Calculate $H$ if the policy  $\\ell_{t}=\\left(\\frac{(1-\\eta)\\kappa_{t}}{w}\\right)^{\\frac{1}{\\eta}}$ from question 1 is followed. Choose $K$ so the approximation is good enough to not affect your results substantially."
   ]
  },
  {
   "attachments": {},
   "cell_type": "markdown",
   "metadata": {},
   "source": [
    "We now consider a dynamic version of the problem, where the demand shocks follow an AR(1) process. We set up the model in a dynamic setting, generate random shocks (using a seed for reproducibility), and calculate the expected profit under the assumption that we follow the hiring policy rule given by $\\ell_{t}=\\left(\\frac{(1-\\eta)\\kappa_{t}}{w}\\right)^{\\frac{1}{\\eta}}$."
   ]
  },
  {
   "cell_type": "code",
   "execution_count": 1189,
   "metadata": {},
   "outputs": [
    {
     "name": "stdout",
     "output_type": "stream",
     "text": [
      "Ex ante expected value (H): 39.3185\n"
     ]
    }
   ],
   "source": [
    "Problem2.Q2()"
   ]
  },
  {
   "attachments": {},
   "cell_type": "markdown",
   "metadata": {},
   "source": [
    "The expected profit is calculated to be 39.3185."
   ]
  },
  {
   "attachments": {},
   "cell_type": "markdown",
   "metadata": {},
   "source": [
    "Next, we consider policies on the form:\n",
    "\n",
    "$$\n",
    "\n",
    "\\ell_{t}=\\begin{cases}\n",
    "\\ell_t^{\\ast}  & \\text{if }\\left|\\ell_{t-1}-\\ell_t^{\\ast} \\right|>\\Delta\\\\\n",
    "\\ell_{t-1} & \\text{else }\n",
    "\\end{cases}\n",
    "\\\\\n",
    "\\text{where}\\,\\,\\ell_t^{\\ast} = \\left(\\frac{(1-\\eta)\\kappa_{t}}{w}\\right)^{\\frac{1}{\\eta}} \\\\\n",
    "\n",
    "$$\n",
    "With $\\Delta \\geq 0$ and $\\Delta = 0$ being the previous policy.\n"
   ]
  },
  {
   "attachments": {},
   "cell_type": "markdown",
   "metadata": {},
   "source": [
    "\n",
    "**Question 3:** Calculate $H$ if the policy above was followed with $\\Delta = 0.05$. Does it improve profitability?"
   ]
  },
  {
   "attachments": {},
   "cell_type": "markdown",
   "metadata": {},
   "source": [
    "We implement the new hiring policy and calculate the expected profit using the same seed as before. This allows us to compare the results of the two different policies."
   ]
  },
  {
   "cell_type": "code",
   "execution_count": 1190,
   "metadata": {},
   "outputs": [
    {
     "name": "stdout",
     "output_type": "stream",
     "text": [
      "Ex ante expected value (H_old): 39.3185\n",
      "Ex ante expected value (H_new): 39.9596\n"
     ]
    }
   ],
   "source": [
    "Problem2.Q3()"
   ]
  },
  {
   "attachments": {},
   "cell_type": "markdown",
   "metadata": {},
   "source": [
    "The new policy does indeed improve the expected profit."
   ]
  },
  {
   "attachments": {},
   "cell_type": "markdown",
   "metadata": {},
   "source": [
    "**Question 4:** Find the optimal $\\Delta$ maximizing $H$. Illustrate your result."
   ]
  },
  {
   "attachments": {},
   "cell_type": "markdown",
   "metadata": {},
   "source": [
    "We will now stick with the hiring policy as formulated in Q3. However, our goal is to maximize $H$ by finding the optimal value of $\\Delta$. We will use an optimizer to calculate the optimal $\\Delta$ that maximizes $H$. After obtaining the optimal $\\Delta$, we will compute the corresponding $H$ value. Finally, we will plot the different $H$ values as a function of $\\Delta$ to visualize the relationship between $H$ and $\\Delta$ and observe how $H$ changes with varying $\\Delta$. Note that this can take a few seconds to run."
   ]
  },
  {
   "cell_type": "code",
   "execution_count": 1191,
   "metadata": {},
   "outputs": [
    {
     "name": "stdout",
     "output_type": "stream",
     "text": [
      "Optimal Delta: 0.0976\n",
      "Maximum H: 40.1462\n"
     ]
    },
    {
     "data": {
      "image/png": "[encoded data removed]",
      "text/plain": [
       "<Figure size 640x480 with 1 Axes>"
      ]
     },
     "metadata": {},
     "output_type": "display_data"
    }
   ],
   "source": [
    "Problem2.Q4()"
   ]
  },
  {
   "attachments": {},
   "cell_type": "markdown",
   "metadata": {},
   "source": [
    "We find that the $\\Delta$ value that maximizes $H$ is $\\Delta = 0.0976$. This optimal $\\Delta$ results in a maximum $H$ value of $H = 40.1462$. This is also indicated in the plot above, where the highest point corresponds to the optimal $\\Delta$ value."
   ]
  },
  {
   "attachments": {},
   "cell_type": "markdown",
   "metadata": {},
   "source": [
    "\n",
    "**Question 5:** Suggest an alternative policy you believe might improve profitability. Implement and test your policy.\n",
    "\n"
   ]
  },
  {
   "attachments": {},
   "cell_type": "markdown",
   "metadata": {},
   "source": [
    "We have considered introducing additional dependencies in our hiring policy to capture long-term demand trends for haircuts. By incorporating these dependencies, we aim to improve our ability to hire the optimal number of hairdressers and maximize profits."
   ]
  },
  {
   "cell_type": "code",
   "execution_count": 1192,
   "metadata": {},
   "outputs": [
    {
     "name": "stdout",
     "output_type": "stream",
     "text": [
      "Ex ante expected value (H) with modified policy: 39.1526\n",
      "H_max_old: 40.1462\n"
     ]
    }
   ],
   "source": [
    "Problem2.Q5()"
   ]
  },
  {
   "attachments": {},
   "cell_type": "markdown",
   "metadata": {},
   "source": [
    "Unfortunately, our modification led to a slight decrease in $H$. The decrease in $H$ with the new modified policy compared to the previous policy could be due to the introduction of additional dependencies. The modified policy's dynamic adjustment to the number of hairdressers based on cumulative demand might lead to overcorrection or instability, resulting in suboptimal outcomes. The original policy, being simpler, might have been more robust and efficient in maximizing profits. Further analysis is needed to understand the reasons behind the decrease in $H$ and explore potential improvements."
   ]
  },
  {
   "attachments": {},
   "cell_type": "markdown",
   "metadata": {},
   "source": [
    "## 3. <a id='toc3_'></a>[Problem 3: Global optimizer with refined multi-start](#toc0_)"
   ]
  },
  {
   "attachments": {},
   "cell_type": "markdown",
   "metadata": {},
   "source": [
    "We consider the Griewank function:\n",
    "\n",
    "$$ f(\\boldsymbol{x}) = \\sum^n_{i=1} \\frac{x^2_i}{4000}-\\prod^n_{i=1}\\cos\\left(\\frac{x_i}{\\sqrt{i}}\\right)+1$$\n",
    "\n",
    "The **global minimum** of this function is $f(0,0) = 0$ (remember: $\\cos(0)=1$).<br>\n",
    "But the function also have a lot of **local minima**."
   ]
  },
  {
   "cell_type": "code",
   "execution_count": 1193,
   "metadata": {},
   "outputs": [],
   "source": [
    "def griewank(x):\n",
    "    return griewank_(x[0],x[1])\n",
    "    \n",
    "def griewank_(x1,x2):\n",
    "    A = x1**2/4000 + x2**2/4000\n",
    "    B = np.cos(x1/np.sqrt(1))*np.cos(x2/np.sqrt(2))\n",
    "    return A-B+1"
   ]
  },
  {
   "attachments": {},
   "cell_type": "markdown",
   "metadata": {},
   "source": [
    "A **refined global optimizer with multi-start** is:\n",
    "\n",
    "1. Choose *bounds* for $\\mathbf{x}$ and *tolerance* $\\tau > 0$.\n",
    "2. Choose number of *warm-up iterations*, $\\underline{K} > 0$ and *maximum number of iterations*, $K > \\underline{K}$.\n",
    "3. In each iteration for $k \\in \\{0,1,\\dots,K-1\\}$:\n",
    "\n",
    "    A. Draw random $\\mathbf{x}^k$ uniformly within chosen bounds.\n",
    "\n",
    "    B. If $k < \\underline{K}$ go to step E.\n",
    "\n",
    "    C. Calculate $\\chi^k = 0.50\\cdot\\frac{2}{1+\\exp((k-\\underline{K})/100)}$  \n",
    "\n",
    "    D. Set $\\mathbf{x}^{k0} = \\chi^k \\mathbf{x}^k + (1-\\chi^k)\\mathbf{x}^{\\ast} $\n",
    "\n",
    "    E. Run optimizer with $\\mathbf{x}^{k0}$ as initial guess and $\\mathbf{x}^{k\\ast}$ as result.\n",
    "\n",
    "    F. Set $\\mathbf{x}^{\\ast} = \\mathbf{x}^{k\\ast}$ if $k = 0$ or $f(\\mathbf{x}^{k\\ast}) < f(\\mathbf{x}^{\\ast})$\n",
    "\n",
    "    G. If $f(\\mathbf{x}^{\\ast}) < \\tau$ go to step 4.\n",
    "\n",
    "4. Return the result $\\mathbf{x}^{\\ast}$."
   ]
  },
  {
   "attachments": {},
   "cell_type": "markdown",
   "metadata": {},
   "source": [
    "As settings we choose:\n",
    "\n",
    "* $x_1,x_2 \\in  [-600,600]$\n",
    "* $\\tau = 10^{-8}$\n",
    "* $\\underline{K}=10$\n",
    "* $K=1000$\n",
    "\n",
    "The optimizer in Step 3.E is `BFGS` with a tolerance of $\\tau$."
   ]
  },
  {
   "attachments": {},
   "cell_type": "markdown",
   "metadata": {},
   "source": [
    "**Question 1:** Implement the refined global optimizer with multi-start. Illustrate how the effective initial guesses $\\mathbf{x}^{k0}$ vary with the iteration counter $k$."
   ]
  },
  {
   "attachments": {},
   "cell_type": "markdown",
   "metadata": {},
   "source": [
    "We now optimize the Griewank function, which has a global minimum but also multiple local minima. To address this, a refined global optimizer with multi-start is implemented. The optimizer uses a set of predetermined settings, including variable bounds, a tolerance value, and the number of warm-up and maximum iterations.\n",
    "\n",
    "The code then generates plots to showcase the variation of effective initial guesses for variables x1 and x2 over the iterations. These plots provide insights into how the initial guesses evolve throughout the optimization process."
   ]
  },
  {
   "cell_type": "code",
   "execution_count": 1194,
   "metadata": {},
   "outputs": [
    {
     "data": {
      "image/png": "[encoded data removed]",
      "text/plain": [
       "<Figure size 1000x600 with 1 Axes>"
      ]
     },
     "metadata": {},
     "output_type": "display_data"
    },
    {
     "data": {
      "image/png": "[encoded data removed]",
      "text/plain": [
       "<Figure size 1000x600 with 1 Axes>"
      ]
     },
     "metadata": {},
     "output_type": "display_data"
    }
   ],
   "source": [
    "Problem3.Q1()"
   ]
  },
  {
   "attachments": {},
   "cell_type": "markdown",
   "metadata": {},
   "source": [
    "As we would expect, the plots for x1 and x2 look very similar. Both plots demonstrate how increased iterations lead to convergence towards the true global minimum of 0."
   ]
  },
  {
   "attachments": {},
   "cell_type": "markdown",
   "metadata": {},
   "source": [
    "**Question 2:** Is it a better idea to set $\\underline{K} = 100$? Is the convergence faster?"
   ]
  },
  {
   "cell_type": "code",
   "execution_count": 1195,
   "metadata": {},
   "outputs": [],
   "source": [
    "# write your code here"
   ]
  }
 ],
 "metadata": {
  "kernelspec": {
   "display_name": "base",
   "language": "python",
   "name": "python3"
  },
  "language_info": {
   "codemirror_mode": {
    "name": "ipython",
    "version": 3
   },
   "file_extension": ".py",
   "mimetype": "text/x-python",
   "name": "python",
   "nbconvert_exporter": "python",
   "pygments_lexer": "ipython3",
   "version": "3.9.13"
  },
  "orig_nbformat": 4,
  "vscode": {
   "interpreter": {
    "hash": "11631d3d93f10103f216a90b530d411d24f2a799ffced0e9ac835eaee7d54492"
   }
  }
 },
 "nbformat": 4,
 "nbformat_minor": 2
}
