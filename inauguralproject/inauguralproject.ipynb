{
 "cells": [
  {
   "attachments": {},
   "cell_type": "markdown",
   "metadata": {},
   "source": [
    "# Inagural Project - Household Specialization Model"
   ]
  },
  {
   "attachments": {},
   "cell_type": "markdown",
   "metadata": {},
   "source": [
    "Imports and set magics:"
   ]
  },
  {
   "cell_type": "code",
   "execution_count": 1,
   "metadata": {},
   "outputs": [],
   "source": [
    "#Import package\n",
    "\n",
    "import numpy as np\n",
    "from types import SimpleNamespace\n",
    "\n",
    "import numpy as np\n",
    "from scipy import optimize\n",
    "\n",
    "import pandas as pd \n",
    "import matplotlib.pyplot as plt\n",
    "\n",
    "# autoreload modules when code is run\n",
    "%load_ext autoreload\n",
    "%autoreload 2\n",
    "\n",
    "# local modules\n",
    "from inauguralproject import HouseholdSpecializationModelClass"
   ]
  },
  {
   "attachments": {},
   "cell_type": "markdown",
   "metadata": {},
   "source": [
    "# Question 1"
   ]
  },
  {
   "attachments": {},
   "cell_type": "markdown",
   "metadata": {},
   "source": [
    "Here, we illustrate how varying $\\alpha$ and $\\sigma$ values across the range of $\\alpha \\in [0.25, 0.5, 0.75]$ and $\\sigma \\in [0.5, 1, 1.5]$ affects the ratio of female to male hours of household work, $\\frac{H_F}{H_M}$. We achieve this by employing the model.solve_discrete function from pw.py."
   ]
  },
  {
   "cell_type": "code",
   "execution_count": 2,
   "metadata": {},
   "outputs": [
    {
     "name": "stdout",
     "output_type": "stream",
     "text": [
      " sigma = 0.50 and alpha = 0.25, H_F / H_M will be equal to: 0.55\n",
      " sigma = 0.50 and alpha = 0.50, H_F / H_M will be equal to: 1.00\n",
      " sigma = 0.50 and alpha = 0.75, H_F / H_M will be equal to: 1.83\n",
      " sigma = 1.00 and alpha = 0.25, H_F / H_M will be equal to: 0.31\n",
      " sigma = 1.00 and alpha = 0.50, H_F / H_M will be equal to: 1.00\n",
      " sigma = 1.00 and alpha = 0.75, H_F / H_M will be equal to: 3.25\n",
      " sigma = 1.50 and alpha = 0.25, H_F / H_M will be equal to: 0.21\n",
      " sigma = 1.50 and alpha = 0.50, H_F / H_M will be equal to: 1.00\n",
      " sigma = 1.50 and alpha = 0.75, H_F / H_M will be equal to: 4.67\n"
     ]
    }
   ],
   "source": [
    "model = HouseholdSpecializationModelClass()\n",
    "\n",
    "par = model.par\n",
    "\n",
    "list_alpha = [0.25, 0.5, 0.75]\n",
    "list_sigma = [0.5, 1.0, 1.5]\n",
    "\n",
    "#Here we solve for the relationship between the hours for male and female for the different values of alpha and sigma\n",
    "\n",
    "for i in list_sigma:\n",
    "    par.sigma = i\n",
    "    for j in list_alpha:\n",
    "        par.alpha = j\n",
    "        opt = model.solve_discrete()\n",
    "        \n",
    "        relative_hours = opt.HF/opt.HM\n",
    "        print(f' sigma = {par.sigma:.2f} and alpha = {par.alpha:.2f}, H_F / H_M will be equal to: {relative_hours:.2f}')\n"
   ]
  },
  {
   "attachments": {},
   "cell_type": "markdown",
   "metadata": {},
   "source": [
    "To make it easier to read, we will present the information in the form of a table. The table will contain the same values as mentioned above, but in a more organized format. We will create the table by generating lists for the alpha values and sigma values, and then iterate over them as follows:"
   ]
  },
  {
   "cell_type": "code",
   "execution_count": 3,
   "metadata": {},
   "outputs": [
    {
     "name": "stdout",
     "output_type": "stream",
     "text": [
      "           0.5       1.0       1.5\n",
      "0.25  0.545455  0.307692  0.214286\n",
      "0.50  1.000000  1.000000  1.000000\n",
      "0.75  1.833333  3.250000  4.666667\n",
      "Note that (0.25, 0.50, and 0.75) are alpha values and (0.5, 1.0, and 1.5) are sigma values\n"
     ]
    }
   ],
   "source": [
    "#Calculating a table with optimal relative hours worked at home \n",
    "model_1 = HouseholdSpecializationModelClass()\n",
    "par = model_1.par\n",
    "sol = model_1.sol\n",
    "\n",
    "#List of paramters to solve for \n",
    "list_alpha = [0.25, 0.5, 0.75]\n",
    "list_sigma = [0.5, 1.0, 1.5]\n",
    "\n",
    "#Empty list to store the relative wage values\n",
    "table_data = []\n",
    "\n",
    "#Loop alpha values\n",
    "for alpha in list_alpha:\n",
    "    # row list for the current alpha value\n",
    "    row_data = []\n",
    "    \n",
    "    #Loop  sigma values\n",
    "    for sigma in list_sigma:\n",
    "        # parameter values\n",
    "        par.alpha = alpha\n",
    "        par.sigma = sigma\n",
    "        \n",
    "        #Solve for optimal solution\n",
    "        opt = model_1.solve_discrete()\n",
    "        \n",
    "        #Calculate relative wage and append to row list\n",
    "        relative_wage = opt.HF / opt.HM\n",
    "        row_data.append(relative_wage)\n",
    "    \n",
    "    #Append the row list to the table data list\n",
    "    table_data.append(row_data)\n",
    "\n",
    "#Create a pandas DataFrame from the table data\n",
    "table = pd.DataFrame(table_data, index=list_alpha, columns=list_sigma)\n",
    "\n",
    "#Print the table\n",
    "print(table)\n",
    "print(\"Note that (0.25, 0.50, and 0.75) are alpha values and (0.5, 1.0, and 1.5) are sigma values\")"
   ]
  },
  {
   "attachments": {},
   "cell_type": "markdown",
   "metadata": {},
   "source": [
    "Comments on the results:\n",
    "\n",
    "When $\\alpha$ increases, the relationship between $H_F$ and $H_M$ also increases (for a given value of $\\sigma$). The intuition behind this is that the relationship in productivity at home between women and men (given by $\\frac{\\alpha}{1-\\alpha}$) becomes greater as $\\alpha$ increases. In other words, when $\\alpha$ increases, women become more productive in the home and undertake more housework."
   ]
  },
  {
   "attachments": {},
   "cell_type": "markdown",
   "metadata": {},
   "source": [
    "# Question 2"
   ]
  },
  {
   "attachments": {},
   "cell_type": "markdown",
   "metadata": {},
   "source": [
    "Here, we plot the logarithmic ratio of female to male hours of household work, $\\frac{H_F}{H_M}$, against the logarithmic ratio of female to male wages, $\\frac{w_F}{w_M}$, while varying the female wage across the values: $w_F \\in [0.8, 0.9, 1.0, 1.1, 1.2]$. We accomplish this using the same model as mentioned earlier, specifically the solve_discrete function from pw.py."
   ]
  },
  {
   "cell_type": "code",
   "execution_count": 4,
   "metadata": {},
   "outputs": [
    {
     "name": "stdout",
     "output_type": "stream",
     "text": [
      "For a relative wage ratio of 0.800000 the optimal relative hours at home are (HF / HM) 1.250000\n",
      "For a relative wage ratio of 0.900000 the optimal relative hours at home are (HF / HM) 1.000000\n",
      "For a relative wage ratio of 1.000000 the optimal relative hours at home are (HF / HM) 1.000000\n",
      "For a relative wage ratio of 1.100000 the optimal relative hours at home are (HF / HM) 0.888889\n",
      "For a relative wage ratio of 1.200000 the optimal relative hours at home are (HF / HM) 0.800000\n"
     ]
    }
   ],
   "source": [
    "model_2 = HouseholdSpecializationModelClass()\n",
    "\n",
    "par = model_2.par\n",
    "\n",
    "results_q2 = []\n",
    "\n",
    "#Here we solve the model dicretly for different relationships between WF og WM \n",
    "for i in par.wF_vec:\n",
    "    par.wF = i\n",
    "    opt = model_2.solve_discrete()\n",
    "        \n",
    "    relative_hours = opt.HF/opt.HM\n",
    "    log_relative_h = np.log(relative_hours)\n",
    "    results_q2 = np.append(results_q2, log_relative_h)\n",
    "    print(f'For a relative wage ratio of {i:2f} the optimal relative hours at home are (HF / HM) {relative_hours:3f}')"
   ]
  },
  {
   "attachments": {},
   "cell_type": "markdown",
   "metadata": {},
   "source": [
    "We now construct a figure displaying the results above:"
   ]
  },
  {
   "cell_type": "code",
   "execution_count": 5,
   "metadata": {},
   "outputs": [
    {
     "data": {
      "image/png": "[encoded data removed]",
      "text/plain": [
       "<Figure size 640x480 with 1 Axes>"
      ]
     },
     "metadata": {},
     "output_type": "display_data"
    }
   ],
   "source": [
    "#Create figure\n",
    "fig = plt.figure()\n",
    "#Create plot\n",
    "ax = fig.add_subplot(1, 1, 1)\n",
    "ax.plot(np.log(par.wF_vec), results_q2, color='black', lw=1)\n",
    "ax.scatter(np.log(par.wF_vec), results_q2)\n",
    "#Alterations to figure\n",
    "ax.grid()\n",
    "ax.set_xlabel(\"log(wF/wM)\")\n",
    "ax.set_ylabel(\"log(HF/HM)\")\n",
    "ax.set_title(\"Relationship between log(HF/HM) and log(wF/wM) (DISCRETE)\")\n",
    "plt.show()"
   ]
  },
  {
   "attachments": {},
   "cell_type": "markdown",
   "metadata": {},
   "source": [
    "Comments on the result:\n",
    "\n",
    "Consistent with our expectations, the ratio of female hours worked ($H_F$) to male hours worked ($H_M$) decreases as the ratio of female wages ($W_F$) to male wages ($W_M$) increases. This implies that when a woman's wage increases relative to a man's wage, her contribution to household work diminishes. This phenomenon can be attributed to the fact that with higher wages, women have a greater incentive to engage in paid employment rather than domestic tasks. The opportunity cost of domestic work becomes higher, and women opt to allocate more time to paid work, which increases their overall utility by allowing them to earn income for consumption.\n",
    "\n",
    "It is worth noting that there is a breakpoint around $\\log(H_F/H_M)=0$ in the plot. This is due to the discretized formulation of the model's choice set, which is based on half-hour increments."
   ]
  },
  {
   "attachments": {},
   "cell_type": "markdown",
   "metadata": {},
   "source": [
    "# Question 3"
   ]
  },
  {
   "attachments": {},
   "cell_type": "markdown",
   "metadata": {},
   "source": [
    "As we are now solving the model in a continuous setting, the setup is quite similar to Q2. We will skip the part of printing the relative hours and proceed directly to plotting. We believe that visualizing the relative hours in a continuous setting is the most effective way to demonstrate the results. \n",
    "\n",
    "However, if one desires to examine the exact values, they can be easily printed using the commands #print(relative_wage) and #print(relative_hours)."
   ]
  },
  {
   "cell_type": "code",
   "execution_count": 6,
   "metadata": {},
   "outputs": [
    {
     "data": {
      "text/plain": [
       "Text(0.5, 1.0, 'Relationship between log(HF / HM) and log(wF / wM) (CONTINUOUSLY)')"
      ]
     },
     "execution_count": 6,
     "metadata": {},
     "output_type": "execute_result"
    },
    {
     "data": {
      "image/png": "[encoded data removed]",
      "text/plain": [
       "<Figure size 640x480 with 1 Axes>"
      ]
     },
     "metadata": {},
     "output_type": "display_data"
    }
   ],
   "source": [
    "#Create figure\n",
    "model_3 = HouseholdSpecializationModelClass()\n",
    "par = model_3.par\n",
    "sol = model_3.sol\n",
    "\n",
    "model_3.solve_wF_vec_2\n",
    "\n",
    "relative_hours = np.log(model_3.solve_wF_vec() )\n",
    "relative_wage = np.log(par.wF_vec / par.wM)\n",
    "\n",
    "\n",
    "fig = plt.figure()\n",
    "#Create plot\n",
    "ax = fig.add_subplot(1, 1, 1)\n",
    "ax.plot(relative_wage, relative_hours, color='black', lw=1)\n",
    "ax.scatter(relative_wage, relative_hours)\n",
    "#Alterations to figure\n",
    "ax.grid(True)\n",
    "plt.xlabel('log(WF / WM)')\n",
    "plt.ylabel('log(HF/HM)')\n",
    "ax.set_title(\"Relationship between log(HF / HM) and log(wF / wM) (CONTINUOUSLY)\")"
   ]
  },
  {
   "attachments": {},
   "cell_type": "markdown",
   "metadata": {},
   "source": [
    "In the continuous setting, we observe a similar trend as in the discrete case, with the ratio of female hours worked to male hours worked decreasing as the logarithmic ratio of female to male wages increases. However, unlike in the discrete case, there is no distinct \"breakpoint\" around $\\log(H_F/H_M)=0$ in the continuous setting. This is because agents can now make more refined and continuous choices about their time allocation, leading to a smoother relationship between the wage ratio and the hours worked ratio."
   ]
  },
  {
   "attachments": {},
   "cell_type": "markdown",
   "metadata": {},
   "source": [
    "# Question 4"
   ]
  },
  {
   "attachments": {},
   "cell_type": "markdown",
   "metadata": {},
   "source": [
    "Here, we construct an error function, $Error = (\\beta_0 - \\hat{\\beta}_0)^2 + (\\beta_1 - \\hat{\\beta}_1)^2$, and employ the numerical minimizer scipy.minimize with the Nelder-Mead method. This allows us to determine the values of $\\alpha$ and $\\sigma$ that minimize the error function.\n",
    "\n",
    "The Nelder-Mead method is an optimization algorithm that searches for the minimum of a function without requiring gradient information. It iteratively adjusts a simplex, a set of points in the parameter space, based on function evaluations to converge towards the minimum."
   ]
  },
  {
   "cell_type": "code",
   "execution_count": 7,
   "metadata": {},
   "outputs": [
    {
     "name": "stderr",
     "output_type": "stream",
     "text": [
      "c:\\Users\\Bruger\\OneDrive\\Skrivebord\\projects-2023-fmw786\\inauguralproject\\inauguralproject.py:70: RuntimeWarning: overflow encountered in double_scalars\n",
      "  inner = (1-par.alpha)*HM**((par.sigma-1)/par.sigma) +par.alpha*HF**((par.sigma-1)/par.sigma)\n"
     ]
    },
    {
     "name": "stdout",
     "output_type": "stream",
     "text": [
      "Minimizing the squared errrors gives the regression:\n",
      "    Beta0_hat =  0.40\n",
      "    Beta1_hat =  -0.10\n",
      "This gives the parameters: \n",
      "    alpha = 0.98 \n",
      "    sigma = 0.10\n",
      " With the squared error 0.00\n"
     ]
    }
   ],
   "source": [
    "model_4 = HouseholdSpecializationModelClass()\n",
    "\n",
    "model_4.estimate()"
   ]
  },
  {
   "attachments": {},
   "cell_type": "markdown",
   "metadata": {},
   "source": [
    "Comments on the results:\n",
    "\n",
    "The estimation results indicate that the estimated values closely match the Siminski and Yetsenga (2022) values. The estimated value for $\\beta_0$, $\\hat{\\beta}_0=0.40$, aligns well with the true value of $\\beta_0=0.4$. This suggests that, as a baseline, the hours worked by females ($H_F$) are larger than the hours worked by males ($H_M$).\n",
    "\n",
    "Regarding $\\beta_1$, the estimated value $\\hat{\\beta}_1=-0.10$ corresponds to the true value of $\\beta_1=-0.10$. This implies that a 10% increase in the ratio of female wages to male wages ($\\frac{w_F}{w_M}$) leads to a 1% decrease in the ratio of female hours worked to male hours worked ($\\frac{H_F}{H_M}$). In other words, for every 10% increase in the wage ratio, the relative household workload shifts by approximately 1/10th of the magnitude by which the wage ratio has changed.\n",
    "\n",
    "These results highlight the relationship between wage differentials and the division of household work, demonstrating how changes in wages can influence the distribution of domestic responsibilities between genders."
   ]
  },
  {
   "attachments": {},
   "cell_type": "markdown",
   "metadata": {},
   "source": [
    "# Question 5"
   ]
  },
  {
   "attachments": {},
   "cell_type": "markdown",
   "metadata": {},
   "source": [
    "To extend our model and account for additional disutility in male household work ($H_M$) to fit the model for $\\alpha = 0.5$, we modify the disutility function as follows:\n",
    "\n",
    "$$\n",
    "\\nu \\cdot \\left( \\frac{T_M^{1+ \\frac{1}{\\epsilon}}}{1 + \\frac{1}{\\epsilon}} + \\frac{T_F^{1+ \\frac{1}{\\epsilon}}}{1 + \\frac{1}{\\epsilon}} + \\varphi \\cdot H_M \\right)\n",
    "$$\n",
    "\n",
    "Next, we set $\\alpha = 0.5$ and perform the same regression as in Question 4. However, this time we minimize the error function with respect to the parameters $\\sigma$ and $\\varphi$.\n",
    "\n",
    "By adjusting the disutility function and including the parameter $\\varphi$, we introduce an additional factor that captures the extra disutility associated with male household work. The coefficient $\\varphi$ determines the weight of this extra disutility relative to other components in the disutility function.\n",
    "\n",
    "In the regression process, we aim to find the values of $\\sigma$ and $\\varphi$ that minimize the error function, ensuring that the model aligns with the specified $\\alpha$ value of 0.5. This adjustment allows us to explore how the inclusion of extra disutility for male household work impacts the model's fit and the overall distribution of household responsibilities."
   ]
  },
  {
   "cell_type": "code",
   "execution_count": 8,
   "metadata": {},
   "outputs": [
    {
     "name": "stdout",
     "output_type": "stream",
     "text": [
      "Minimizing the squared errrors gives the regression:\n",
      "    Beta0_hat =  0.40\n",
      "    Beta1_hat =  -0.10\n",
      "This gives the parameters: \n",
      "    Fixed: alpha = 0.50 \n",
      "    sigma = 0.20 \n",
      "    phi = 55.95\n",
      " With the squared error 0.00\n"
     ]
    }
   ],
   "source": [
    "model_5 = HouseholdSpecializationModelClass()\n",
    "\n",
    "# fix alpha at 0.5\n",
    "par.alpha = 0.5\n",
    "\n",
    "model_5.estimate_5()"
   ]
  },
  {
   "attachments": {},
   "cell_type": "markdown",
   "metadata": {},
   "source": [
    "In our attempts to fit the model with $\\alpha = 0.5$, while keeping the same $\\beta$ values, we were able to minimize the error function by setting $\\sigma = 0.20$ and $\\varphi = 55.95$. However, we note that the value of $\\varphi$ is unrealistically high, as it places an excessive amount of disutility on male household work. \n",
    "\n",
    "These findings suggest that in order to fit the model with $\\alpha = 0.5$, we had to make unrealistic assumptions about the parameters. The high value of $\\varphi$ indicates an exaggerated level of disutility specifically assigned to male household work. Such an assumption may not align with real-world scenarios and expectations.\n",
    "\n",
    "This highlights the importance of considering realistic parameter values and the implications they have on the model's fit and interpretation. While we were able to achieve the desired value of $\\alpha$, the associated parameter assumptions deviate from reasonable expectations. It suggests that fitting the model to a specific value of $\\alpha$ may require a different extension to the disutility function (or other parts of the model) than the one we implemented."
   ]
  },
  {
   "attachments": {},
   "cell_type": "markdown",
   "metadata": {},
   "source": [
    "# Conclusion"
   ]
  },
  {
   "attachments": {},
   "cell_type": "markdown",
   "metadata": {},
   "source": [
    "In this assignment, we examined the relationship between gender, wages, and the distribution of household work using a model with parameterized utility functions. We started by considering the impact of wage differentials on the allocation of domestic responsibilities.\n",
    "\n",
    "Through regression analysis and numerical minimization techniques such as the Nelder-Mead method, we estimated the parameters and observed their effects on the model's performance. We found that an increase in the ratio of female to male wages led to a decrease in the ratio of female to male hours of household work, reflecting a shift in the division of domestic labor.\n",
    "\n",
    "Moreover, we explored the limitations and challenges of fitting the model to specific values of $\\alpha$, highlighting the need for careful consideration of realistic parameter assumptions. We encountered instances where achieving the desired value of $\\alpha$ required unrealistic parameter values.\n",
    "\n",
    "Overall, this assignment shed light on the complex dynamics between gender, wages, and household work distribution. By incorporating economic principles and optimization techniques, we gained insights into how wage differentials impact individuals' decision-making regarding work and domestic responsibilities."
   ]
  }
 ],
 "metadata": {
  "kernelspec": {
   "display_name": "base",
   "language": "python",
   "name": "python3"
  },
  "language_info": {
   "codemirror_mode": {
    "name": "ipython",
    "version": 3
   },
   "file_extension": ".py",
   "mimetype": "text/x-python",
   "name": "python",
   "nbconvert_exporter": "python",
   "pygments_lexer": "ipython3",
   "version": "3.9.16"
  },
  "orig_nbformat": 4,
  "vscode": {
   "interpreter": {
    "hash": "11631d3d93f10103f216a90b530d411d24f2a799ffced0e9ac835eaee7d54492"
   }
  }
 },
 "nbformat": 4,
 "nbformat_minor": 2
}
