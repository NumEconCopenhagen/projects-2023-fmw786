{
 "cells": [
  {
   "attachments": {},
   "cell_type": "markdown",
   "metadata": {},
   "source": [
    "_____________________________________________________________________________________________\n",
    "\n",
    "Her er hele vores Python-fil:\n",
    "_____________________________________________________________________________________________"
   ]
  },
  {
   "cell_type": "code",
   "execution_count": 34,
   "metadata": {},
   "outputs": [],
   "source": [
    "from types import SimpleNamespace\n",
    "\n",
    "import numpy as np\n",
    "from scipy import optimize\n",
    "\n",
    "import pandas as pd \n",
    "import matplotlib.pyplot as plt\n",
    "\n",
    "class HouseholdSpecializationModelClass:\n",
    "\n",
    "    def __init__(self):\n",
    "        \"\"\" setup model \"\"\"\n",
    "\n",
    "        # a. create namespaces\n",
    "        par = self.par = SimpleNamespace()\n",
    "        sol = self.sol = SimpleNamespace()\n",
    "\n",
    "        # b. preferences\n",
    "        par.rho = 2.0\n",
    "        par.nu = 0.001\n",
    "        par.epsilon = 1.0\n",
    "        par.omega = 0.5 \n",
    "\n",
    "        # c. household production\n",
    "        par.alpha = 0.5\n",
    "        par.sigma = 1.0\n",
    "\n",
    "        # d. wages\n",
    "        par.wM = 1.0\n",
    "        par.wF = 1.0\n",
    "        par.wF_vec = np.linspace(0.8,1.2,5)\n",
    "\n",
    "        # e. targets\n",
    "        par.beta0_target = 0.4\n",
    "        par.beta1_target = -0.1\n",
    "\n",
    "        # f. solution\n",
    "        sol.LM_vec = np.zeros(par.wF_vec.size)\n",
    "        sol.HM_vec = np.zeros(par.wF_vec.size)\n",
    "        sol.LF_vec = np.zeros(par.wF_vec.size)\n",
    "        sol.HF_vec = np.zeros(par.wF_vec.size)\n",
    "\n",
    "        sol.beta0 = np.nan\n",
    "        sol.beta1 = np.nan\n",
    "\n",
    "    def calc_utility(self,LM,HM,LF,HF):\n",
    "        \"\"\" calculate utility \"\"\"\n",
    "\n",
    "        par = self.par\n",
    "        sol = self.sol\n",
    "\n",
    "        # a. consumption of market goods\n",
    "        C = par.wM*LM + par.wF*LF\n",
    "\n",
    "        # b. home production\n",
    "        H = np.nan\n",
    "\n",
    "        power = (par.sigma - 1)/par.sigma\n",
    "\n",
    "        if par.sigma == 1:\n",
    "            H = HM**(1-par.alpha)*HF**par.alpha\n",
    "        elif par.sigma == 0:\n",
    "            H = np.fmin(HM, HF)\n",
    "        else: \n",
    "            H = (  (1-par.alpha)  * (HM+0.00000000001) **(power) + par.alpha * (HF+0.0000000001)**(power)  )**(1/power)\n",
    "\n",
    "        # c. total consumption utility\n",
    "        Q = C**par.omega*H**(1-par.omega)\n",
    "        utility = np.fmax(Q,1e-8)**(1-par.rho)/(1-par.rho)\n",
    "\n",
    "        # d. disutlity of work\n",
    "        epsilon_ = 1+1/par.epsilon\n",
    "        TM = LM+HM\n",
    "        TF = LF+HF\n",
    "        disutility = par.nu*(TM**epsilon_/epsilon_+TF**epsilon_/epsilon_)\n",
    "        \n",
    "        return utility - disutility\n",
    "\n",
    "    def solve_discrete(self,do_print=False):\n",
    "        \"\"\" solve model discretely \"\"\"\n",
    "        \n",
    "        par = self.par\n",
    "        sol = self.sol\n",
    "        opt = SimpleNamespace()\n",
    "        \n",
    "        # a. all possible choices\n",
    "        x = np.linspace(0,24,49)\n",
    "        LM,HM,LF,HF = np.meshgrid(x,x,x,x) # all combinations\n",
    "    \n",
    "        LM = LM.ravel() # vector\n",
    "        HM = HM.ravel()\n",
    "        LF = LF.ravel()\n",
    "        HF = HF.ravel()\n",
    "\n",
    "        # b. calculate utility\n",
    "        u = self.calc_utility(LM,HM,LF,HF)\n",
    "    \n",
    "        # c. set to minus infinity if constraint is broken\n",
    "        I = (LM+HM > 24) | (LF+HF > 24) # | is \"or\"\n",
    "        u[I] = -np.inf\n",
    "    \n",
    "        # d. find maximizing argument\n",
    "        j = np.argmax(u)\n",
    "        \n",
    "        opt.LM = LM[j]\n",
    "        opt.HM = HM[j]\n",
    "        opt.LF = LF[j]\n",
    "        opt.HF = HF[j]\n",
    "\n",
    "        # e. print\n",
    "        if do_print:\n",
    "            for k,v in opt.__dict__.items():\n",
    "                print(f'{k} = {v:6.4f}')\n",
    "\n",
    "        return opt\n",
    "\n",
    "\n",
    "\n",
    "    def solve(self,do_print=False):\n",
    "        \"\"\" solve model continously \"\"\"\n",
    "\n",
    "        par = self.par\n",
    "        sol = self.sol\n",
    "        opt = SimpleNamespace()\n",
    "    \n",
    "    # a. objective function \n",
    "        def obj(x):\n",
    "            LM, HM, LF, HF = x\n",
    "            return - self.calc_utility(LM, HM, LF, HF)\n",
    "    \n",
    "    #b. Constraints and Bounds (to minimize) \n",
    "        def constraints(x):\n",
    "            LM, HM, LF, HF = x\n",
    "            return [24 - LM-HM, 24 -LF-HF]\n",
    "    \n",
    "\n",
    "        constraints = ({'type': 'ineq', 'fun':constraints}) \n",
    "        bounds = ((0,24), (0,24), (0,24), (0,24))\n",
    "\n",
    "        initial_guess = [6,6,6,6]\n",
    "\n",
    "    #c. Solver \n",
    "        solution = optimize.minimize(obj, initial_guess, method=\"SLSQP\", bounds=bounds, constraints=constraints, tol = 0.000000001)\n",
    "\n",
    "        opt.LM = solution.x[0]\n",
    "        opt.HM = solution.x[1]\n",
    "        opt.LF = solution.x[2]\n",
    "        opt.HF = solution.x[3]\n",
    "        \n",
    "        return opt\n",
    "\n",
    "\n",
    "\n",
    "\n",
    "\n",
    "\n",
    "    def solve_wF_vec(self,discrete=False):\n",
    "        \"\"\" solve model for vector of female wages \"\"\"\n",
    "        \n",
    "        par = self.par\n",
    "        sol = self.sol\n",
    "        \n",
    "        results = np.zeros(par.wF_vec.size)\n",
    "\n",
    "        for i, wF in enumerate(par.wF_vec):\n",
    "            par.wF = wF\n",
    "            \n",
    "            opt = self.solve()\n",
    "            \n",
    "            sol.HM = opt.HM\n",
    "            sol.HF = opt.HF\n",
    "            results[i] = sol.HF/sol.HM\n",
    "            #print(f' the optimal male hours at home and at the job are {opt.HM:2f} and {opt.LM:2f} while for the female {opt.HF:2f} and {opt.LF:2f}')\n",
    "\n",
    "        sol.results = results\n",
    "\n",
    "        return results\n",
    "\n",
    "        #return opt.LM, opt.HM, opt.LF, opt.HF \n",
    "\n",
    "\n",
    "    def solve_wF_vec_2(self,discrete=False):\n",
    "        \"\"\" solve model for vector of female wages \"\"\"\n",
    "        \n",
    "        par = self.par\n",
    "        sol = self.sol\n",
    "\n",
    "        for i, wF in enumerate(par.wF_vec):\n",
    "            par.wF = wF\n",
    "            \n",
    "            opt = self.solve()\n",
    "\n",
    "            sol.LM_vec[i] = opt.LM\n",
    "            sol.HM_vec[i] = opt.HM\n",
    "            sol.LF_vec[i] = opt.LF\n",
    "            sol.HF_vec[i] = opt.HF\n",
    "\n",
    "        return sol \n",
    "\n",
    "\n",
    "\n",
    "    \n",
    "    def run_regression(self):\n",
    "        \"\"\" run regression \"\"\"\n",
    "        \n",
    "        #Setting up parameters\n",
    "        par = self.par\n",
    "        sol = self.sol\n",
    "        \n",
    "        #Running regression\n",
    "        x = np.log(par.wF_vec)\n",
    "        y = np.log(sol.HF_vec/sol.HM_vec)\n",
    "        A = np.vstack([np.ones(x.size),x]).T\n",
    "        sol.beta0,sol.beta1 = np.linalg.lstsq(A,y,rcond=None)[0]\n",
    "        return sol \n",
    "\n",
    "\n",
    "\n",
    "    def estimate(self,alpha=None,sigma=None):\n",
    "        \"\"\" estimate alpha and sigma \"\"\"\n",
    "\n",
    "        pass"
   ]
  },
  {
   "attachments": {},
   "cell_type": "markdown",
   "metadata": {},
   "source": [
    "_____________________________________________________________________________________________\n",
    "\n",
    "Importer nødvendige pakker:\n",
    "_____________________________________________________________________________________________"
   ]
  },
  {
   "cell_type": "code",
   "execution_count": 35,
   "metadata": {},
   "outputs": [
    {
     "name": "stdout",
     "output_type": "stream",
     "text": [
      "The autoreload extension is already loaded. To reload it, use:\n",
      "  %reload_ext autoreload\n"
     ]
    }
   ],
   "source": [
    "import numpy as np\n",
    "from types import SimpleNamespace\n",
    "\n",
    "import numpy as np\n",
    "from scipy import optimize\n",
    "\n",
    "import pandas as pd \n",
    "import matplotlib.pyplot as plt\n",
    "\n",
    "# autoreload modules when code is run. Otherwise, python will not see recent changes. \n",
    "%load_ext autoreload\n",
    "%autoreload 2\n",
    "\n"
   ]
  },
  {
   "attachments": {},
   "cell_type": "markdown",
   "metadata": {},
   "source": [
    "_____________________________________________________________________________________________\n",
    "\n",
    "Question 1\n",
    "_____________________________________________________________________________________________"
   ]
  },
  {
   "cell_type": "code",
   "execution_count": 36,
   "metadata": {},
   "outputs": [
    {
     "name": "stdout",
     "output_type": "stream",
     "text": [
      " For sigma = 0.50 and alpha = 0.25, the relative hours in a discrete setting at home are: 0.55\n",
      " For sigma = 0.50 and alpha = 0.50, the relative hours in a discrete setting at home are: 1.00\n",
      " For sigma = 0.50 and alpha = 0.75, the relative hours in a discrete setting at home are: 1.83\n",
      " For sigma = 1.00 and alpha = 0.25, the relative hours in a discrete setting at home are: 0.31\n",
      " For sigma = 1.00 and alpha = 0.50, the relative hours in a discrete setting at home are: 1.00\n",
      " For sigma = 1.00 and alpha = 0.75, the relative hours in a discrete setting at home are: 3.25\n",
      " For sigma = 1.50 and alpha = 0.25, the relative hours in a discrete setting at home are: 0.21\n",
      " For sigma = 1.50 and alpha = 0.50, the relative hours in a discrete setting at home are: 1.00\n",
      " For sigma = 1.50 and alpha = 0.75, the relative hours in a discrete setting at home are: 4.67\n"
     ]
    }
   ],
   "source": [
    "model = HouseholdSpecializationModelClass()\n",
    "\n",
    "par = model.par\n",
    "\n",
    "list_alpha = [0.25, 0.5, 0.75]\n",
    "list_sigma = [0.5, 1.0, 1.5]\n",
    "\n",
    "#Kode som løser det forholdet mellem timer for de forskellige værder af alpha og sigma:\n",
    "\n",
    "for i in list_sigma:\n",
    "    par.sigma = i\n",
    "    for j in list_alpha:\n",
    "        par.alpha = j\n",
    "        opt = model.solve_discrete()\n",
    "        \n",
    "        relative_hours = opt.HF/opt.HM\n",
    "        print(f' For sigma = {par.sigma:.2f} and alpha = {par.alpha:.2f}, the relative hours in a discrete setting at home are: {relative_hours:.2f}')\n"
   ]
  },
  {
   "attachments": {},
   "cell_type": "markdown",
   "metadata": {},
   "source": [
    "For at gøre det mere overskueligt laver vi en tabel. Det er de samme værdier som ovenfor, som vi rapporterer:"
   ]
  },
  {
   "cell_type": "code",
   "execution_count": 37,
   "metadata": {},
   "outputs": [
    {
     "name": "stdout",
     "output_type": "stream",
     "text": [
      "           0.5       1.0       1.5\n",
      "0.25  0.545455  0.307692  0.214286\n",
      "0.50  1.000000  1.000000  1.000000\n",
      "0.75  1.833333  3.250000  4.666667\n"
     ]
    }
   ],
   "source": [
    "#Calculating a table with optimal relative hours worked at home \n",
    "model_1 = HouseholdSpecializationModelClass()\n",
    "par = model_1.par\n",
    "sol = model_1.sol\n",
    "\n",
    "#List of paramters to solve for \n",
    "list_alpha = [0.25, 0.5, 0.75]\n",
    "list_sigma = [0.5, 1.0, 1.5]\n",
    "\n",
    "# empty list to store the relative wage values\n",
    "table_data = []\n",
    "\n",
    "# loop alpha values\n",
    "for alpha in list_alpha:\n",
    "    # row list for the current alpha value\n",
    "    row_data = []\n",
    "    \n",
    "    # loop  sigma values\n",
    "    for sigma in list_sigma:\n",
    "        # parameter values\n",
    "        par.alpha = alpha\n",
    "        par.sigma = sigma\n",
    "        \n",
    "        # solve for optimal solution\n",
    "        opt = model_1.solve_discrete()\n",
    "        \n",
    "        # calculate relative wage and append to row list\n",
    "        relative_wage = opt.HF / opt.HM\n",
    "        row_data.append(relative_wage)\n",
    "    \n",
    "    # append the row list to the table data list\n",
    "    table_data.append(row_data)\n",
    "\n",
    "# create a pandas DataFrame from the table data\n",
    "table = pd.DataFrame(table_data, index=list_alpha, columns=list_sigma)\n",
    "\n",
    "# print the table\n",
    "print(table)"
   ]
  },
  {
   "attachments": {},
   "cell_type": "markdown",
   "metadata": {},
   "source": [
    "Kommentarer til resultat:\n",
    "Når alpha stiger kommer forholdet mellem HF og HM til at stige. Det forventes også, da funktionen H er stigende i alpha for alle værdier af sigma in {0.5, 1.0, 1.5}.\n"
   ]
  },
  {
   "attachments": {},
   "cell_type": "markdown",
   "metadata": {},
   "source": [
    "_____________________________________________________________________________________________\n",
    "\n",
    "Question 2\n",
    "_____________________________________________________________________________________________"
   ]
  },
  {
   "cell_type": "code",
   "execution_count": 38,
   "metadata": {},
   "outputs": [
    {
     "name": "stdout",
     "output_type": "stream",
     "text": [
      "For a relative wage ratio of 0.800000 the optimal relative hours at home are (HF/HM) 1.250000\n",
      "For a relative wage ratio of 0.900000 the optimal relative hours at home are (HF/HM) 1.000000\n",
      "For a relative wage ratio of 1.000000 the optimal relative hours at home are (HF/HM) 1.000000\n",
      "For a relative wage ratio of 1.100000 the optimal relative hours at home are (HF/HM) 0.888889\n",
      "For a relative wage ratio of 1.200000 the optimal relative hours at home are (HF/HM) 0.800000\n"
     ]
    }
   ],
   "source": [
    "model_2 = HouseholdSpecializationModelClass()\n",
    "\n",
    "par = model_2.par\n",
    "\n",
    "results_q2 = []\n",
    "\n",
    "#Løser modellen diskret for forskellige forhold mellem WF og WM\n",
    "for i in par.wF_vec:\n",
    "    par.wF = i\n",
    "    opt = model_2.solve_discrete()\n",
    "        \n",
    "    relative_hours = opt.HF/opt.HM\n",
    "    log_relative_h = np.log(relative_hours)\n",
    "    results_q2 = np.append(results_q2, log_relative_h)\n",
    "    print(f'For a relative wage ratio of {i:2f} the optimal relative hours at home are (HF/HM) {relative_hours:3f}')"
   ]
  },
  {
   "attachments": {},
   "cell_type": "markdown",
   "metadata": {},
   "source": [
    "Herunder kode, som laver en figur med resultaterne ovenfor:"
   ]
  },
  {
   "cell_type": "code",
   "execution_count": 39,
   "metadata": {},
   "outputs": [
    {
     "data": {
      "image/png": "[encoded data removed]",
      "text/plain": [
       "<Figure size 640x480 with 1 Axes>"
      ]
     },
     "metadata": {},
     "output_type": "display_data"
    }
   ],
   "source": [
    "# create figure\n",
    "fig = plt.figure()\n",
    "# create plot\n",
    "ax = fig.add_subplot(1, 1, 1)\n",
    "ax.plot(np.log(par.wF_vec), results_q2, color='black', lw=2)\n",
    "ax.scatter(np.log(par.wF_vec), results_q2)\n",
    "# alterations to figure\n",
    "ax.grid()\n",
    "ax.set_xlabel(\"log(wF/wM)\")\n",
    "ax.set_ylabel(\"log(HF/HM)\")\n",
    "ax.set_title(\"Log til forholdet mellem HF og HM mod log til forholdet mellem WF og WM (DISKRET)\")\n",
    "plt.show()"
   ]
  },
  {
   "attachments": {},
   "cell_type": "markdown",
   "metadata": {},
   "source": [
    "Kommentarer til resultatet:\n",
    "I tråd med vores forventinger kommer forholdet HF/HM til at falde, når forholdet WF/WM stiger. Altså når kvindens løn stiger, så vil hendes hjemmelige produktion falde. Det sker fordi kvinden nu kan tjene flere penge ved at arbejde og alternativomkostningen da er større ved husligt arbejde, og den samlede nytte stiger da, hvis kvinden arbejder mere og får løn (som kan bruges på forbrug) i stedet for at producere hjemmeligt arbejde.\n",
    "Knækket omkring log(HF/HM)=0 kommer, fordi modellen her er formuleret diskret."
   ]
  },
  {
   "attachments": {},
   "cell_type": "markdown",
   "metadata": {},
   "source": [
    "Question 3"
   ]
  },
  {
   "cell_type": "code",
   "execution_count": 40,
   "metadata": {},
   "outputs": [
    {
     "name": "stdout",
     "output_type": "stream",
     "text": [
      "For a relative wage ratio of 0.800000 the optimal relative hours at home are (HF/HM) 1.250018\n",
      "For a relative wage ratio of 0.900000 the optimal relative hours at home are (HF/HM) 1.111080\n",
      "For a relative wage ratio of 1.000000 the optimal relative hours at home are (HF/HM) 1.000000\n",
      "For a relative wage ratio of 1.100000 the optimal relative hours at home are (HF/HM) 0.909123\n",
      "For a relative wage ratio of 1.200000 the optimal relative hours at home are (HF/HM) 0.833341\n",
      "[ 2.23157756e-01  1.05332807e-01 -2.22044605e-16 -9.52743339e-02\n",
      " -1.82312759e-01]\n",
      "[-0.22314355 -0.10536052  0.          0.09531018  0.18232156]\n"
     ]
    }
   ],
   "source": [
    "model_3 = HouseholdSpecializationModelClass()\n",
    "\n",
    "par = model_3.par\n",
    "\n",
    "results_q3 = []\n",
    "\n",
    "#Løser modellen kontinuerligt for forskellige forhold mellem WF og WM\n",
    "for i in par.wF_vec:\n",
    "    par.wF = i\n",
    "    opt = model_3.solve()\n",
    "        \n",
    "    relative_hours = opt.HF/opt.HM\n",
    "    log_relative_h = np.log(relative_hours)\n",
    "    results_q3 = np.append(results_q3, log_relative_h)\n",
    "    print(f'For a relative wage ratio of {i:2f} the optimal relative hours at home are (HF/HM) {relative_hours:3f}')\n",
    "\n",
    "print(results_q3)\n",
    "print(np.log(par.wF_vec))\n"
   ]
  },
  {
   "cell_type": "code",
   "execution_count": 41,
   "metadata": {},
   "outputs": [],
   "source": [
    "def solve_wF_vec(self,discrete=False):\n",
    "    \"\"\" solve model for vector of female wages \"\"\"\n",
    "    par = self.par\n",
    "    sol = self.sol\n",
    "    for it, w in enumerate(par.wF_vac):\n",
    "        par.wF = w\n",
    "        if discrete == True:\n",
    "            res = self.solve_discrete()\n",
    "        else:\n",
    "            res = self.solve()\n",
    "        sol.LM_vec[it] = res.LM\n",
    "        sol.LF_vec[it] = res.LF\n",
    "        sol.HM_vec[it] = res.HM\n",
    "        sol.HF_vec[it] = res.HF\n"
   ]
  },
  {
   "attachments": {},
   "cell_type": "markdown",
   "metadata": {},
   "source": [
    "Igen laver vi en figur for at vise resultaterne:"
   ]
  },
  {
   "cell_type": "code",
   "execution_count": 42,
   "metadata": {},
   "outputs": [
    {
     "name": "stdout",
     "output_type": "stream",
     "text": [
      "[-0.22314355 -0.10536052  0.          0.09531018  0.18232156]\n",
      "[ 2.23157756e-01  1.05332807e-01 -2.22044605e-16 -9.52743339e-02\n",
      " -1.82312759e-01]\n"
     ]
    },
    {
     "data": {
      "image/png": "[encoded data removed]",
      "text/plain": [
       "<Figure size 640x480 with 1 Axes>"
      ]
     },
     "metadata": {},
     "output_type": "display_data"
    }
   ],
   "source": [
    "# create figure\n",
    "model_3 = HouseholdSpecializationModelClass()\n",
    "par = model_3.par\n",
    "\n",
    "relative_hours = np.log(model_3.solve_wF_vec() )\n",
    "\n",
    "relative_wage = np.log(par.wF_vec / par.wM)\n",
    "print(relative_wage)\n",
    "print(relative_hours)\n",
    "\n",
    "\n",
    "fig = plt.figure()\n",
    "# create plot\n",
    "ax = fig.add_subplot(1, 1, 1)\n",
    "ax.plot(relative_wage, relative_hours, color='black', lw=2)\n",
    "ax.scatter(relative_wage, relative_hours)\n",
    "# alterations to figure\n",
    "ax.grid(True)\n",
    "plt.xlabel('$\\log(WF / WM)$')\n",
    "plt.ylabel('$\\log(HF/HM)$')\n",
    "ax.set_title(\"Log til forholdet mellem HF og HM mod log til forholdet mellem WF og WM (KONTINUERLIGT)\")\n",
    "plt.show()"
   ]
  },
  {
   "cell_type": "markdown",
   "metadata": {},
   "source": [
    "Kommentarer til resultatet:\n",
    "Vi ser (naturligvis) samme tendens som i det diskrete tilfælde. Der er dog ikke noget \"knæk\" omkring log(HF/HM)=0, da agenten nu kan vælge sin tid kontinuerligt i stedet for et diskret. "
   ]
  },
  {
   "attachments": {},
   "cell_type": "markdown",
   "metadata": {},
   "source": [
    "_____________________________________________________________________________________________\n",
    "\n",
    "Question 4\n",
    "_____________________________________________________________________________________________"
   ]
  },
  {
   "cell_type": "code",
   "execution_count": 43,
   "metadata": {},
   "outputs": [
    {
     "name": "stdout",
     "output_type": "stream",
     "text": [
      "Wht the inital values of alpha and sigma the regression gives the coefisients:\n",
      "Beta0_hat =  0.00\n",
      "Beta1_hat =  -1.00\n"
     ]
    },
    {
     "data": {
      "text/plain": [
       "[<matplotlib.lines.Line2D at 0x7f7b99dfd2b0>]"
      ]
     },
     "execution_count": 43,
     "metadata": {},
     "output_type": "execute_result"
    },
    {
     "data": {
      "image/png": "[encoded data removed]",
      "text/plain": [
       "<Figure size 640x480 with 1 Axes>"
      ]
     },
     "metadata": {},
     "output_type": "display_data"
    }
   ],
   "source": [
    "#Running regresion for the current alpha / sigma value \n",
    "model_4 =HouseholdSpecializationModelClass()\n",
    "\n",
    "#Unpacking \n",
    "par = model_4.par\n",
    "sol = model_4.sol\n",
    "\n",
    "\n",
    "\n",
    "#Solving for relative wage\n",
    "model_4.solve_wF_vec_2()\n",
    "#Running regression \n",
    "model_4.run_regression()\n",
    "\n",
    "\n",
    "print (f'Wht the inital values of alpha and sigma the regression gives the coefisients:')\n",
    "print(f\"Beta0_hat =  {sol.beta0:.2f}\")\n",
    "print(f\"Beta1_hat =  {sol.beta1:.2f}\")\n",
    "\n",
    "\n",
    "#Unødvendigt \n",
    "x = np.log(par.wF_vec)\n",
    "y = np.log(sol.HF_vec/sol.HM_vec)\n",
    "y_hat = sol.beta0 + sol.beta1 * x\n",
    "\n",
    "\n",
    "plt.plot(y_hat, x)"
   ]
  },
  {
   "attachments": {},
   "cell_type": "markdown",
   "metadata": {},
   "source": [
    "Herover et plot af det som Siminski og Yetsenga (2022) fandt"
   ]
  },
  {
   "cell_type": "code",
   "execution_count": 44,
   "metadata": {},
   "outputs": [
    {
     "name": "stdout",
     "output_type": "stream",
     "text": [
      "Minimizing the squared errrors gives the regressio:\n",
      "    Beta0_hat =  0.42\n",
      "    Beta1_hat =  -0.99\n",
      "This gives the parameters: \n",
      "    alpha = 0.60 \n",
      "    beta = 0.95\n",
      " With the squared error 0.80\n"
     ]
    }
   ],
   "source": [
    "model_4 =HouseholdSpecializationModelClass()\n",
    "\n",
    "par = model_4.par\n",
    "sol = model_4.sol\n",
    "\n",
    "def obj(par_2):\n",
    "    par.alpha, par.beta = par_2\n",
    "    model_4.solve_wF_vec_2()\n",
    "    model_4.run_regression()\n",
    "\n",
    "    err =  (par.beta0_target - sol.beta0)**2 + (par.beta1_target-sol.beta1)**2\n",
    "    return err\n",
    "    #return (par.beta0_target - sol.beta0)**2 + (par.beta1_target-sol.beta1)**2\n",
    "\n",
    "bounds = [(0, 1),(0.01, 2)]\n",
    "#bounds = [(0.5,0.99),(0.01, 0.3)]\n",
    "initial_guess = [0.5, 1]\n",
    "#initial_guess = [0.8, 0.1]\n",
    "\n",
    "\n",
    "reg_opt = optimize.minimize(obj, initial_guess, method='Nelder-Mead', bounds=bounds, tol = 0.000000001) #Hvis tolerancen er høj, accepterer den løsninger som kun er tæt på at være rigtige\n",
    "\n",
    "\n",
    "\n",
    "alpha_hat = reg_opt.x[0]\n",
    "sigma_hat = reg_opt.x[1]\n",
    "\n",
    "err = obj(reg_opt.x)\n",
    "\n",
    "\n",
    "\n",
    "print (f'Minimizing the squared errrors gives the regressio:')\n",
    "print(f\"    Beta0_hat =  {sol.beta0:.2f}\")\n",
    "print(f\"    Beta1_hat =  {sol.beta1:.2f}\")\n",
    "\n",
    "print(f'This gives the parameters: \\n    alpha = {alpha_hat:.2f} \\n    beta = {sigma_hat:.2f}')\n",
    "print(f' With the squared error {err:.2f}')"
   ]
  },
  {
   "attachments": {},
   "cell_type": "markdown",
   "metadata": {},
   "source": [
    "Her en estimation af, hvordan det ser ud i vores tilfælde. Beta0_hat=0.42 passer godt med Beta0=0.4 og Beta1_hat=-0.99 passer knap så godt med Beta1=-0.1."
   ]
  },
  {
   "attachments": {},
   "cell_type": "markdown",
   "metadata": {},
   "source": [
    "Kommentarer til resultater:\n",
    "Beta0_hat=0.42 indikrerer, at HF som udgangspunkt er større end HM. Altså at kvinder laver mere husligt arbejde end mænd som udgangspunkt.\n",
    "\n",
    "For Beta1_hat=-0.99\n",
    "Hvis man arbejder med Beta1_hat=-0.99 (som i modellen i opgaven) vil en stigning i forholdet WF/WM på 10% give anledning til at forholdet i HF/HM falder med 9,9% (altså næsten 1 til 1). Så hvis kvinden begynder at tjene mere, så skifter den relative arbejdsbyrde i hjemmet med sammen forhold, som det lønforholdet er blevet ændret med.\n",
    "\n",
    "For Beta1=-0.1\n",
    "Hvis man arbejder med Beta1=-0.1 (som i Siminski and Yetsenga) vil en stigning i forholdet WF/WM på 10% give anledning til at forholdet i HF/HM falder med 1% (altså 1 til 10). Så hvis kvinden begynder at tjene mere, så skifter den relative arbejdsbyrde i hjemmet med 1/10 af det forhold, som lønforholdet er blevet ændret med.\n"
   ]
  }
 ],
 "metadata": {
  "kernelspec": {
   "display_name": "base",
   "language": "python",
   "name": "python3"
  },
  "language_info": {
   "codemirror_mode": {
    "name": "ipython",
    "version": 3
   },
   "file_extension": ".py",
   "mimetype": "text/x-python",
   "name": "python",
   "nbconvert_exporter": "python",
   "pygments_lexer": "ipython3",
   "version": "3.9.13"
  },
  "orig_nbformat": 4,
  "vscode": {
   "interpreter": {
    "hash": "11631d3d93f10103f216a90b530d411d24f2a799ffced0e9ac835eaee7d54492"
   }
  }
 },
 "nbformat": 4,
 "nbformat_minor": 2
}
